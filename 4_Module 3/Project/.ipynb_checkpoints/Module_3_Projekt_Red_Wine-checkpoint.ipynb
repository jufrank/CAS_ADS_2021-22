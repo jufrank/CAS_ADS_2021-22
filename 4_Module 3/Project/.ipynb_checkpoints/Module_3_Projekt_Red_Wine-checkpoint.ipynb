{
 "cells": [
  {
   "cell_type": "markdown",
   "id": "91a67208",
   "metadata": {},
   "source": [
    "# Module 3 Project: Red wine quality"
   ]
  },
  {
   "cell_type": "markdown",
   "id": "193a89a3",
   "metadata": {},
   "source": [
    "## Load libraries"
   ]
  },
  {
   "cell_type": "code",
   "execution_count": 49,
   "id": "dd524de1",
   "metadata": {},
   "outputs": [],
   "source": [
    "#General libraries\n",
    "import numpy as np\n",
    "import pandas as pd\n",
    "import scipy.stats\n",
    "import math\n",
    "import matplotlib.pyplot as plt\n",
    "\n",
    "#sklearn\n",
    "from sklearn import linear_model\n",
    "from sklearn import tree\n",
    "from sklearn import ensemble\n",
    "\n",
    "from sklearn.datasets import make_blobs\n",
    "from sklearn.model_selection import train_test_split\n",
    "from sklearn import metrics\n",
    "from sklearn.inspection import permutation_importance\n",
    "\n",
    "from statsmodels.api import OLS"
   ]
  },
  {
   "cell_type": "markdown",
   "id": "3cbe4be7",
   "metadata": {},
   "source": [
    "## Load the data\n",
    "### Description:<br>\n",
    "<b>Input variables (based on physicochemical tests):</b><br>\n",
    "1 - fixed acidity<br>\n",
    "2 - volatile acidity<br>\n",
    "3 - citric acid<br>\n",
    "4 - residual sugar<br>\n",
    "5 - chlorides<br>\n",
    "6 - free sulfur dioxide<br>\n",
    "7 - total sulfur dioxide<br>\n",
    "8 - density<br>\n",
    "9 - pH<br>\n",
    "10 - sulphates<br>\n",
    "11 - alcohol<br>\n",
    "<b>Output variable (based on sensory data):</b><br>\n",
    "12 - quality (score between 0 and 10)<br>"
   ]
  },
  {
   "cell_type": "code",
   "execution_count": 17,
   "id": "a9cd8448",
   "metadata": {},
   "outputs": [
    {
     "name": "stdout",
     "output_type": "stream",
     "text": [
      "<class 'pandas.core.frame.DataFrame'>\n",
      "RangeIndex: 1599 entries, 0 to 1598\n",
      "Data columns (total 12 columns):\n",
      " #   Column                Non-Null Count  Dtype  \n",
      "---  ------                --------------  -----  \n",
      " 0   fixed acidity         1599 non-null   float64\n",
      " 1   volatile acidity      1599 non-null   float64\n",
      " 2   citric acid           1599 non-null   float64\n",
      " 3   residual sugar        1599 non-null   float64\n",
      " 4   chlorides             1599 non-null   float64\n",
      " 5   free sulfur dioxide   1599 non-null   float64\n",
      " 6   total sulfur dioxide  1599 non-null   float64\n",
      " 7   density               1599 non-null   float64\n",
      " 8   pH                    1599 non-null   float64\n",
      " 9   sulphates             1599 non-null   float64\n",
      " 10  alcohol               1599 non-null   float64\n",
      " 11  quality               1599 non-null   int64  \n",
      "dtypes: float64(11), int64(1)\n",
      "memory usage: 150.0 KB\n"
     ]
    }
   ],
   "source": [
    "data = pd.read_csv('winequality-red.csv')  \n",
    "data\n",
    "data.info()"
   ]
  },
  {
   "cell_type": "markdown",
   "id": "801b2df2",
   "metadata": {},
   "source": [
    "# Comparison of regression models"
   ]
  },
  {
   "cell_type": "markdown",
   "id": "b019e57e",
   "metadata": {},
   "source": [
    "## Linear regression"
   ]
  },
  {
   "cell_type": "code",
   "execution_count": 50,
   "id": "ab0e8f04",
   "metadata": {},
   "outputs": [
    {
     "data": {
      "text/html": [
       "<table class=\"simpletable\">\n",
       "<caption>OLS Regression Results</caption>\n",
       "<tr>\n",
       "  <th>Dep. Variable:</th>         <td>quality</td>     <th>  R-squared (uncentered):</th>      <td>   0.988</td>\n",
       "</tr>\n",
       "<tr>\n",
       "  <th>Model:</th>                   <td>OLS</td>       <th>  Adj. R-squared (uncentered):</th> <td>   0.988</td>\n",
       "</tr>\n",
       "<tr>\n",
       "  <th>Method:</th>             <td>Least Squares</td>  <th>  F-statistic:       </th>          <td>   9201.</td>\n",
       "</tr>\n",
       "<tr>\n",
       "  <th>Date:</th>             <td>Mon, 13 Dec 2021</td> <th>  Prob (F-statistic):</th>           <td>  0.00</td> \n",
       "</tr>\n",
       "<tr>\n",
       "  <th>Time:</th>                 <td>23:30:56</td>     <th>  Log-Likelihood:    </th>          <td> -1233.0</td>\n",
       "</tr>\n",
       "<tr>\n",
       "  <th>No. Observations:</th>      <td>  1279</td>      <th>  AIC:               </th>          <td>   2488.</td>\n",
       "</tr>\n",
       "<tr>\n",
       "  <th>Df Residuals:</th>          <td>  1268</td>      <th>  BIC:               </th>          <td>   2545.</td>\n",
       "</tr>\n",
       "<tr>\n",
       "  <th>Df Model:</th>              <td>    11</td>      <th>                     </th>              <td> </td>   \n",
       "</tr>\n",
       "<tr>\n",
       "  <th>Covariance Type:</th>      <td>nonrobust</td>    <th>                     </th>              <td> </td>   \n",
       "</tr>\n",
       "</table>\n",
       "<table class=\"simpletable\">\n",
       "<tr>\n",
       "            <td></td>              <th>coef</th>     <th>std err</th>      <th>t</th>      <th>P>|t|</th>  <th>[0.025</th>    <th>0.975]</th>  \n",
       "</tr>\n",
       "<tr>\n",
       "  <th>fixed acidity</th>        <td>   -0.0071</td> <td>    0.018</td> <td>   -0.391</td> <td> 0.696</td> <td>   -0.043</td> <td>    0.028</td>\n",
       "</tr>\n",
       "<tr>\n",
       "  <th>volatile acidity</th>     <td>   -1.0051</td> <td>    0.134</td> <td>   -7.529</td> <td> 0.000</td> <td>   -1.267</td> <td>   -0.743</td>\n",
       "</tr>\n",
       "<tr>\n",
       "  <th>citric acid</th>          <td>   -0.1783</td> <td>    0.162</td> <td>   -1.102</td> <td> 0.271</td> <td>   -0.496</td> <td>    0.139</td>\n",
       "</tr>\n",
       "<tr>\n",
       "  <th>residual sugar</th>       <td>    0.0116</td> <td>    0.012</td> <td>    0.930</td> <td> 0.352</td> <td>   -0.013</td> <td>    0.036</td>\n",
       "</tr>\n",
       "<tr>\n",
       "  <th>chlorides</th>            <td>   -2.1804</td> <td>    0.465</td> <td>   -4.690</td> <td> 0.000</td> <td>   -3.092</td> <td>   -1.268</td>\n",
       "</tr>\n",
       "<tr>\n",
       "  <th>free sulfur dioxide</th>  <td>    0.0051</td> <td>    0.002</td> <td>    2.170</td> <td> 0.030</td> <td>    0.000</td> <td>    0.010</td>\n",
       "</tr>\n",
       "<tr>\n",
       "  <th>total sulfur dioxide</th> <td>   -0.0033</td> <td>    0.001</td> <td>   -4.185</td> <td> 0.000</td> <td>   -0.005</td> <td>   -0.002</td>\n",
       "</tr>\n",
       "<tr>\n",
       "  <th>density</th>              <td>    4.8800</td> <td>    0.712</td> <td>    6.850</td> <td> 0.000</td> <td>    3.482</td> <td>    6.278</td>\n",
       "</tr>\n",
       "<tr>\n",
       "  <th>pH</th>                   <td>   -0.6421</td> <td>    0.182</td> <td>   -3.534</td> <td> 0.000</td> <td>   -0.998</td> <td>   -0.286</td>\n",
       "</tr>\n",
       "<tr>\n",
       "  <th>sulphates</th>            <td>    1.0159</td> <td>    0.125</td> <td>    8.109</td> <td> 0.000</td> <td>    0.770</td> <td>    1.262</td>\n",
       "</tr>\n",
       "<tr>\n",
       "  <th>alcohol</th>              <td>    0.2980</td> <td>    0.019</td> <td>   15.827</td> <td> 0.000</td> <td>    0.261</td> <td>    0.335</td>\n",
       "</tr>\n",
       "</table>\n",
       "<table class=\"simpletable\">\n",
       "<tr>\n",
       "  <th>Omnibus:</th>       <td>17.832</td> <th>  Durbin-Watson:     </th> <td>   2.003</td>\n",
       "</tr>\n",
       "<tr>\n",
       "  <th>Prob(Omnibus):</th> <td> 0.000</td> <th>  Jarque-Bera (JB):  </th> <td>  23.066</td>\n",
       "</tr>\n",
       "<tr>\n",
       "  <th>Skew:</th>          <td>-0.179</td> <th>  Prob(JB):          </th> <td>9.80e-06</td>\n",
       "</tr>\n",
       "<tr>\n",
       "  <th>Kurtosis:</th>      <td> 3.553</td> <th>  Cond. No.          </th> <td>2.53e+03</td>\n",
       "</tr>\n",
       "</table><br/><br/>Notes:<br/>[1] R² is computed without centering (uncentered) since the model does not contain a constant.<br/>[2] Standard Errors assume that the covariance matrix of the errors is correctly specified.<br/>[3] The condition number is large, 2.53e+03. This might indicate that there are<br/>strong multicollinearity or other numerical problems."
      ],
      "text/plain": [
       "<class 'statsmodels.iolib.summary.Summary'>\n",
       "\"\"\"\n",
       "                                 OLS Regression Results                                \n",
       "=======================================================================================\n",
       "Dep. Variable:                quality   R-squared (uncentered):                   0.988\n",
       "Model:                            OLS   Adj. R-squared (uncentered):              0.988\n",
       "Method:                 Least Squares   F-statistic:                              9201.\n",
       "Date:                Mon, 13 Dec 2021   Prob (F-statistic):                        0.00\n",
       "Time:                        23:30:56   Log-Likelihood:                         -1233.0\n",
       "No. Observations:                1279   AIC:                                      2488.\n",
       "Df Residuals:                    1268   BIC:                                      2545.\n",
       "Df Model:                          11                                                  \n",
       "Covariance Type:            nonrobust                                                  \n",
       "========================================================================================\n",
       "                           coef    std err          t      P>|t|      [0.025      0.975]\n",
       "----------------------------------------------------------------------------------------\n",
       "fixed acidity           -0.0071      0.018     -0.391      0.696      -0.043       0.028\n",
       "volatile acidity        -1.0051      0.134     -7.529      0.000      -1.267      -0.743\n",
       "citric acid             -0.1783      0.162     -1.102      0.271      -0.496       0.139\n",
       "residual sugar           0.0116      0.012      0.930      0.352      -0.013       0.036\n",
       "chlorides               -2.1804      0.465     -4.690      0.000      -3.092      -1.268\n",
       "free sulfur dioxide      0.0051      0.002      2.170      0.030       0.000       0.010\n",
       "total sulfur dioxide    -0.0033      0.001     -4.185      0.000      -0.005      -0.002\n",
       "density                  4.8800      0.712      6.850      0.000       3.482       6.278\n",
       "pH                      -0.6421      0.182     -3.534      0.000      -0.998      -0.286\n",
       "sulphates                1.0159      0.125      8.109      0.000       0.770       1.262\n",
       "alcohol                  0.2980      0.019     15.827      0.000       0.261       0.335\n",
       "==============================================================================\n",
       "Omnibus:                       17.832   Durbin-Watson:                   2.003\n",
       "Prob(Omnibus):                  0.000   Jarque-Bera (JB):               23.066\n",
       "Skew:                          -0.179   Prob(JB):                     9.80e-06\n",
       "Kurtosis:                       3.553   Cond. No.                     2.53e+03\n",
       "==============================================================================\n",
       "\n",
       "Notes:\n",
       "[1] R² is computed without centering (uncentered) since the model does not contain a constant.\n",
       "[2] Standard Errors assume that the covariance matrix of the errors is correctly specified.\n",
       "[3] The condition number is large, 2.53e+03. This might indicate that there are\n",
       "strong multicollinearity or other numerical problems.\n",
       "\"\"\""
      ]
     },
     "execution_count": 50,
     "metadata": {},
     "output_type": "execute_result"
    }
   ],
   "source": [
    "X=data[[\"fixed acidity\", \"volatile acidity\", \"citric acid\", \"residual sugar\", \"chlorides\", \"free sulfur dioxide\", \"total sulfur dioxide\", \"density\", \"pH\", \"sulphates\", \"alcohol\"]]\n",
    "y=data[\"quality\"]\n",
    "\n",
    "# 1. make train/test split\n",
    "x_train, x_test, y_train, y_test = train_test_split(X, y, test_size=0.2, random_state=44)\n",
    "\n",
    "# 2. fit the model\n",
    "reg = linear_model.LinearRegression()\n",
    "reg.fit(x_train, y_train)\n",
    "\n",
    "##use another package for a helpful output...\n",
    "OLS(y_train,x_train).fit().summary()"
   ]
  },
  {
   "cell_type": "code",
   "execution_count": 51,
   "id": "2f415a9e",
   "metadata": {},
   "outputs": [
    {
     "name": "stdout",
     "output_type": "stream",
     "text": [
      "test mse = 0.691105336709938\n"
     ]
    }
   ],
   "source": [
    "#3. Apply on test data\n",
    "test_df = pd.DataFrame(y_test)\n",
    "test_df[\"quality_reg\"] = reg.predict(x_test)\n",
    "\n",
    "#4. Evaluate performance\n",
    "print('test mse =', np.std(y_test - reg.predict(x_test)))"
   ]
  },
  {
   "cell_type": "markdown",
   "id": "d45d71b2",
   "metadata": {},
   "source": [
    "## Random forest"
   ]
  },
  {
   "cell_type": "code",
   "execution_count": null,
   "id": "230aedc0",
   "metadata": {},
   "outputs": [],
   "source": []
  },
  {
   "cell_type": "code",
   "execution_count": null,
   "id": "f6004675",
   "metadata": {},
   "outputs": [],
   "source": []
  },
  {
   "cell_type": "code",
   "execution_count": null,
   "id": "03bebe9c",
   "metadata": {},
   "outputs": [],
   "source": []
  }
 ],
 "metadata": {
  "kernelspec": {
   "display_name": "Python 3",
   "language": "python",
   "name": "python3"
  },
  "language_info": {
   "codemirror_mode": {
    "name": "ipython",
    "version": 3
   },
   "file_extension": ".py",
   "mimetype": "text/x-python",
   "name": "python",
   "nbconvert_exporter": "python",
   "pygments_lexer": "ipython3",
   "version": "3.8.8"
  }
 },
 "nbformat": 4,
 "nbformat_minor": 5
}
