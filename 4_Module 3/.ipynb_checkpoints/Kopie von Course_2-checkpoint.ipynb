{
 "cells": [
  {
   "cell_type": "markdown",
   "metadata": {
    "id": "3uRC8olfZCPU"
   },
   "source": [
    "# Introduction to machine learning & Data Analysis\n",
    "\n",
    "Basic introduction on how to perform typical machine learning tasks with Python.\n",
    "\n",
    "Prepared by Mykhailo Vladymyrov & Aris Marcolongo,\n",
    "Science IT Support, University Of Bern, 2021\n",
    "\n",
    "This work is licensed under <a href=\"https://creativecommons.org/share-your-work/public-domain/cc0/\">CC0</a>.\n",
    "\n",
    "# Part 3."
   ]
  },
  {
   "cell_type": "markdown",
   "metadata": {
    "id": "b-fYVr8NTLeK"
   },
   "source": [
    "# Load libraries"
   ]
  },
  {
   "cell_type": "code",
   "execution_count": 2,
   "metadata": {
    "executionInfo": {
     "elapsed": 3282,
     "status": "ok",
     "timestamp": 1633015948298,
     "user": {
      "displayName": "Julian Frank",
      "photoUrl": "https://lh3.googleusercontent.com/a/default-user=s64",
      "userId": "13899297847119677507"
     },
     "user_tz": -120
    },
    "id": "hVJn0ilgOS8F",
    "scrolled": false
   },
   "outputs": [],
   "source": [
    "from sklearn import tree\n",
    "from sklearn import ensemble\n",
    "\n",
    "from sklearn.datasets import make_blobs\n",
    "from sklearn.model_selection import train_test_split\n",
    "from sklearn import metrics\n",
    "from sklearn.preprocessing import StandardScaler\n",
    "from sklearn.decomposition import PCA\n",
    "\n",
    "from matplotlib import  pyplot as plt\n",
    "import seaborn as sns\n",
    "#sns.set()\n",
    "\n",
    "from time import time as timer\n",
    "from imageio import imread\n",
    "import pandas as pd\n",
    "import numpy as np\n",
    "import os\n",
    "\n",
    "from sklearn.manifold import TSNE\n",
    "\n",
    "import tensorflow as tf\n",
    "import tarfile\n",
    "\n",
    "%matplotlib inline\n",
    "from matplotlib import animation\n",
    "from IPython.display import HTML"
   ]
  },
  {
   "cell_type": "code",
   "execution_count": 20,
   "metadata": {
    "colab": {
     "base_uri": "https://localhost:8080/"
    },
    "executionInfo": {
     "elapsed": 6963,
     "status": "ok",
     "timestamp": 1633016033784,
     "user": {
      "displayName": "Julian Frank",
      "photoUrl": "https://lh3.googleusercontent.com/a/default-user=s64",
      "userId": "13899297847119677507"
     },
     "user_tz": -120
    },
    "id": "YdMxnUooXJvr",
    "outputId": "8b09d5fc-e9a8-4e80-acab-24fed8a6e46c"
   },
   "outputs": [
    {
     "name": "stdout",
     "output_type": "stream",
     "text": [
      "Collecting umap-learn\n",
      "  Downloading umap-learn-0.5.1.tar.gz (80 kB)\n",
      "\u001b[K     |████████████████████████████████| 80 kB 3.5 MB/s \n",
      "\u001b[?25hRequirement already satisfied: numpy>=1.17 in /usr/local/lib/python3.7/dist-packages (from umap-learn) (1.19.5)\n",
      "Requirement already satisfied: scikit-learn>=0.22 in /usr/local/lib/python3.7/dist-packages (from umap-learn) (0.22.2.post1)\n",
      "Requirement already satisfied: scipy>=1.0 in /usr/local/lib/python3.7/dist-packages (from umap-learn) (1.4.1)\n",
      "Requirement already satisfied: numba>=0.49 in /usr/local/lib/python3.7/dist-packages (from umap-learn) (0.51.2)\n",
      "Collecting pynndescent>=0.5\n",
      "  Downloading pynndescent-0.5.4.tar.gz (1.1 MB)\n",
      "\u001b[K     |████████████████████████████████| 1.1 MB 25.5 MB/s \n",
      "\u001b[?25hRequirement already satisfied: llvmlite<0.35,>=0.34.0.dev0 in /usr/local/lib/python3.7/dist-packages (from numba>=0.49->umap-learn) (0.34.0)\n",
      "Requirement already satisfied: setuptools in /usr/local/lib/python3.7/dist-packages (from numba>=0.49->umap-learn) (57.4.0)\n",
      "Requirement already satisfied: joblib>=0.11 in /usr/local/lib/python3.7/dist-packages (from pynndescent>=0.5->umap-learn) (1.0.1)\n",
      "Building wheels for collected packages: umap-learn, pynndescent\n",
      "  Building wheel for umap-learn (setup.py) ... \u001b[?25l\u001b[?25hdone\n",
      "  Created wheel for umap-learn: filename=umap_learn-0.5.1-py3-none-any.whl size=76564 sha256=0ebfb5452ef394a4c4e11f6ecff95b1da45471e297ee16ee8954b5eac2c07f13\n",
      "  Stored in directory: /root/.cache/pip/wheels/01/e7/bb/347dc0e510803d7116a13d592b10cc68262da56a8eec4dd72f\n",
      "  Building wheel for pynndescent (setup.py) ... \u001b[?25l\u001b[?25hdone\n",
      "  Created wheel for pynndescent: filename=pynndescent-0.5.4-py3-none-any.whl size=52373 sha256=e8d7652703392ef3ba1fcbb47c456f7c1708c434885b3b1a58a4e630228dde93\n",
      "  Stored in directory: /root/.cache/pip/wheels/d0/5b/62/3401692ddad12324249c774c4b15ccb046946021e2b581c043\n",
      "Successfully built umap-learn pynndescent\n",
      "Installing collected packages: pynndescent, umap-learn\n",
      "Successfully installed pynndescent-0.5.4 umap-learn-0.5.1\n"
     ]
    }
   ],
   "source": [
    "pip install umap-learn"
   ]
  },
  {
   "cell_type": "code",
   "execution_count": 21,
   "metadata": {
    "executionInfo": {
     "elapsed": 18828,
     "status": "ok",
     "timestamp": 1633016052607,
     "user": {
      "displayName": "Julian Frank",
      "photoUrl": "https://lh3.googleusercontent.com/a/default-user=s64",
      "userId": "13899297847119677507"
     },
     "user_tz": -120
    },
    "id": "oes8tZkKXS1S"
   },
   "outputs": [],
   "source": [
    "import umap"
   ]
  },
  {
   "cell_type": "code",
   "execution_count": 4,
   "metadata": {
    "colab": {
     "base_uri": "https://localhost:8080/"
    },
    "executionInfo": {
     "elapsed": 757,
     "status": "ok",
     "timestamp": 1633015953672,
     "user": {
      "displayName": "Julian Frank",
      "photoUrl": "https://lh3.googleusercontent.com/a/default-user=s64",
      "userId": "13899297847119677507"
     },
     "user_tz": -120
    },
    "id": "7xQIE54NmqJs",
    "outputId": "1a12b1f9-ca46-40d6-972d-acee59f2487d"
   },
   "outputs": [
    {
     "name": "stdout",
     "output_type": "stream",
     "text": [
      "Downloading data from https://github.com/neworldemancer/DSF5/raw/master/colab_material.tgz\n",
      "188416/184367 [==============================] - 0s 0us/step\n",
      "196608/184367 [===============================] - 0s 0us/step\n"
     ]
    }
   ],
   "source": [
    "if not os.path.exists('data'):\n",
    "    path = os.path.abspath('.')+'/colab_material.tgz'\n",
    "    tf.keras.utils.get_file(path, 'https://github.com/neworldemancer/DSF5/raw/master/colab_material.tgz')\n",
    "    tar = tarfile.open(path, \"r:gz\")\n",
    "    tar.extractall()\n",
    "    tar.close()"
   ]
  },
  {
   "cell_type": "code",
   "execution_count": 5,
   "metadata": {
    "executionInfo": {
     "elapsed": 22,
     "status": "ok",
     "timestamp": 1633015955804,
     "user": {
      "displayName": "Julian Frank",
      "photoUrl": "https://lh3.googleusercontent.com/a/default-user=s64",
      "userId": "13899297847119677507"
     },
     "user_tz": -120
    },
    "id": "atch-QcelhRy"
   },
   "outputs": [],
   "source": [
    "from utils.routines import *"
   ]
  },
  {
   "cell_type": "markdown",
   "metadata": {
    "id": "cBxkWZaLCUcR"
   },
   "source": [
    "# Datasets"
   ]
  },
  {
   "cell_type": "markdown",
   "metadata": {
    "id": "4MssLYOiCUcX"
   },
   "source": [
    "In this course we will use several synthetic and real-world datasets to illustrate the behavior of the models and exercise our skills."
   ]
  },
  {
   "cell_type": "markdown",
   "metadata": {
    "id": "8UQgU5I-lEll"
   },
   "source": [
    "## 1. Synthetic linear"
   ]
  },
  {
   "cell_type": "code",
   "execution_count": 6,
   "metadata": {
    "executionInfo": {
     "elapsed": 1247,
     "status": "ok",
     "timestamp": 1633015965866,
     "user": {
      "displayName": "Julian Frank",
      "photoUrl": "https://lh3.googleusercontent.com/a/default-user=s64",
      "userId": "13899297847119677507"
     },
     "user_tz": -120
    },
    "id": "jGfWOWRjlWPa"
   },
   "outputs": [],
   "source": [
    "def get_linear(n_d=1, n_points=10, w=None, b=None, sigma=5):\n",
    "  x = np.random.uniform(0, 10, size=(n_points, n_d))\n",
    "  \n",
    "  w = w or np.random.uniform(0.1, 10, n_d)\n",
    "  b = b or np.random.uniform(-10, 10)\n",
    "  y = np.dot(x, w) + b + np.random.normal(0, sigma, size=n_points)\n",
    "\n",
    "  print('true slopes: w =', w, ';  b =', b)\n",
    "\n",
    "  return x, y"
   ]
  },
  {
   "cell_type": "code",
   "execution_count": 8,
   "metadata": {
    "colab": {
     "base_uri": "https://localhost:8080/",
     "height": 286
    },
    "executionInfo": {
     "elapsed": 54,
     "status": "ok",
     "timestamp": 1633015967181,
     "user": {
      "displayName": "Julian Frank",
      "photoUrl": "https://lh3.googleusercontent.com/a/default-user=s64",
      "userId": "13899297847119677507"
     },
     "user_tz": -120
    },
    "id": "5RLYxGy_nBZG",
    "outputId": "6ecc0af9-88bb-400c-f03f-9c9a68099b95"
   },
   "outputs": [
    {
     "name": "stdout",
     "output_type": "stream",
     "text": [
      "true slopes: w = [8.01670671] ;  b = -6.2622923618145006\n"
     ]
    },
    {
     "data": {
      "image/png": "[encoded data removed]",
      "text/plain": [
       "<Figure size 432x288 with 1 Axes>"
      ]
     },
     "metadata": {
      "needs_background": "light"
     },
     "output_type": "display_data"
    }
   ],
   "source": [
    "x, y = get_linear(n_d=1, sigma=0)\n",
    "plt.plot(x[:, 0], y, '*')\n",
    "plt.show()"
   ]
  },
  {
   "cell_type": "code",
   "execution_count": 7,
   "metadata": {
    "colab": {
     "base_uri": "https://localhost:8080/",
     "height": 484
    },
    "executionInfo": {
     "elapsed": 918,
     "status": "ok",
     "timestamp": 1633015967174,
     "user": {
      "displayName": "Julian Frank",
      "photoUrl": "https://lh3.googleusercontent.com/a/default-user=s64",
      "userId": "13899297847119677507"
     },
     "user_tz": -120
    },
    "id": "10ODDOp4nX4S",
    "outputId": "89b86aff-b745-4e35-dcee-0248b0569044"
   },
   "outputs": [
    {
     "name": "stdout",
     "output_type": "stream",
     "text": [
      "true slopes: w = [2.18274772 6.41165335] ;  b = 4.830600886429748\n"
     ]
    },
    {
     "data": {
      "image/png": "[encoded data removed]",
      "text/plain": [
       "<Figure size 576x576 with 1 Axes>"
      ]
     },
     "metadata": {
      "needs_background": "light"
     },
     "output_type": "display_data"
    }
   ],
   "source": [
    "n_d = 2\n",
    "x, y = get_linear(n_d=n_d, n_points=100)\n",
    "\n",
    "fig = plt.figure(figsize=(8,8))\n",
    "ax = fig.add_subplot(111, projection='3d')\n",
    "ax.scatter(x[:,0], x[:,1], y, marker='x', color='b',s=40)\n",
    "plt.show()"
   ]
  },
  {
   "cell_type": "markdown",
   "metadata": {
    "id": "-2uMw5C4CUcj"
   },
   "source": [
    "## 2. House prices"
   ]
  },
  {
   "cell_type": "markdown",
   "metadata": {
    "id": "qi_Q6YTNCUcj"
   },
   "source": [
    "Subset of the Ames Houses dataset: http://jse.amstat.org/v19n3/decock.pdf"
   ]
  },
  {
   "cell_type": "code",
   "execution_count": 9,
   "metadata": {
    "executionInfo": {
     "elapsed": 359,
     "status": "ok",
     "timestamp": 1633015976371,
     "user": {
      "displayName": "Julian Frank",
      "photoUrl": "https://lh3.googleusercontent.com/a/default-user=s64",
      "userId": "13899297847119677507"
     },
     "user_tz": -120
    },
    "id": "Uj2LFlahCUcj"
   },
   "outputs": [],
   "source": [
    "def house_prices_dataset(return_df=False, price_max=400000, area_max=40000):\n",
    "  path = 'data/AmesHousing.csv'\n",
    "\n",
    "  df = pd.read_csv(path, na_values=('NaN', ''), keep_default_na=False)\n",
    "  \n",
    "  rename_dict = {k:k.replace(' ', '').replace('/', '') for k in df.keys()}\n",
    "  df.rename(columns=rename_dict, inplace=True)\n",
    "  \n",
    "  useful_fields = ['LotArea',\n",
    "                  'Utilities', 'OverallQual', 'OverallCond',\n",
    "                  'YearBuilt', 'YearRemodAdd', 'ExterQual', 'ExterCond',\n",
    "                  'HeatingQC', 'CentralAir', 'Electrical',\n",
    "                  '1stFlrSF', '2ndFlrSF','GrLivArea',\n",
    "                  'FullBath', 'HalfBath',\n",
    "                  'BedroomAbvGr', 'KitchenAbvGr', 'KitchenQual', 'TotRmsAbvGrd',\n",
    "                  'Functional','PoolArea',\n",
    "                  'YrSold', 'MoSold'\n",
    "                  ]\n",
    "  target_field = 'SalePrice'\n",
    "\n",
    "  df.dropna(axis=0, subset=useful_fields+[target_field], inplace=True)\n",
    "\n",
    "  cleanup_nums = {'Street':      {'Grvl': 0, 'Pave': 1},\n",
    "                  'LotFrontage': {'NA':0},\n",
    "                  'Alley':       {'NA':0, 'Grvl': 1, 'Pave': 2},\n",
    "                  'LotShape':    {'IR3':0, 'IR2': 1, 'IR1': 2, 'Reg':3},\n",
    "                  'Utilities':   {'ELO':0, 'NoSeWa': 1, 'NoSewr': 2, 'AllPub': 3},\n",
    "                  'LandSlope':   {'Sev':0, 'Mod': 1, 'Gtl': 3},\n",
    "                  'ExterQual':   {'Po':0, 'Fa': 1, 'TA': 2, 'Gd': 3, 'Ex':4},\n",
    "                  'ExterCond':   {'Po':0, 'Fa': 1, 'TA': 2, 'Gd': 3, 'Ex':4},\n",
    "                  'BsmtQual':    {'NA':0, 'Po':1, 'Fa': 2, 'TA': 3, 'Gd': 4, 'Ex':5},\n",
    "                  'BsmtCond':    {'NA':0, 'Po':1, 'Fa': 2, 'TA': 3, 'Gd': 4, 'Ex':5},\n",
    "                  'BsmtExposure':{'NA':0, 'No':1, 'Mn': 2, 'Av': 3, 'Gd': 4},\n",
    "                  'BsmtFinType1':{'NA':0, 'Unf':1, 'LwQ': 2, 'Rec': 3, 'BLQ': 4, 'ALQ':5, 'GLQ':6},\n",
    "                  'BsmtFinType2':{'NA':0, 'Unf':1, 'LwQ': 2, 'Rec': 3, 'BLQ': 4, 'ALQ':5, 'GLQ':6},\n",
    "                  'HeatingQC':   {'Po':0, 'Fa': 1, 'TA': 2, 'Gd': 3, 'Ex':4},\n",
    "                  'CentralAir':  {'N':0, 'Y': 1},\n",
    "                  'Electrical':  {'':0, 'NA':0, 'Mix':1, 'FuseP':2, 'FuseF': 3, 'FuseA': 4, 'SBrkr': 5},\n",
    "                  'KitchenQual': {'Po':0, 'Fa': 1, 'TA': 2, 'Gd': 3, 'Ex':4},\n",
    "                  'Functional':  {'Sal':0, 'Sev':1, 'Maj2': 2, 'Maj1': 3, 'Mod': 4, 'Min2':5, 'Min1':6, 'Typ':7},\n",
    "                  'FireplaceQu': {'NA':0, 'Po':1, 'Fa': 2, 'TA': 3, 'Gd': 4, 'Ex':5},\n",
    "                  'PoolQC':      {'NA':0, 'Fa': 1, 'TA': 2, 'Gd': 3, 'Ex':4},\n",
    "                  'Fence':       {'NA':0, 'MnWw': 1, 'GdWo': 2, 'MnPrv': 3, 'GdPrv':4},\n",
    "                  }\n",
    "\n",
    "  df_X = df[useful_fields].copy()                              \n",
    "  df_X.replace(cleanup_nums, inplace=True)  # convert continous categorial variables to numerical\n",
    "  df_Y = df[target_field].copy()\n",
    "\n",
    "  x = df_X.to_numpy().astype(np.float32)\n",
    "  y = df_Y.to_numpy().astype(np.float32)\n",
    "\n",
    "  if price_max>0:\n",
    "    idxs = y<price_max\n",
    "    x = x[idxs]\n",
    "    y = y[idxs]\n",
    "\n",
    "  if area_max>0:\n",
    "    idxs = x[:,0]<area_max\n",
    "    x = x[idxs]\n",
    "    y = y[idxs]\n",
    "\n",
    "  return (x, y, df) if return_df else (x,y)"
   ]
  },
  {
   "cell_type": "code",
   "execution_count": 10,
   "metadata": {
    "executionInfo": {
     "elapsed": 345,
     "status": "ok",
     "timestamp": 1633015980584,
     "user": {
      "displayName": "Julian Frank",
      "photoUrl": "https://lh3.googleusercontent.com/a/default-user=s64",
      "userId": "13899297847119677507"
     },
     "user_tz": -120
    },
    "id": "-jcX7oYDFwzQ"
   },
   "outputs": [],
   "source": [
    "def house_prices_dataset_normed():\n",
    "    x, y = house_prices_dataset(return_df=False, price_max=-1, area_max=-1)\n",
    "    \n",
    "    scaler=StandardScaler()\n",
    "    features_scaled=scaler.fit_transform(x)\n",
    "    \n",
    "    return features_scaled"
   ]
  },
  {
   "cell_type": "code",
   "execution_count": 11,
   "metadata": {
    "colab": {
     "base_uri": "https://localhost:8080/",
     "height": 273
    },
    "executionInfo": {
     "elapsed": 14,
     "status": "ok",
     "timestamp": 1633015981821,
     "user": {
      "displayName": "Julian Frank",
      "photoUrl": "https://lh3.googleusercontent.com/a/default-user=s64",
      "userId": "13899297847119677507"
     },
     "user_tz": -120
    },
    "id": "YqWU0eHts1RM",
    "outputId": "51e811f7-9377-4f21-879d-8a298f349555"
   },
   "outputs": [
    {
     "name": "stdout",
     "output_type": "stream",
     "text": [
      "(2847, 24) (2847,)\n"
     ]
    },
    {
     "data": {
      "text/html": [
       "<div>\n",
       "<style scoped>\n",
       "    .dataframe tbody tr th:only-of-type {\n",
       "        vertical-align: middle;\n",
       "    }\n",
       "\n",
       "    .dataframe tbody tr th {\n",
       "        vertical-align: top;\n",
       "    }\n",
       "\n",
       "    .dataframe thead th {\n",
       "        text-align: right;\n",
       "    }\n",
       "</style>\n",
       "<table border=\"1\" class=\"dataframe\">\n",
       "  <thead>\n",
       "    <tr style=\"text-align: right;\">\n",
       "      <th></th>\n",
       "      <th>Order</th>\n",
       "      <th>PID</th>\n",
       "      <th>MSSubClass</th>\n",
       "      <th>MSZoning</th>\n",
       "      <th>LotFrontage</th>\n",
       "      <th>LotArea</th>\n",
       "      <th>Street</th>\n",
       "      <th>Alley</th>\n",
       "      <th>LotShape</th>\n",
       "      <th>LandContour</th>\n",
       "      <th>Utilities</th>\n",
       "      <th>LotConfig</th>\n",
       "      <th>LandSlope</th>\n",
       "      <th>Neighborhood</th>\n",
       "      <th>Condition1</th>\n",
       "      <th>Condition2</th>\n",
       "      <th>BldgType</th>\n",
       "      <th>HouseStyle</th>\n",
       "      <th>OverallQual</th>\n",
       "      <th>OverallCond</th>\n",
       "      <th>YearBuilt</th>\n",
       "      <th>YearRemodAdd</th>\n",
       "      <th>RoofStyle</th>\n",
       "      <th>RoofMatl</th>\n",
       "      <th>Exterior1st</th>\n",
       "      <th>Exterior2nd</th>\n",
       "      <th>MasVnrType</th>\n",
       "      <th>MasVnrArea</th>\n",
       "      <th>ExterQual</th>\n",
       "      <th>ExterCond</th>\n",
       "      <th>Foundation</th>\n",
       "      <th>BsmtQual</th>\n",
       "      <th>BsmtCond</th>\n",
       "      <th>BsmtExposure</th>\n",
       "      <th>BsmtFinType1</th>\n",
       "      <th>BsmtFinSF1</th>\n",
       "      <th>BsmtFinType2</th>\n",
       "      <th>BsmtFinSF2</th>\n",
       "      <th>BsmtUnfSF</th>\n",
       "      <th>TotalBsmtSF</th>\n",
       "      <th>...</th>\n",
       "      <th>CentralAir</th>\n",
       "      <th>Electrical</th>\n",
       "      <th>1stFlrSF</th>\n",
       "      <th>2ndFlrSF</th>\n",
       "      <th>LowQualFinSF</th>\n",
       "      <th>GrLivArea</th>\n",
       "      <th>BsmtFullBath</th>\n",
       "      <th>BsmtHalfBath</th>\n",
       "      <th>FullBath</th>\n",
       "      <th>HalfBath</th>\n",
       "      <th>BedroomAbvGr</th>\n",
       "      <th>KitchenAbvGr</th>\n",
       "      <th>KitchenQual</th>\n",
       "      <th>TotRmsAbvGrd</th>\n",
       "      <th>Functional</th>\n",
       "      <th>Fireplaces</th>\n",
       "      <th>FireplaceQu</th>\n",
       "      <th>GarageType</th>\n",
       "      <th>GarageYrBlt</th>\n",
       "      <th>GarageFinish</th>\n",
       "      <th>GarageCars</th>\n",
       "      <th>GarageArea</th>\n",
       "      <th>GarageQual</th>\n",
       "      <th>GarageCond</th>\n",
       "      <th>PavedDrive</th>\n",
       "      <th>WoodDeckSF</th>\n",
       "      <th>OpenPorchSF</th>\n",
       "      <th>EnclosedPorch</th>\n",
       "      <th>3SsnPorch</th>\n",
       "      <th>ScreenPorch</th>\n",
       "      <th>PoolArea</th>\n",
       "      <th>PoolQC</th>\n",
       "      <th>Fence</th>\n",
       "      <th>MiscFeature</th>\n",
       "      <th>MiscVal</th>\n",
       "      <th>MoSold</th>\n",
       "      <th>YrSold</th>\n",
       "      <th>SaleType</th>\n",
       "      <th>SaleCondition</th>\n",
       "      <th>SalePrice</th>\n",
       "    </tr>\n",
       "  </thead>\n",
       "  <tbody>\n",
       "    <tr>\n",
       "      <th>0</th>\n",
       "      <td>1</td>\n",
       "      <td>526301100</td>\n",
       "      <td>20</td>\n",
       "      <td>RL</td>\n",
       "      <td>141.0</td>\n",
       "      <td>31770</td>\n",
       "      <td>Pave</td>\n",
       "      <td>NA</td>\n",
       "      <td>IR1</td>\n",
       "      <td>Lvl</td>\n",
       "      <td>AllPub</td>\n",
       "      <td>Corner</td>\n",
       "      <td>Gtl</td>\n",
       "      <td>NAmes</td>\n",
       "      <td>Norm</td>\n",
       "      <td>Norm</td>\n",
       "      <td>1Fam</td>\n",
       "      <td>1Story</td>\n",
       "      <td>6</td>\n",
       "      <td>5</td>\n",
       "      <td>1960</td>\n",
       "      <td>1960</td>\n",
       "      <td>Hip</td>\n",
       "      <td>CompShg</td>\n",
       "      <td>BrkFace</td>\n",
       "      <td>Plywood</td>\n",
       "      <td>Stone</td>\n",
       "      <td>112.0</td>\n",
       "      <td>TA</td>\n",
       "      <td>TA</td>\n",
       "      <td>CBlock</td>\n",
       "      <td>TA</td>\n",
       "      <td>Gd</td>\n",
       "      <td>Gd</td>\n",
       "      <td>BLQ</td>\n",
       "      <td>639.0</td>\n",
       "      <td>Unf</td>\n",
       "      <td>0.0</td>\n",
       "      <td>441.0</td>\n",
       "      <td>1080.0</td>\n",
       "      <td>...</td>\n",
       "      <td>Y</td>\n",
       "      <td>SBrkr</td>\n",
       "      <td>1656</td>\n",
       "      <td>0</td>\n",
       "      <td>0</td>\n",
       "      <td>1656</td>\n",
       "      <td>1.0</td>\n",
       "      <td>0.0</td>\n",
       "      <td>1</td>\n",
       "      <td>0</td>\n",
       "      <td>3</td>\n",
       "      <td>1</td>\n",
       "      <td>TA</td>\n",
       "      <td>7</td>\n",
       "      <td>Typ</td>\n",
       "      <td>2</td>\n",
       "      <td>Gd</td>\n",
       "      <td>Attchd</td>\n",
       "      <td>1960.0</td>\n",
       "      <td>Fin</td>\n",
       "      <td>2.0</td>\n",
       "      <td>528.0</td>\n",
       "      <td>TA</td>\n",
       "      <td>TA</td>\n",
       "      <td>P</td>\n",
       "      <td>210</td>\n",
       "      <td>62</td>\n",
       "      <td>0</td>\n",
       "      <td>0</td>\n",
       "      <td>0</td>\n",
       "      <td>0</td>\n",
       "      <td>NA</td>\n",
       "      <td>NA</td>\n",
       "      <td>NA</td>\n",
       "      <td>0</td>\n",
       "      <td>5</td>\n",
       "      <td>2010</td>\n",
       "      <td>WD</td>\n",
       "      <td>Normal</td>\n",
       "      <td>215000</td>\n",
       "    </tr>\n",
       "    <tr>\n",
       "      <th>1</th>\n",
       "      <td>2</td>\n",
       "      <td>526350040</td>\n",
       "      <td>20</td>\n",
       "      <td>RH</td>\n",
       "      <td>80.0</td>\n",
       "      <td>11622</td>\n",
       "      <td>Pave</td>\n",
       "      <td>NA</td>\n",
       "      <td>Reg</td>\n",
       "      <td>Lvl</td>\n",
       "      <td>AllPub</td>\n",
       "      <td>Inside</td>\n",
       "      <td>Gtl</td>\n",
       "      <td>NAmes</td>\n",
       "      <td>Feedr</td>\n",
       "      <td>Norm</td>\n",
       "      <td>1Fam</td>\n",
       "      <td>1Story</td>\n",
       "      <td>5</td>\n",
       "      <td>6</td>\n",
       "      <td>1961</td>\n",
       "      <td>1961</td>\n",
       "      <td>Gable</td>\n",
       "      <td>CompShg</td>\n",
       "      <td>VinylSd</td>\n",
       "      <td>VinylSd</td>\n",
       "      <td>None</td>\n",
       "      <td>0.0</td>\n",
       "      <td>TA</td>\n",
       "      <td>TA</td>\n",
       "      <td>CBlock</td>\n",
       "      <td>TA</td>\n",
       "      <td>TA</td>\n",
       "      <td>No</td>\n",
       "      <td>Rec</td>\n",
       "      <td>468.0</td>\n",
       "      <td>LwQ</td>\n",
       "      <td>144.0</td>\n",
       "      <td>270.0</td>\n",
       "      <td>882.0</td>\n",
       "      <td>...</td>\n",
       "      <td>Y</td>\n",
       "      <td>SBrkr</td>\n",
       "      <td>896</td>\n",
       "      <td>0</td>\n",
       "      <td>0</td>\n",
       "      <td>896</td>\n",
       "      <td>0.0</td>\n",
       "      <td>0.0</td>\n",
       "      <td>1</td>\n",
       "      <td>0</td>\n",
       "      <td>2</td>\n",
       "      <td>1</td>\n",
       "      <td>TA</td>\n",
       "      <td>5</td>\n",
       "      <td>Typ</td>\n",
       "      <td>0</td>\n",
       "      <td>NA</td>\n",
       "      <td>Attchd</td>\n",
       "      <td>1961.0</td>\n",
       "      <td>Unf</td>\n",
       "      <td>1.0</td>\n",
       "      <td>730.0</td>\n",
       "      <td>TA</td>\n",
       "      <td>TA</td>\n",
       "      <td>Y</td>\n",
       "      <td>140</td>\n",
       "      <td>0</td>\n",
       "      <td>0</td>\n",
       "      <td>0</td>\n",
       "      <td>120</td>\n",
       "      <td>0</td>\n",
       "      <td>NA</td>\n",
       "      <td>MnPrv</td>\n",
       "      <td>NA</td>\n",
       "      <td>0</td>\n",
       "      <td>6</td>\n",
       "      <td>2010</td>\n",
       "      <td>WD</td>\n",
       "      <td>Normal</td>\n",
       "      <td>105000</td>\n",
       "    </tr>\n",
       "    <tr>\n",
       "      <th>2</th>\n",
       "      <td>3</td>\n",
       "      <td>526351010</td>\n",
       "      <td>20</td>\n",
       "      <td>RL</td>\n",
       "      <td>81.0</td>\n",
       "      <td>14267</td>\n",
       "      <td>Pave</td>\n",
       "      <td>NA</td>\n",
       "      <td>IR1</td>\n",
       "      <td>Lvl</td>\n",
       "      <td>AllPub</td>\n",
       "      <td>Corner</td>\n",
       "      <td>Gtl</td>\n",
       "      <td>NAmes</td>\n",
       "      <td>Norm</td>\n",
       "      <td>Norm</td>\n",
       "      <td>1Fam</td>\n",
       "      <td>1Story</td>\n",
       "      <td>6</td>\n",
       "      <td>6</td>\n",
       "      <td>1958</td>\n",
       "      <td>1958</td>\n",
       "      <td>Hip</td>\n",
       "      <td>CompShg</td>\n",
       "      <td>Wd Sdng</td>\n",
       "      <td>Wd Sdng</td>\n",
       "      <td>BrkFace</td>\n",
       "      <td>108.0</td>\n",
       "      <td>TA</td>\n",
       "      <td>TA</td>\n",
       "      <td>CBlock</td>\n",
       "      <td>TA</td>\n",
       "      <td>TA</td>\n",
       "      <td>No</td>\n",
       "      <td>ALQ</td>\n",
       "      <td>923.0</td>\n",
       "      <td>Unf</td>\n",
       "      <td>0.0</td>\n",
       "      <td>406.0</td>\n",
       "      <td>1329.0</td>\n",
       "      <td>...</td>\n",
       "      <td>Y</td>\n",
       "      <td>SBrkr</td>\n",
       "      <td>1329</td>\n",
       "      <td>0</td>\n",
       "      <td>0</td>\n",
       "      <td>1329</td>\n",
       "      <td>0.0</td>\n",
       "      <td>0.0</td>\n",
       "      <td>1</td>\n",
       "      <td>1</td>\n",
       "      <td>3</td>\n",
       "      <td>1</td>\n",
       "      <td>Gd</td>\n",
       "      <td>6</td>\n",
       "      <td>Typ</td>\n",
       "      <td>0</td>\n",
       "      <td>NA</td>\n",
       "      <td>Attchd</td>\n",
       "      <td>1958.0</td>\n",
       "      <td>Unf</td>\n",
       "      <td>1.0</td>\n",
       "      <td>312.0</td>\n",
       "      <td>TA</td>\n",
       "      <td>TA</td>\n",
       "      <td>Y</td>\n",
       "      <td>393</td>\n",
       "      <td>36</td>\n",
       "      <td>0</td>\n",
       "      <td>0</td>\n",
       "      <td>0</td>\n",
       "      <td>0</td>\n",
       "      <td>NA</td>\n",
       "      <td>NA</td>\n",
       "      <td>Gar2</td>\n",
       "      <td>12500</td>\n",
       "      <td>6</td>\n",
       "      <td>2010</td>\n",
       "      <td>WD</td>\n",
       "      <td>Normal</td>\n",
       "      <td>172000</td>\n",
       "    </tr>\n",
       "    <tr>\n",
       "      <th>3</th>\n",
       "      <td>4</td>\n",
       "      <td>526353030</td>\n",
       "      <td>20</td>\n",
       "      <td>RL</td>\n",
       "      <td>93.0</td>\n",
       "      <td>11160</td>\n",
       "      <td>Pave</td>\n",
       "      <td>NA</td>\n",
       "      <td>Reg</td>\n",
       "      <td>Lvl</td>\n",
       "      <td>AllPub</td>\n",
       "      <td>Corner</td>\n",
       "      <td>Gtl</td>\n",
       "      <td>NAmes</td>\n",
       "      <td>Norm</td>\n",
       "      <td>Norm</td>\n",
       "      <td>1Fam</td>\n",
       "      <td>1Story</td>\n",
       "      <td>7</td>\n",
       "      <td>5</td>\n",
       "      <td>1968</td>\n",
       "      <td>1968</td>\n",
       "      <td>Hip</td>\n",
       "      <td>CompShg</td>\n",
       "      <td>BrkFace</td>\n",
       "      <td>BrkFace</td>\n",
       "      <td>None</td>\n",
       "      <td>0.0</td>\n",
       "      <td>Gd</td>\n",
       "      <td>TA</td>\n",
       "      <td>CBlock</td>\n",
       "      <td>TA</td>\n",
       "      <td>TA</td>\n",
       "      <td>No</td>\n",
       "      <td>ALQ</td>\n",
       "      <td>1065.0</td>\n",
       "      <td>Unf</td>\n",
       "      <td>0.0</td>\n",
       "      <td>1045.0</td>\n",
       "      <td>2110.0</td>\n",
       "      <td>...</td>\n",
       "      <td>Y</td>\n",
       "      <td>SBrkr</td>\n",
       "      <td>2110</td>\n",
       "      <td>0</td>\n",
       "      <td>0</td>\n",
       "      <td>2110</td>\n",
       "      <td>1.0</td>\n",
       "      <td>0.0</td>\n",
       "      <td>2</td>\n",
       "      <td>1</td>\n",
       "      <td>3</td>\n",
       "      <td>1</td>\n",
       "      <td>Ex</td>\n",
       "      <td>8</td>\n",
       "      <td>Typ</td>\n",
       "      <td>2</td>\n",
       "      <td>TA</td>\n",
       "      <td>Attchd</td>\n",
       "      <td>1968.0</td>\n",
       "      <td>Fin</td>\n",
       "      <td>2.0</td>\n",
       "      <td>522.0</td>\n",
       "      <td>TA</td>\n",
       "      <td>TA</td>\n",
       "      <td>Y</td>\n",
       "      <td>0</td>\n",
       "      <td>0</td>\n",
       "      <td>0</td>\n",
       "      <td>0</td>\n",
       "      <td>0</td>\n",
       "      <td>0</td>\n",
       "      <td>NA</td>\n",
       "      <td>NA</td>\n",
       "      <td>NA</td>\n",
       "      <td>0</td>\n",
       "      <td>4</td>\n",
       "      <td>2010</td>\n",
       "      <td>WD</td>\n",
       "      <td>Normal</td>\n",
       "      <td>244000</td>\n",
       "    </tr>\n",
       "    <tr>\n",
       "      <th>4</th>\n",
       "      <td>5</td>\n",
       "      <td>527105010</td>\n",
       "      <td>60</td>\n",
       "      <td>RL</td>\n",
       "      <td>74.0</td>\n",
       "      <td>13830</td>\n",
       "      <td>Pave</td>\n",
       "      <td>NA</td>\n",
       "      <td>IR1</td>\n",
       "      <td>Lvl</td>\n",
       "      <td>AllPub</td>\n",
       "      <td>Inside</td>\n",
       "      <td>Gtl</td>\n",
       "      <td>Gilbert</td>\n",
       "      <td>Norm</td>\n",
       "      <td>Norm</td>\n",
       "      <td>1Fam</td>\n",
       "      <td>2Story</td>\n",
       "      <td>5</td>\n",
       "      <td>5</td>\n",
       "      <td>1997</td>\n",
       "      <td>1998</td>\n",
       "      <td>Gable</td>\n",
       "      <td>CompShg</td>\n",
       "      <td>VinylSd</td>\n",
       "      <td>VinylSd</td>\n",
       "      <td>None</td>\n",
       "      <td>0.0</td>\n",
       "      <td>TA</td>\n",
       "      <td>TA</td>\n",
       "      <td>PConc</td>\n",
       "      <td>Gd</td>\n",
       "      <td>TA</td>\n",
       "      <td>No</td>\n",
       "      <td>GLQ</td>\n",
       "      <td>791.0</td>\n",
       "      <td>Unf</td>\n",
       "      <td>0.0</td>\n",
       "      <td>137.0</td>\n",
       "      <td>928.0</td>\n",
       "      <td>...</td>\n",
       "      <td>Y</td>\n",
       "      <td>SBrkr</td>\n",
       "      <td>928</td>\n",
       "      <td>701</td>\n",
       "      <td>0</td>\n",
       "      <td>1629</td>\n",
       "      <td>0.0</td>\n",
       "      <td>0.0</td>\n",
       "      <td>2</td>\n",
       "      <td>1</td>\n",
       "      <td>3</td>\n",
       "      <td>1</td>\n",
       "      <td>TA</td>\n",
       "      <td>6</td>\n",
       "      <td>Typ</td>\n",
       "      <td>1</td>\n",
       "      <td>TA</td>\n",
       "      <td>Attchd</td>\n",
       "      <td>1997.0</td>\n",
       "      <td>Fin</td>\n",
       "      <td>2.0</td>\n",
       "      <td>482.0</td>\n",
       "      <td>TA</td>\n",
       "      <td>TA</td>\n",
       "      <td>Y</td>\n",
       "      <td>212</td>\n",
       "      <td>34</td>\n",
       "      <td>0</td>\n",
       "      <td>0</td>\n",
       "      <td>0</td>\n",
       "      <td>0</td>\n",
       "      <td>NA</td>\n",
       "      <td>MnPrv</td>\n",
       "      <td>NA</td>\n",
       "      <td>0</td>\n",
       "      <td>3</td>\n",
       "      <td>2010</td>\n",
       "      <td>WD</td>\n",
       "      <td>Normal</td>\n",
       "      <td>189900</td>\n",
       "    </tr>\n",
       "  </tbody>\n",
       "</table>\n",
       "<p>5 rows × 82 columns</p>\n",
       "</div>"
      ],
      "text/plain": [
       "   Order        PID  MSSubClass  ... SaleType  SaleCondition  SalePrice\n",
       "0      1  526301100          20  ...      WD          Normal     215000\n",
       "1      2  526350040          20  ...      WD          Normal     105000\n",
       "2      3  526351010          20  ...      WD          Normal     172000\n",
       "3      4  526353030          20  ...      WD          Normal     244000\n",
       "4      5  527105010          60  ...      WD          Normal     189900\n",
       "\n",
       "[5 rows x 82 columns]"
      ]
     },
     "execution_count": 11,
     "metadata": {},
     "output_type": "execute_result"
    }
   ],
   "source": [
    "x, y, df = house_prices_dataset(return_df=True)\n",
    "print(x.shape, y.shape)\n",
    "df.head()"
   ]
  },
  {
   "cell_type": "code",
   "execution_count": 12,
   "metadata": {
    "colab": {
     "base_uri": "https://localhost:8080/",
     "height": 279
    },
    "executionInfo": {
     "elapsed": 746,
     "status": "ok",
     "timestamp": 1633015985846,
     "user": {
      "displayName": "Julian Frank",
      "photoUrl": "https://lh3.googleusercontent.com/a/default-user=s64",
      "userId": "13899297847119677507"
     },
     "user_tz": -120
    },
    "id": "91nj7znzMEpA",
    "outputId": "7aa2c1d0-627b-4473-b2b5-1a11e9c538aa"
   },
   "outputs": [
    {
     "data": {
      "image/png": "[encoded data removed]",
      "text/plain": [
       "<Figure size 432x288 with 1 Axes>"
      ]
     },
     "metadata": {
      "needs_background": "light"
     },
     "output_type": "display_data"
    }
   ],
   "source": [
    "plt.plot(x[:, 0], y, '.')\n",
    "plt.xlabel('area, sq.ft')\n",
    "plt.ylabel('price, $');\n",
    "plt.show()"
   ]
  },
  {
   "cell_type": "markdown",
   "metadata": {
    "id": "q7CNxkPdNB4L"
   },
   "source": [
    "## 3. Blobs"
   ]
  },
  {
   "cell_type": "code",
   "execution_count": 13,
   "metadata": {
    "colab": {
     "base_uri": "https://localhost:8080/",
     "height": 265
    },
    "executionInfo": {
     "elapsed": 809,
     "status": "ok",
     "timestamp": 1633015986648,
     "user": {
      "displayName": "Julian Frank",
      "photoUrl": "https://lh3.googleusercontent.com/a/default-user=s64",
      "userId": "13899297847119677507"
     },
     "user_tz": -120
    },
    "id": "j8wXhleONKgZ",
    "outputId": "2908dcef-0109-44a8-b1b7-19e2abd63376"
   },
   "outputs": [
    {
     "data": {
      "image/png": "[encoded data removed]",
      "text/plain": [
       "<Figure size 432x288 with 1 Axes>"
      ]
     },
     "metadata": {
      "needs_background": "light"
     },
     "output_type": "display_data"
    }
   ],
   "source": [
    "x, y = make_blobs(n_samples=1000, centers=[[0,0], [5,5], [10, 0]])\n",
    "colors = \"ygr\"\n",
    "for i, color in enumerate(colors):\n",
    "    idx = y == i\n",
    "    plt.scatter(x[idx, 0], x[idx, 1], c=color, edgecolor='gray', s=25)\n",
    "plt.show()"
   ]
  },
  {
   "cell_type": "markdown",
   "metadata": {
    "id": "8S1jwU4cXQX4"
   },
   "source": [
    "## 4. MNIST"
   ]
  },
  {
   "cell_type": "markdown",
   "metadata": {
    "id": "e2u82UQ5XQX4"
   },
   "source": [
    "The MNIST database of handwritten digits has a training set of 60,000 examples, and a test set of 10,000 examples. The digits have been size-normalized and centered in a fixed-size image.\n",
    "It is a good database for people who want to try learning techniques and pattern recognition methods on real-world data while spending minimal efforts on preprocessing and formatting (taken from http://yann.lecun.com/exdb/mnist/). Each example is a 28x28 grayscale image and the dataset can be readily downloaded from Tensorflow."
   ]
  },
  {
   "cell_type": "code",
   "execution_count": 14,
   "metadata": {
    "colab": {
     "base_uri": "https://localhost:8080/"
    },
    "executionInfo": {
     "elapsed": 627,
     "status": "ok",
     "timestamp": 1633015988957,
     "user": {
      "displayName": "Julian Frank",
      "photoUrl": "https://lh3.googleusercontent.com/a/default-user=s64",
      "userId": "13899297847119677507"
     },
     "user_tz": -120
    },
    "id": "JaNaGGOkXQX5",
    "outputId": "6f2c9ebc-1cc6-4e9e-c1a2-07e9f29d9cd3"
   },
   "outputs": [
    {
     "name": "stdout",
     "output_type": "stream",
     "text": [
      "Downloading data from https://storage.googleapis.com/tensorflow/tf-keras-datasets/mnist.npz\n",
      "11493376/11490434 [==============================] - 0s 0us/step\n",
      "11501568/11490434 [==============================] - 0s 0us/step\n"
     ]
    }
   ],
   "source": [
    "mnist = tf.keras.datasets.mnist\n",
    "(train_images, train_labels), (test_images, test_labels) = mnist.load_data()"
   ]
  },
  {
   "cell_type": "markdown",
   "metadata": {
    "id": "dlUY5gl8XQX7"
   },
   "source": [
    "Let's check few samples:"
   ]
  },
  {
   "cell_type": "code",
   "execution_count": 15,
   "metadata": {
    "colab": {
     "base_uri": "https://localhost:8080/",
     "height": 462
    },
    "executionInfo": {
     "elapsed": 1723,
     "status": "ok",
     "timestamp": 1633015990661,
     "user": {
      "displayName": "Julian Frank",
      "photoUrl": "https://lh3.googleusercontent.com/a/default-user=s64",
      "userId": "13899297847119677507"
     },
     "user_tz": -120
    },
    "id": "qtYtGEDdXQX8",
    "outputId": "b20a4354-d5f8-4d50-c1f9-a2b5fc064224"
   },
   "outputs": [
    {
     "data": {
      "image/png": "[encoded data removed]",
      "text/plain": [
       "<Figure size 432x432 with 9 Axes>"
      ]
     },
     "metadata": {
      "needs_background": "light"
     },
     "output_type": "display_data"
    }
   ],
   "source": [
    "n = 3\n",
    "fig, ax = plt.subplots(n, n, figsize=(2*n, 2*n))\n",
    "ax = [ax_xy for ax_y in ax for ax_xy in ax_y]\n",
    "for axi, im_idx in zip(ax, np.random.choice(len(train_images), n**2)):\n",
    "  im = train_images[im_idx]\n",
    "  im_class = train_labels[im_idx]\n",
    "  axi.imshow(im, cmap='gray')\n",
    "  axi.text(1, 4, f'{im_class}', color='r', size=16)\n",
    "  axi.grid(False)\n",
    "plt.tight_layout(0,0,0)\n",
    "plt.show()"
   ]
  },
  {
   "cell_type": "markdown",
   "metadata": {
    "id": "5MXcNBOBCUcy"
   },
   "source": [
    "## 5. Fashion MNIST"
   ]
  },
  {
   "cell_type": "markdown",
   "metadata": {
    "id": "rANzstLwCUcy"
   },
   "source": [
    "`Fashion-MNIST` is a dataset of Zalando's article images—consisting of a training set of 60,000 examples and a test set of 10,000 examples. Each example is a 28x28 grayscale image, associated with a label from 10 classes. (from https://github.com/zalandoresearch/fashion-mnist)"
   ]
  },
  {
   "cell_type": "code",
   "execution_count": 16,
   "metadata": {
    "colab": {
     "base_uri": "https://localhost:8080/"
    },
    "executionInfo": {
     "elapsed": 1485,
     "status": "ok",
     "timestamp": 1633015994767,
     "user": {
      "displayName": "Julian Frank",
      "photoUrl": "https://lh3.googleusercontent.com/a/default-user=s64",
      "userId": "13899297847119677507"
     },
     "user_tz": -120
    },
    "id": "Woc5ld-HCUcz",
    "outputId": "a44106aa-fed6-4522-bba0-061011750e33"
   },
   "outputs": [
    {
     "name": "stdout",
     "output_type": "stream",
     "text": [
      "Downloading data from https://storage.googleapis.com/tensorflow/tf-keras-datasets/train-labels-idx1-ubyte.gz\n",
      "32768/29515 [=================================] - 0s 0us/step\n",
      "40960/29515 [=========================================] - 0s 0us/step\n",
      "Downloading data from https://storage.googleapis.com/tensorflow/tf-keras-datasets/train-images-idx3-ubyte.gz\n",
      "26427392/26421880 [==============================] - 0s 0us/step\n",
      "26435584/26421880 [==============================] - 0s 0us/step\n",
      "Downloading data from https://storage.googleapis.com/tensorflow/tf-keras-datasets/t10k-labels-idx1-ubyte.gz\n",
      "16384/5148 [===============================================================================================] - 0s 0us/step\n",
      "Downloading data from https://storage.googleapis.com/tensorflow/tf-keras-datasets/t10k-images-idx3-ubyte.gz\n",
      "4423680/4422102 [==============================] - 0s 0us/step\n",
      "4431872/4422102 [==============================] - 0s 0us/step\n"
     ]
    }
   ],
   "source": [
    "fashion_mnist = tf.keras.datasets.fashion_mnist\n",
    "(train_images, train_labels), (test_images, test_labels) = fashion_mnist.load_data()"
   ]
  },
  {
   "cell_type": "markdown",
   "metadata": {
    "id": "FH2G-FAHCUc1"
   },
   "source": [
    "Let's check few samples:"
   ]
  },
  {
   "cell_type": "code",
   "execution_count": 17,
   "metadata": {
    "colab": {
     "base_uri": "https://localhost:8080/",
     "height": 462
    },
    "executionInfo": {
     "elapsed": 1684,
     "status": "ok",
     "timestamp": 1633015997739,
     "user": {
      "displayName": "Julian Frank",
      "photoUrl": "https://lh3.googleusercontent.com/a/default-user=s64",
      "userId": "13899297847119677507"
     },
     "user_tz": -120
    },
    "id": "90EhR8nmCUc1",
    "outputId": "b053f2f2-f9e3-4a38-c5c5-7a66f6fdcc0c"
   },
   "outputs": [
    {
     "data": {
      "image/png": "[encoded data removed]",
      "text/plain": [
       "<Figure size 432x432 with 9 Axes>"
      ]
     },
     "metadata": {
      "needs_background": "light"
     },
     "output_type": "display_data"
    }
   ],
   "source": [
    "n = 3\n",
    "fig, ax = plt.subplots(n, n, figsize=(2*n, 2*n))\n",
    "ax = [ax_xy for ax_y in ax for ax_xy in ax_y]\n",
    "for axi, im_idx in zip(ax, np.random.choice(len(train_images), n**2)):\n",
    "  im = train_images[im_idx]\n",
    "  im_class = train_labels[im_idx]\n",
    "  axi.imshow(im, cmap='gray')\n",
    "  axi.text(1, 4, f'{im_class}', color='r', size=16)\n",
    "  axi.grid(False)\n",
    "plt.tight_layout(0,0,0)\n",
    "plt.show()"
   ]
  },
  {
   "cell_type": "markdown",
   "metadata": {
    "id": "xeaJnq9hCUc3"
   },
   "source": [
    "Each of the training and test examples is assigned to one of the following labels:\n",
    "\n",
    "| Label | Description |\n",
    "| --- | --- |\n",
    "| 0 | T-shirt/top |\n",
    "| 1 | Trouser |\n",
    "| 2 | Pullover |\n",
    "| 3 | Dress |\n",
    "| 4 | Coat |\n",
    "| 5 | Sandal |\n",
    "| 6 | Shirt |\n",
    "| 7 | Sneaker |\n",
    "| 8 | Bag |\n",
    "| 9 | Ankle boot |"
   ]
  },
  {
   "cell_type": "markdown",
   "metadata": {
    "id": "s_wxOrdWko8W"
   },
   "source": [
    "In this course we will use several synthetic and real-world datasets to illustrate the behavior of the models and exercise our skills."
   ]
  },
  {
   "cell_type": "markdown",
   "metadata": {
    "id": "F9ARiWSS91kO"
   },
   "source": [
    "# 1. Unsupervised Learning Techniques\n"
   ]
  },
  {
   "cell_type": "markdown",
   "metadata": {
    "id": "afROKfT591kS"
   },
   "source": [
    "## 1. Principal Component Analysis (PCA)"
   ]
  },
  {
   "cell_type": "markdown",
   "metadata": {
    "id": "cXqNWQWT91kU"
   },
   "source": [
    "### Theory overview."
   ]
  },
  {
   "cell_type": "markdown",
   "metadata": {
    "id": "xVw0KP4_91kW"
   },
   "source": [
    "**Objective:** PCA is used for dimensionality reduction when we have a large number $D$ of features with non-trivial intercorrelation ( data redundancy ) and to isolate relevant features.\n",
    "\n",
    "PCA provides a new set of $M$ uncorrelated features for every data point, with $M \\le D$. The new features are:\n",
    "\n",
    "- a linear combination of the original ones ; \n",
    "- uncorrelated between each other ; \n",
    "\n",
    "If $M \\ll D$ we get an effective dimensionality reduction."
   ]
  },
  {
   "cell_type": "markdown",
   "metadata": {
    "id": "xnnFBIaf91kX"
   },
   "source": [
    "**Methods:** Each data point indexed by $p=1..N$ can be seen as an element $\\mathbf{x}_p \\in \\mathbf{R}^D$. \n",
    "\n",
    "The variance of the data-cloud measures the spread around its centroid:\n",
    "\n",
    "$$S^2=\\frac{1}{N}\\sum_{p=1}^{N}  ( \\mathbf{x}_p - \\mathbf{\\overline{x}})^2$$\n",
    "$$\\mathbf{\\overline{x}}=\\frac{1}{N}\\sum_{p=1}^{N} \\mathbf{x}_p$$\n",
    "\n",
    "We fix a number $1\\le k \\le D$ and consider a subspace $V_k$ of dimension $k$. Each data point  $\\mathbf{x}_p$ is projected onto $V_k$, leading to points $\\mathbf{x}^k_p$ with spread $S^{2,k}$.  PCA chooses $V_k$ such that the variance $S^{2,k}$ is maximized, as shown in the picture."
   ]
  },
  {
   "cell_type": "markdown",
   "metadata": {
    "id": "XwbKF5LZijSQ"
   },
   "source": [
    "<img src=\"https://github.com/neworldemancer/DSF5/raw/master/figures/pca-theory.png\" width=\"100%\"/>"
   ]
  },
  {
   "cell_type": "markdown",
   "metadata": {
    "id": "0ySGaLWp91kZ"
   },
   "source": [
    "**Terminology and output of a PCA computation:** \n",
    "- `Principal components`: A sequence of orthonormal vectors $k_1,..,k_n$ spanning optimal subspaces: $\\text{Span}\\{k_1,..,k_m\\}=V_m$ ; \n",
    "- `Scores`: For every sample-point $p$. the new features are called scores are given by the component of $p$ along the $k$ vectors;  \n",
    "- `Reconstructed vector`: For every $k$, the projection of $V$ on $V_k$ ;\n",
    "- `Explained variance`: For every k, the ratio between the variance of the reconstructed vectors and total variance. The number of components is chosen selecting an optimal k. The plot of the explained variance as a function of k is called a *scree plot*"
   ]
  },
  {
   "cell_type": "markdown",
   "metadata": {
    "id": "hF-FTX_P91ka"
   },
   "source": [
    "### Sklearn: implementation and usage of PCA.\n",
    "\n",
    "\n",
    "https://scikit-learn.org/stable/modules/generated/sklearn.decomposition.PCA.html#sklearn.decomposition.PCA"
   ]
  },
  {
   "cell_type": "markdown",
   "metadata": {
    "id": "SGwCp73k91kb"
   },
   "source": [
    "We start showing a two-dimensional example that can be easy visualized."
   ]
  },
  {
   "cell_type": "markdown",
   "metadata": {
    "id": "LoEWiYnL91ko"
   },
   "source": [
    "We load the datasets that we are going to use for the examples:"
   ]
  },
  {
   "cell_type": "code",
   "execution_count": null,
   "metadata": {
    "colab": {
     "base_uri": "https://localhost:8080/",
     "height": 337
    },
    "executionInfo": {
     "elapsed": 855,
     "status": "ok",
     "timestamp": 1632995748713,
     "user": {
      "displayName": "Julian Frank",
      "photoUrl": "https://lh3.googleusercontent.com/a/default-user=s64",
      "userId": "13899297847119677507"
     },
     "user_tz": -120
    },
    "id": "GZ4SGUVv91kq",
    "outputId": "3c646992-3d9b-4a50-f61e-7825fbb6b6ad"
   },
   "outputs": [
    {
     "name": "stdout",
     "output_type": "stream",
     "text": [
      "We have  30 samples of dimension  2\n"
     ]
    },
    {
     "data": {
      "image/png": "[encoded data removed]",
      "text/plain": [
       "<Figure size 360x360 with 1 Axes>"
      ]
     },
     "metadata": {
      "needs_background": "light"
     },
     "output_type": "display_data"
    }
   ],
   "source": [
    "data=load_sample_data_pca()\n",
    "\n",
    "n_samples,n_dim=data.shape\n",
    "\n",
    "print('We have ',n_samples, 'samples of dimension ', n_dim)\n",
    "\n",
    "plt.figure(figsize=((5,5)))\n",
    "plt.grid()\n",
    "plt.plot(data[:,0],data[:,1],'o')\n",
    "plt.show()"
   ]
  },
  {
   "cell_type": "markdown",
   "metadata": {
    "id": "wzvgzzfA91k8"
   },
   "source": [
    "The data set is almost one dimensional. PCA will confirm this result.\n",
    "\n",
    "As with most of sklearn functionalities, we need first to create a PCA object. We will use the object methods to perform PCA."
   ]
  },
  {
   "cell_type": "code",
   "execution_count": null,
   "metadata": {
    "id": "l6poli6o91k_"
   },
   "outputs": [],
   "source": [
    "pca=PCA(n_components=2) "
   ]
  },
  {
   "cell_type": "markdown",
   "metadata": {
    "id": "ju0UCpkP91lK"
   },
   "source": [
    "A call to the pca.fit method computes the principal components"
   ]
  },
  {
   "cell_type": "code",
   "execution_count": null,
   "metadata": {
    "colab": {
     "base_uri": "https://localhost:8080/"
    },
    "executionInfo": {
     "elapsed": 369,
     "status": "ok",
     "timestamp": 1632995754586,
     "user": {
      "displayName": "Julian Frank",
      "photoUrl": "https://lh3.googleusercontent.com/a/default-user=s64",
      "userId": "13899297847119677507"
     },
     "user_tz": -120
    },
    "id": "ifWK32ME91lM",
    "outputId": "87c67063-58e5-4327-accb-2260fc55aa99"
   },
   "outputs": [
    {
     "data": {
      "text/plain": [
       "PCA(copy=True, iterated_power='auto', n_components=2, random_state=None,\n",
       "    svd_solver='auto', tol=0.0, whiten=False)"
      ]
     },
     "execution_count": 8,
     "metadata": {},
     "output_type": "execute_result"
    }
   ],
   "source": [
    "pca.fit(data)"
   ]
  },
  {
   "cell_type": "markdown",
   "metadata": {
    "id": "jZdfZbLv91lW"
   },
   "source": [
    "Now the pca.components_ attribute contains the principal components. We can print them alongside with the data and check that they constitute an orthonormal basis."
   ]
  },
  {
   "cell_type": "code",
   "execution_count": null,
   "metadata": {
    "colab": {
     "base_uri": "https://localhost:8080/",
     "height": 324
    },
    "executionInfo": {
     "elapsed": 408,
     "status": "ok",
     "timestamp": 1632995771312,
     "user": {
      "displayName": "Julian Frank",
      "photoUrl": "https://lh3.googleusercontent.com/a/default-user=s64",
      "userId": "13899297847119677507"
     },
     "user_tz": -120
    },
    "id": "4-RnE3H491lY",
    "outputId": "ba016c6a-9ab8-483b-a72a-78ea5888059d"
   },
   "outputs": [
    {
     "data": {
      "image/png": "[encoded data removed]",
      "text/plain": [
       "<Figure size 360x360 with 1 Axes>"
      ]
     },
     "metadata": {
      "needs_background": "light"
     },
     "output_type": "display_data"
    }
   ],
   "source": [
    "plt.figure(figsize=((5,5)))\n",
    "plt.grid()\n",
    "plt.plot(data[:,0],data[:,1],'o')\n",
    "\n",
    "circle=plt.Circle((0, 0), 1.0, linestyle='--', color='red',fill=False)\n",
    "ax=plt.gca()\n",
    "ax.add_artist(circle)\n",
    "\n",
    "for vec in pca.components_:\n",
    "    plt.quiver([0], [0], [vec[0]], [vec[1]], angles='xy', scale_units='xy', scale=1)\n",
    "\n",
    "plt.xlim(-2,2)\n",
    "plt.ylim(-2,2)\n",
    "plt.show()"
   ]
  },
  {
   "cell_type": "markdown",
   "metadata": {
    "id": "q48o3r3t91li"
   },
   "source": [
    "The pca.explained_variance_ratio_ attribute contains the explained variance. In this case we see that already the first reconstructed vector explains 95% of the variance."
   ]
  },
  {
   "cell_type": "code",
   "execution_count": null,
   "metadata": {
    "colab": {
     "base_uri": "https://localhost:8080/"
    },
    "executionInfo": {
     "elapsed": 306,
     "status": "ok",
     "timestamp": 1632995777624,
     "user": {
      "displayName": "Julian Frank",
      "photoUrl": "https://lh3.googleusercontent.com/a/default-user=s64",
      "userId": "13899297847119677507"
     },
     "user_tz": -120
    },
    "id": "TwEopdTN91lk",
    "outputId": "42b9a06e-668c-49d5-9b11-8a8c642da3ef"
   },
   "outputs": [
    {
     "name": "stdout",
     "output_type": "stream",
     "text": [
      "[0.95140729 0.04859271]\n"
     ]
    }
   ],
   "source": [
    "print(pca.explained_variance_ratio_)"
   ]
  },
  {
   "cell_type": "markdown",
   "metadata": {
    "id": "jfaA1wo391ls"
   },
   "source": [
    "To compute the reconstructed vectors for k=1 we first need to compute the scores and then multiply by the basis vectors:\n",
    "\n",
    "$\\mathbf x_{rec}=\\sum_i (\\mathbf x \\cdot \\mathbf v^{pr}_i) \\mathbf v^{pr}_i$"
   ]
  },
  {
   "cell_type": "code",
   "execution_count": null,
   "metadata": {
    "id": "enRkHTyO91lu"
   },
   "outputs": [],
   "source": [
    "k=1\n",
    "scores=pca.transform(data)\n",
    "res=np.dot(scores[:,:k], pca.components_[:k,:] )"
   ]
  },
  {
   "cell_type": "code",
   "execution_count": null,
   "metadata": {
    "colab": {
     "base_uri": "https://localhost:8080/",
     "height": 324
    },
    "executionInfo": {
     "elapsed": 546,
     "status": "ok",
     "timestamp": 1632995787470,
     "user": {
      "displayName": "Julian Frank",
      "photoUrl": "https://lh3.googleusercontent.com/a/default-user=s64",
      "userId": "13899297847119677507"
     },
     "user_tz": -120
    },
    "id": "fpoIobhk91ly",
    "outputId": "5fa7ca71-af6e-46e7-d0b4-e3082d039d0e"
   },
   "outputs": [
    {
     "data": {
      "image/png": "[encoded data removed]",
      "text/plain": [
       "<Figure size 360x360 with 1 Axes>"
      ]
     },
     "metadata": {
      "needs_background": "light"
     },
     "output_type": "display_data"
    }
   ],
   "source": [
    "plt.figure(figsize=((5,5)))\n",
    "plt.plot(res[:,0],res[:,1],'o')\n",
    "plt.plot(data[:,0],data[:,1],'o')\n",
    "\n",
    "for a,b,c,d in zip(data[:,0],data[:,1],res[:,0],res[:,1]) :\n",
    "    plt.plot([a,c],[b,d],'-', linestyle = '--', color='red')\n",
    "\n",
    "plt.grid()\n",
    "\n",
    "plt.xlim(-1.0,1.0)\n",
    "plt.ylim(-1.0,1.0)\n",
    "plt.show()"
   ]
  },
  {
   "cell_type": "markdown",
   "metadata": {
    "id": "oZlmDioD91mD"
   },
   "source": [
    "The same procedure is followed for high dimensional datasets. Here we generate random data which lies almost on a 6-dimensional subspace. The resulting scree plot can be used to find this result in a semi-automatic fashion."
   ]
  },
  {
   "cell_type": "code",
   "execution_count": null,
   "metadata": {
    "colab": {
     "base_uri": "https://localhost:8080/",
     "height": 1000
    },
    "executionInfo": {
     "elapsed": 345,
     "status": "ok",
     "timestamp": 1632996009618,
     "user": {
      "displayName": "Julian Frank",
      "photoUrl": "https://lh3.googleusercontent.com/a/default-user=s64",
      "userId": "13899297847119677507"
     },
     "user_tz": -120
    },
    "id": "SghqE-fW91mL",
    "outputId": "4bced8ef-8e04-40c1-f1c4-55d73fe0ee50"
   },
   "outputs": [
    {
     "name": "stdout",
     "output_type": "stream",
     "text": [
      "We have  40 samples of dimension  20\n"
     ]
    },
    {
     "data": {
      "text/html": [
       "<div>\n",
       "<style scoped>\n",
       "    .dataframe tbody tr th:only-of-type {\n",
       "        vertical-align: middle;\n",
       "    }\n",
       "\n",
       "    .dataframe tbody tr th {\n",
       "        vertical-align: top;\n",
       "    }\n",
       "\n",
       "    .dataframe thead th {\n",
       "        text-align: right;\n",
       "    }\n",
       "</style>\n",
       "<table border=\"1\" class=\"dataframe\">\n",
       "  <thead>\n",
       "    <tr style=\"text-align: right;\">\n",
       "      <th></th>\n",
       "      <th>0</th>\n",
       "      <th>1</th>\n",
       "      <th>2</th>\n",
       "      <th>3</th>\n",
       "      <th>4</th>\n",
       "      <th>5</th>\n",
       "      <th>6</th>\n",
       "      <th>7</th>\n",
       "      <th>8</th>\n",
       "      <th>9</th>\n",
       "      <th>10</th>\n",
       "      <th>11</th>\n",
       "      <th>12</th>\n",
       "      <th>13</th>\n",
       "      <th>14</th>\n",
       "      <th>15</th>\n",
       "      <th>16</th>\n",
       "      <th>17</th>\n",
       "      <th>18</th>\n",
       "      <th>19</th>\n",
       "    </tr>\n",
       "  </thead>\n",
       "  <tbody>\n",
       "    <tr>\n",
       "      <th>0</th>\n",
       "      <td>0.057607</td>\n",
       "      <td>-0.915446</td>\n",
       "      <td>1.516455</td>\n",
       "      <td>-2.726731</td>\n",
       "      <td>-0.193788</td>\n",
       "      <td>-5.200837</td>\n",
       "      <td>2.059481</td>\n",
       "      <td>1.058316</td>\n",
       "      <td>-1.198682</td>\n",
       "      <td>3.017239</td>\n",
       "      <td>-1.084930</td>\n",
       "      <td>-0.553132</td>\n",
       "      <td>2.552026</td>\n",
       "      <td>-2.926714</td>\n",
       "      <td>1.025850</td>\n",
       "      <td>0.197201</td>\n",
       "      <td>-0.427221</td>\n",
       "      <td>0.529465</td>\n",
       "      <td>-1.589796</td>\n",
       "      <td>2.621419</td>\n",
       "    </tr>\n",
       "    <tr>\n",
       "      <th>1</th>\n",
       "      <td>0.047550</td>\n",
       "      <td>-0.672421</td>\n",
       "      <td>-0.664937</td>\n",
       "      <td>2.398399</td>\n",
       "      <td>0.485554</td>\n",
       "      <td>1.553417</td>\n",
       "      <td>-0.899574</td>\n",
       "      <td>-1.906447</td>\n",
       "      <td>-0.577283</td>\n",
       "      <td>-0.366650</td>\n",
       "      <td>0.458511</td>\n",
       "      <td>-0.618762</td>\n",
       "      <td>-1.705885</td>\n",
       "      <td>0.974244</td>\n",
       "      <td>0.772046</td>\n",
       "      <td>0.110447</td>\n",
       "      <td>-0.826997</td>\n",
       "      <td>0.423236</td>\n",
       "      <td>0.627540</td>\n",
       "      <td>-0.672980</td>\n",
       "    </tr>\n",
       "    <tr>\n",
       "      <th>2</th>\n",
       "      <td>-0.493901</td>\n",
       "      <td>0.338718</td>\n",
       "      <td>1.208451</td>\n",
       "      <td>-3.590316</td>\n",
       "      <td>-1.402535</td>\n",
       "      <td>-1.443363</td>\n",
       "      <td>1.358663</td>\n",
       "      <td>2.438174</td>\n",
       "      <td>-0.054814</td>\n",
       "      <td>-0.107454</td>\n",
       "      <td>1.055315</td>\n",
       "      <td>0.496365</td>\n",
       "      <td>1.301210</td>\n",
       "      <td>-1.704934</td>\n",
       "      <td>-1.829711</td>\n",
       "      <td>-1.372640</td>\n",
       "      <td>-0.847676</td>\n",
       "      <td>0.189156</td>\n",
       "      <td>-0.666135</td>\n",
       "      <td>1.100255</td>\n",
       "    </tr>\n",
       "    <tr>\n",
       "      <th>3</th>\n",
       "      <td>-1.380110</td>\n",
       "      <td>-0.633433</td>\n",
       "      <td>-1.242304</td>\n",
       "      <td>1.366004</td>\n",
       "      <td>0.489870</td>\n",
       "      <td>1.488580</td>\n",
       "      <td>-3.640406</td>\n",
       "      <td>0.358091</td>\n",
       "      <td>-0.743212</td>\n",
       "      <td>-1.181975</td>\n",
       "      <td>0.229009</td>\n",
       "      <td>1.437639</td>\n",
       "      <td>-1.842296</td>\n",
       "      <td>-0.078923</td>\n",
       "      <td>-0.619463</td>\n",
       "      <td>-0.509769</td>\n",
       "      <td>-0.639929</td>\n",
       "      <td>0.192434</td>\n",
       "      <td>1.176299</td>\n",
       "      <td>-0.323965</td>\n",
       "    </tr>\n",
       "    <tr>\n",
       "      <th>4</th>\n",
       "      <td>1.580886</td>\n",
       "      <td>-0.058746</td>\n",
       "      <td>-1.312367</td>\n",
       "      <td>1.658974</td>\n",
       "      <td>-2.799250</td>\n",
       "      <td>0.772076</td>\n",
       "      <td>0.545654</td>\n",
       "      <td>-2.802954</td>\n",
       "      <td>-0.075930</td>\n",
       "      <td>-0.093933</td>\n",
       "      <td>-0.647947</td>\n",
       "      <td>-3.524710</td>\n",
       "      <td>-0.246673</td>\n",
       "      <td>1.012009</td>\n",
       "      <td>1.296497</td>\n",
       "      <td>1.351999</td>\n",
       "      <td>-0.032511</td>\n",
       "      <td>-0.177914</td>\n",
       "      <td>0.344139</td>\n",
       "      <td>-0.324115</td>\n",
       "    </tr>\n",
       "    <tr>\n",
       "      <th>5</th>\n",
       "      <td>-0.468288</td>\n",
       "      <td>0.911091</td>\n",
       "      <td>-2.052569</td>\n",
       "      <td>1.327155</td>\n",
       "      <td>-0.805170</td>\n",
       "      <td>3.981105</td>\n",
       "      <td>0.625455</td>\n",
       "      <td>0.886321</td>\n",
       "      <td>0.939298</td>\n",
       "      <td>-1.405417</td>\n",
       "      <td>2.647955</td>\n",
       "      <td>0.669804</td>\n",
       "      <td>-0.904250</td>\n",
       "      <td>2.911656</td>\n",
       "      <td>0.726984</td>\n",
       "      <td>1.024747</td>\n",
       "      <td>1.999487</td>\n",
       "      <td>-1.655684</td>\n",
       "      <td>-0.987286</td>\n",
       "      <td>-3.583708</td>\n",
       "    </tr>\n",
       "    <tr>\n",
       "      <th>6</th>\n",
       "      <td>1.044109</td>\n",
       "      <td>0.492722</td>\n",
       "      <td>0.001368</td>\n",
       "      <td>-1.124982</td>\n",
       "      <td>-0.814581</td>\n",
       "      <td>0.278617</td>\n",
       "      <td>1.520754</td>\n",
       "      <td>0.189108</td>\n",
       "      <td>0.650929</td>\n",
       "      <td>0.873931</td>\n",
       "      <td>1.245516</td>\n",
       "      <td>-1.241230</td>\n",
       "      <td>0.376559</td>\n",
       "      <td>1.065651</td>\n",
       "      <td>0.386792</td>\n",
       "      <td>2.568303</td>\n",
       "      <td>0.090955</td>\n",
       "      <td>0.894701</td>\n",
       "      <td>-2.343953</td>\n",
       "      <td>0.454098</td>\n",
       "    </tr>\n",
       "    <tr>\n",
       "      <th>7</th>\n",
       "      <td>2.528951</td>\n",
       "      <td>0.261156</td>\n",
       "      <td>0.913198</td>\n",
       "      <td>0.634845</td>\n",
       "      <td>-2.544799</td>\n",
       "      <td>0.146949</td>\n",
       "      <td>0.104510</td>\n",
       "      <td>-1.342920</td>\n",
       "      <td>-1.354704</td>\n",
       "      <td>0.789701</td>\n",
       "      <td>-1.697436</td>\n",
       "      <td>-3.383002</td>\n",
       "      <td>0.451026</td>\n",
       "      <td>-0.983104</td>\n",
       "      <td>1.153724</td>\n",
       "      <td>0.971148</td>\n",
       "      <td>-1.082642</td>\n",
       "      <td>-1.204044</td>\n",
       "      <td>-0.275701</td>\n",
       "      <td>0.008569</td>\n",
       "    </tr>\n",
       "    <tr>\n",
       "      <th>8</th>\n",
       "      <td>-0.249632</td>\n",
       "      <td>-0.347779</td>\n",
       "      <td>-0.043923</td>\n",
       "      <td>0.328768</td>\n",
       "      <td>0.862638</td>\n",
       "      <td>-1.739315</td>\n",
       "      <td>-0.124484</td>\n",
       "      <td>0.526658</td>\n",
       "      <td>-0.922309</td>\n",
       "      <td>0.077585</td>\n",
       "      <td>-0.359645</td>\n",
       "      <td>1.284231</td>\n",
       "      <td>0.219688</td>\n",
       "      <td>-1.515512</td>\n",
       "      <td>1.778390</td>\n",
       "      <td>-0.663324</td>\n",
       "      <td>0.882880</td>\n",
       "      <td>-1.802604</td>\n",
       "      <td>1.496886</td>\n",
       "      <td>-0.638589</td>\n",
       "    </tr>\n",
       "    <tr>\n",
       "      <th>9</th>\n",
       "      <td>-0.043494</td>\n",
       "      <td>0.443667</td>\n",
       "      <td>-3.080737</td>\n",
       "      <td>1.950753</td>\n",
       "      <td>1.105346</td>\n",
       "      <td>0.249951</td>\n",
       "      <td>0.822441</td>\n",
       "      <td>0.991400</td>\n",
       "      <td>1.927219</td>\n",
       "      <td>-0.301845</td>\n",
       "      <td>2.480054</td>\n",
       "      <td>1.448380</td>\n",
       "      <td>0.245799</td>\n",
       "      <td>0.971161</td>\n",
       "      <td>2.304516</td>\n",
       "      <td>2.055810</td>\n",
       "      <td>4.278597</td>\n",
       "      <td>-2.044834</td>\n",
       "      <td>-0.712274</td>\n",
       "      <td>-2.504186</td>\n",
       "    </tr>\n",
       "    <tr>\n",
       "      <th>10</th>\n",
       "      <td>0.285755</td>\n",
       "      <td>1.618304</td>\n",
       "      <td>0.214693</td>\n",
       "      <td>0.016970</td>\n",
       "      <td>-0.381272</td>\n",
       "      <td>1.092548</td>\n",
       "      <td>-2.093502</td>\n",
       "      <td>0.018494</td>\n",
       "      <td>-1.140871</td>\n",
       "      <td>-1.283053</td>\n",
       "      <td>1.211141</td>\n",
       "      <td>0.869158</td>\n",
       "      <td>-0.280415</td>\n",
       "      <td>0.063441</td>\n",
       "      <td>-1.986218</td>\n",
       "      <td>-1.851592</td>\n",
       "      <td>-0.572460</td>\n",
       "      <td>0.063644</td>\n",
       "      <td>0.953630</td>\n",
       "      <td>-1.179164</td>\n",
       "    </tr>\n",
       "    <tr>\n",
       "      <th>11</th>\n",
       "      <td>0.284481</td>\n",
       "      <td>-1.404426</td>\n",
       "      <td>0.212715</td>\n",
       "      <td>2.527191</td>\n",
       "      <td>-0.044872</td>\n",
       "      <td>-2.215161</td>\n",
       "      <td>-1.085378</td>\n",
       "      <td>-1.360492</td>\n",
       "      <td>-2.175675</td>\n",
       "      <td>0.374261</td>\n",
       "      <td>-2.223110</td>\n",
       "      <td>-1.467393</td>\n",
       "      <td>0.588931</td>\n",
       "      <td>-3.121044</td>\n",
       "      <td>1.209195</td>\n",
       "      <td>1.041338</td>\n",
       "      <td>0.815667</td>\n",
       "      <td>-0.955913</td>\n",
       "      <td>1.856786</td>\n",
       "      <td>0.849114</td>\n",
       "    </tr>\n",
       "    <tr>\n",
       "      <th>12</th>\n",
       "      <td>-1.363257</td>\n",
       "      <td>1.618428</td>\n",
       "      <td>0.258405</td>\n",
       "      <td>-0.768406</td>\n",
       "      <td>2.069800</td>\n",
       "      <td>-0.576255</td>\n",
       "      <td>-3.080521</td>\n",
       "      <td>1.004175</td>\n",
       "      <td>-2.172010</td>\n",
       "      <td>2.881148</td>\n",
       "      <td>1.169148</td>\n",
       "      <td>0.284756</td>\n",
       "      <td>-1.203239</td>\n",
       "      <td>-1.566280</td>\n",
       "      <td>-1.340136</td>\n",
       "      <td>1.243803</td>\n",
       "      <td>0.453519</td>\n",
       "      <td>-0.197365</td>\n",
       "      <td>0.359245</td>\n",
       "      <td>-0.162839</td>\n",
       "    </tr>\n",
       "    <tr>\n",
       "      <th>13</th>\n",
       "      <td>-0.119399</td>\n",
       "      <td>-0.509735</td>\n",
       "      <td>-0.310193</td>\n",
       "      <td>-1.032664</td>\n",
       "      <td>0.434594</td>\n",
       "      <td>-3.053188</td>\n",
       "      <td>0.270462</td>\n",
       "      <td>-0.038353</td>\n",
       "      <td>0.651951</td>\n",
       "      <td>2.093839</td>\n",
       "      <td>-0.898809</td>\n",
       "      <td>-0.387398</td>\n",
       "      <td>1.164204</td>\n",
       "      <td>-1.221402</td>\n",
       "      <td>1.574615</td>\n",
       "      <td>2.613651</td>\n",
       "      <td>1.394177</td>\n",
       "      <td>-0.666475</td>\n",
       "      <td>-1.641203</td>\n",
       "      <td>1.106039</td>\n",
       "    </tr>\n",
       "    <tr>\n",
       "      <th>14</th>\n",
       "      <td>0.482048</td>\n",
       "      <td>0.442383</td>\n",
       "      <td>0.312153</td>\n",
       "      <td>-0.259795</td>\n",
       "      <td>-2.196054</td>\n",
       "      <td>3.237916</td>\n",
       "      <td>0.176106</td>\n",
       "      <td>-0.941618</td>\n",
       "      <td>0.729442</td>\n",
       "      <td>-1.608608</td>\n",
       "      <td>1.006815</td>\n",
       "      <td>-1.333411</td>\n",
       "      <td>-0.513086</td>\n",
       "      <td>3.316153</td>\n",
       "      <td>-1.894846</td>\n",
       "      <td>-0.980348</td>\n",
       "      <td>-1.643431</td>\n",
       "      <td>2.326736</td>\n",
       "      <td>-0.184690</td>\n",
       "      <td>-0.671740</td>\n",
       "    </tr>\n",
       "    <tr>\n",
       "      <th>15</th>\n",
       "      <td>-0.546603</td>\n",
       "      <td>-0.334109</td>\n",
       "      <td>-1.018645</td>\n",
       "      <td>1.208476</td>\n",
       "      <td>0.394825</td>\n",
       "      <td>-0.089907</td>\n",
       "      <td>0.963019</td>\n",
       "      <td>-0.711753</td>\n",
       "      <td>0.842814</td>\n",
       "      <td>-0.711697</td>\n",
       "      <td>0.318116</td>\n",
       "      <td>-0.334578</td>\n",
       "      <td>-0.350951</td>\n",
       "      <td>1.380612</td>\n",
       "      <td>1.335572</td>\n",
       "      <td>0.975179</td>\n",
       "      <td>1.148819</td>\n",
       "      <td>1.024481</td>\n",
       "      <td>-0.353506</td>\n",
       "      <td>0.636180</td>\n",
       "    </tr>\n",
       "    <tr>\n",
       "      <th>16</th>\n",
       "      <td>1.363767</td>\n",
       "      <td>0.349549</td>\n",
       "      <td>2.021466</td>\n",
       "      <td>-1.456689</td>\n",
       "      <td>-1.137516</td>\n",
       "      <td>-0.698829</td>\n",
       "      <td>-0.470547</td>\n",
       "      <td>-1.350551</td>\n",
       "      <td>-0.478042</td>\n",
       "      <td>0.543511</td>\n",
       "      <td>-0.629152</td>\n",
       "      <td>-1.332982</td>\n",
       "      <td>0.285952</td>\n",
       "      <td>-1.579154</td>\n",
       "      <td>-1.352989</td>\n",
       "      <td>-1.185004</td>\n",
       "      <td>-1.782173</td>\n",
       "      <td>1.711988</td>\n",
       "      <td>-0.744647</td>\n",
       "      <td>2.766500</td>\n",
       "    </tr>\n",
       "    <tr>\n",
       "      <th>17</th>\n",
       "      <td>-1.092070</td>\n",
       "      <td>0.572026</td>\n",
       "      <td>-0.097345</td>\n",
       "      <td>-1.120170</td>\n",
       "      <td>1.651465</td>\n",
       "      <td>1.267932</td>\n",
       "      <td>-0.592905</td>\n",
       "      <td>0.178759</td>\n",
       "      <td>-0.768523</td>\n",
       "      <td>-0.803825</td>\n",
       "      <td>0.349454</td>\n",
       "      <td>0.025501</td>\n",
       "      <td>-2.856836</td>\n",
       "      <td>1.309916</td>\n",
       "      <td>-1.926424</td>\n",
       "      <td>-0.638992</td>\n",
       "      <td>0.143889</td>\n",
       "      <td>0.648203</td>\n",
       "      <td>0.177654</td>\n",
       "      <td>-0.093163</td>\n",
       "    </tr>\n",
       "    <tr>\n",
       "      <th>18</th>\n",
       "      <td>1.424264</td>\n",
       "      <td>0.906411</td>\n",
       "      <td>-0.022785</td>\n",
       "      <td>-3.527636</td>\n",
       "      <td>-2.646802</td>\n",
       "      <td>-1.455924</td>\n",
       "      <td>1.237957</td>\n",
       "      <td>1.124075</td>\n",
       "      <td>-0.562982</td>\n",
       "      <td>2.197851</td>\n",
       "      <td>0.305487</td>\n",
       "      <td>-1.133179</td>\n",
       "      <td>0.643360</td>\n",
       "      <td>-1.093955</td>\n",
       "      <td>-1.063149</td>\n",
       "      <td>1.031936</td>\n",
       "      <td>-1.461331</td>\n",
       "      <td>-0.719148</td>\n",
       "      <td>-1.553105</td>\n",
       "      <td>0.642058</td>\n",
       "    </tr>\n",
       "    <tr>\n",
       "      <th>19</th>\n",
       "      <td>-1.359229</td>\n",
       "      <td>0.045847</td>\n",
       "      <td>0.044851</td>\n",
       "      <td>-1.906962</td>\n",
       "      <td>0.127320</td>\n",
       "      <td>-1.725670</td>\n",
       "      <td>-1.647093</td>\n",
       "      <td>2.262662</td>\n",
       "      <td>-1.540573</td>\n",
       "      <td>3.775423</td>\n",
       "      <td>0.655954</td>\n",
       "      <td>0.273469</td>\n",
       "      <td>-0.527386</td>\n",
       "      <td>-1.850041</td>\n",
       "      <td>-1.383696</td>\n",
       "      <td>1.034926</td>\n",
       "      <td>0.680332</td>\n",
       "      <td>-1.452810</td>\n",
       "      <td>-0.003491</td>\n",
       "      <td>-0.957988</td>\n",
       "    </tr>\n",
       "    <tr>\n",
       "      <th>20</th>\n",
       "      <td>0.307526</td>\n",
       "      <td>1.481432</td>\n",
       "      <td>-1.702847</td>\n",
       "      <td>-4.782107</td>\n",
       "      <td>-1.274094</td>\n",
       "      <td>-2.160404</td>\n",
       "      <td>4.512184</td>\n",
       "      <td>3.585986</td>\n",
       "      <td>1.015104</td>\n",
       "      <td>2.526410</td>\n",
       "      <td>2.319852</td>\n",
       "      <td>0.341632</td>\n",
       "      <td>1.995781</td>\n",
       "      <td>0.099462</td>\n",
       "      <td>1.229059</td>\n",
       "      <td>1.539438</td>\n",
       "      <td>2.404305</td>\n",
       "      <td>-0.544577</td>\n",
       "      <td>-5.375731</td>\n",
       "      <td>-0.517671</td>\n",
       "    </tr>\n",
       "    <tr>\n",
       "      <th>21</th>\n",
       "      <td>0.340228</td>\n",
       "      <td>-0.185497</td>\n",
       "      <td>1.939117</td>\n",
       "      <td>-1.516339</td>\n",
       "      <td>-1.712614</td>\n",
       "      <td>-3.567137</td>\n",
       "      <td>-1.303806</td>\n",
       "      <td>-0.362031</td>\n",
       "      <td>-1.751694</td>\n",
       "      <td>1.187967</td>\n",
       "      <td>-1.235185</td>\n",
       "      <td>-0.616524</td>\n",
       "      <td>1.642070</td>\n",
       "      <td>-3.362522</td>\n",
       "      <td>0.056444</td>\n",
       "      <td>-2.079410</td>\n",
       "      <td>-1.529861</td>\n",
       "      <td>-0.494167</td>\n",
       "      <td>0.361844</td>\n",
       "      <td>1.493749</td>\n",
       "    </tr>\n",
       "    <tr>\n",
       "      <th>22</th>\n",
       "      <td>1.522162</td>\n",
       "      <td>0.116865</td>\n",
       "      <td>-0.831885</td>\n",
       "      <td>1.548781</td>\n",
       "      <td>-1.351330</td>\n",
       "      <td>3.129408</td>\n",
       "      <td>-0.434636</td>\n",
       "      <td>-1.954265</td>\n",
       "      <td>-1.368783</td>\n",
       "      <td>-0.205511</td>\n",
       "      <td>0.372327</td>\n",
       "      <td>-1.910923</td>\n",
       "      <td>-1.728044</td>\n",
       "      <td>1.954929</td>\n",
       "      <td>-0.461299</td>\n",
       "      <td>0.903239</td>\n",
       "      <td>-1.781571</td>\n",
       "      <td>1.625430</td>\n",
       "      <td>0.700721</td>\n",
       "      <td>-1.161284</td>\n",
       "    </tr>\n",
       "    <tr>\n",
       "      <th>23</th>\n",
       "      <td>-0.833120</td>\n",
       "      <td>-1.799279</td>\n",
       "      <td>0.545965</td>\n",
       "      <td>2.552344</td>\n",
       "      <td>3.431666</td>\n",
       "      <td>0.993716</td>\n",
       "      <td>-0.809759</td>\n",
       "      <td>-0.934920</td>\n",
       "      <td>1.511467</td>\n",
       "      <td>-3.791192</td>\n",
       "      <td>0.117282</td>\n",
       "      <td>1.970279</td>\n",
       "      <td>-2.413987</td>\n",
       "      <td>0.710373</td>\n",
       "      <td>1.534196</td>\n",
       "      <td>-2.034510</td>\n",
       "      <td>-0.953674</td>\n",
       "      <td>0.902288</td>\n",
       "      <td>2.290821</td>\n",
       "      <td>1.233410</td>\n",
       "    </tr>\n",
       "    <tr>\n",
       "      <th>24</th>\n",
       "      <td>-0.856982</td>\n",
       "      <td>0.401940</td>\n",
       "      <td>-0.554354</td>\n",
       "      <td>0.588180</td>\n",
       "      <td>1.200140</td>\n",
       "      <td>0.658394</td>\n",
       "      <td>2.217309</td>\n",
       "      <td>1.558382</td>\n",
       "      <td>1.899708</td>\n",
       "      <td>-2.510804</td>\n",
       "      <td>1.317234</td>\n",
       "      <td>2.490354</td>\n",
       "      <td>0.331100</td>\n",
       "      <td>2.029490</td>\n",
       "      <td>1.846528</td>\n",
       "      <td>-1.012977</td>\n",
       "      <td>1.472339</td>\n",
       "      <td>-1.309239</td>\n",
       "      <td>-0.943308</td>\n",
       "      <td>-1.625847</td>\n",
       "    </tr>\n",
       "    <tr>\n",
       "      <th>25</th>\n",
       "      <td>0.448550</td>\n",
       "      <td>-0.282276</td>\n",
       "      <td>0.426377</td>\n",
       "      <td>0.033926</td>\n",
       "      <td>-0.677866</td>\n",
       "      <td>-1.813669</td>\n",
       "      <td>-1.251110</td>\n",
       "      <td>-0.779129</td>\n",
       "      <td>-1.553286</td>\n",
       "      <td>0.947239</td>\n",
       "      <td>-1.154979</td>\n",
       "      <td>0.036153</td>\n",
       "      <td>0.743787</td>\n",
       "      <td>-3.292037</td>\n",
       "      <td>-0.608977</td>\n",
       "      <td>-1.802653</td>\n",
       "      <td>-0.874187</td>\n",
       "      <td>-1.197612</td>\n",
       "      <td>1.640073</td>\n",
       "      <td>0.979604</td>\n",
       "    </tr>\n",
       "    <tr>\n",
       "      <th>26</th>\n",
       "      <td>-0.723375</td>\n",
       "      <td>-1.086049</td>\n",
       "      <td>0.579189</td>\n",
       "      <td>1.116543</td>\n",
       "      <td>2.631400</td>\n",
       "      <td>-0.083650</td>\n",
       "      <td>1.020130</td>\n",
       "      <td>0.092179</td>\n",
       "      <td>1.660881</td>\n",
       "      <td>-2.464202</td>\n",
       "      <td>0.222696</td>\n",
       "      <td>2.364950</td>\n",
       "      <td>0.570221</td>\n",
       "      <td>0.339774</td>\n",
       "      <td>-0.048215</td>\n",
       "      <td>-2.911613</td>\n",
       "      <td>-0.582975</td>\n",
       "      <td>1.840129</td>\n",
       "      <td>0.844004</td>\n",
       "      <td>1.153216</td>\n",
       "    </tr>\n",
       "    <tr>\n",
       "      <th>27</th>\n",
       "      <td>1.910909</td>\n",
       "      <td>0.287030</td>\n",
       "      <td>0.682814</td>\n",
       "      <td>0.187538</td>\n",
       "      <td>-1.914084</td>\n",
       "      <td>-0.283769</td>\n",
       "      <td>0.650527</td>\n",
       "      <td>-2.429668</td>\n",
       "      <td>-0.124444</td>\n",
       "      <td>-0.523572</td>\n",
       "      <td>-0.621900</td>\n",
       "      <td>-1.293031</td>\n",
       "      <td>0.647560</td>\n",
       "      <td>-0.665825</td>\n",
       "      <td>0.421678</td>\n",
       "      <td>-0.909562</td>\n",
       "      <td>-0.795024</td>\n",
       "      <td>-0.275621</td>\n",
       "      <td>0.052148</td>\n",
       "      <td>-0.051048</td>\n",
       "    </tr>\n",
       "    <tr>\n",
       "      <th>28</th>\n",
       "      <td>-0.452954</td>\n",
       "      <td>0.797891</td>\n",
       "      <td>0.051874</td>\n",
       "      <td>-1.475723</td>\n",
       "      <td>-0.413025</td>\n",
       "      <td>0.075143</td>\n",
       "      <td>-2.636031</td>\n",
       "      <td>0.429180</td>\n",
       "      <td>-2.206981</td>\n",
       "      <td>3.108379</td>\n",
       "      <td>1.306101</td>\n",
       "      <td>-0.435480</td>\n",
       "      <td>-2.492048</td>\n",
       "      <td>-0.771305</td>\n",
       "      <td>-2.380143</td>\n",
       "      <td>1.619793</td>\n",
       "      <td>0.356375</td>\n",
       "      <td>-0.101017</td>\n",
       "      <td>-0.271071</td>\n",
       "      <td>-1.883939</td>\n",
       "    </tr>\n",
       "    <tr>\n",
       "      <th>29</th>\n",
       "      <td>-1.225539</td>\n",
       "      <td>-0.757181</td>\n",
       "      <td>1.412815</td>\n",
       "      <td>-2.638755</td>\n",
       "      <td>3.017300</td>\n",
       "      <td>-2.357398</td>\n",
       "      <td>-0.856530</td>\n",
       "      <td>1.957976</td>\n",
       "      <td>0.505121</td>\n",
       "      <td>0.080853</td>\n",
       "      <td>1.007011</td>\n",
       "      <td>3.335672</td>\n",
       "      <td>0.455080</td>\n",
       "      <td>-1.733788</td>\n",
       "      <td>-2.069973</td>\n",
       "      <td>-1.825664</td>\n",
       "      <td>0.063759</td>\n",
       "      <td>0.821206</td>\n",
       "      <td>0.068820</td>\n",
       "      <td>1.265290</td>\n",
       "    </tr>\n",
       "    <tr>\n",
       "      <th>30</th>\n",
       "      <td>0.798867</td>\n",
       "      <td>-0.332064</td>\n",
       "      <td>0.662296</td>\n",
       "      <td>-1.016176</td>\n",
       "      <td>-0.370233</td>\n",
       "      <td>-1.647261</td>\n",
       "      <td>2.028783</td>\n",
       "      <td>-0.101173</td>\n",
       "      <td>0.477596</td>\n",
       "      <td>-1.235438</td>\n",
       "      <td>0.033486</td>\n",
       "      <td>0.229243</td>\n",
       "      <td>1.138334</td>\n",
       "      <td>-0.597059</td>\n",
       "      <td>0.761715</td>\n",
       "      <td>-1.135378</td>\n",
       "      <td>-0.173587</td>\n",
       "      <td>-0.052228</td>\n",
       "      <td>-0.152186</td>\n",
       "      <td>1.475944</td>\n",
       "    </tr>\n",
       "    <tr>\n",
       "      <th>31</th>\n",
       "      <td>0.530446</td>\n",
       "      <td>0.974923</td>\n",
       "      <td>1.818198</td>\n",
       "      <td>-1.757254</td>\n",
       "      <td>-0.117696</td>\n",
       "      <td>0.096875</td>\n",
       "      <td>-0.283201</td>\n",
       "      <td>-0.171464</td>\n",
       "      <td>-0.522419</td>\n",
       "      <td>0.721555</td>\n",
       "      <td>0.248666</td>\n",
       "      <td>0.775817</td>\n",
       "      <td>-1.185058</td>\n",
       "      <td>1.279463</td>\n",
       "      <td>-1.146460</td>\n",
       "      <td>-0.930794</td>\n",
       "      <td>-1.223541</td>\n",
       "      <td>2.005213</td>\n",
       "      <td>-0.277565</td>\n",
       "      <td>1.305521</td>\n",
       "    </tr>\n",
       "    <tr>\n",
       "      <th>32</th>\n",
       "      <td>-2.308608</td>\n",
       "      <td>0.596130</td>\n",
       "      <td>-1.702726</td>\n",
       "      <td>1.109309</td>\n",
       "      <td>1.536513</td>\n",
       "      <td>-1.801752</td>\n",
       "      <td>-2.778165</td>\n",
       "      <td>1.739494</td>\n",
       "      <td>-1.275979</td>\n",
       "      <td>1.641723</td>\n",
       "      <td>0.789722</td>\n",
       "      <td>0.675886</td>\n",
       "      <td>-0.828349</td>\n",
       "      <td>-2.100775</td>\n",
       "      <td>2.387955</td>\n",
       "      <td>2.066271</td>\n",
       "      <td>1.936425</td>\n",
       "      <td>-3.398897</td>\n",
       "      <td>1.697643</td>\n",
       "      <td>-1.963147</td>\n",
       "    </tr>\n",
       "    <tr>\n",
       "      <th>33</th>\n",
       "      <td>2.585491</td>\n",
       "      <td>-0.452726</td>\n",
       "      <td>1.392822</td>\n",
       "      <td>0.407801</td>\n",
       "      <td>-2.084863</td>\n",
       "      <td>1.338395</td>\n",
       "      <td>1.343713</td>\n",
       "      <td>-2.459784</td>\n",
       "      <td>-0.255930</td>\n",
       "      <td>0.214875</td>\n",
       "      <td>-1.777442</td>\n",
       "      <td>-2.276204</td>\n",
       "      <td>1.789258</td>\n",
       "      <td>-0.204546</td>\n",
       "      <td>0.590914</td>\n",
       "      <td>0.697555</td>\n",
       "      <td>-1.644697</td>\n",
       "      <td>1.068409</td>\n",
       "      <td>-0.019590</td>\n",
       "      <td>2.027075</td>\n",
       "    </tr>\n",
       "    <tr>\n",
       "      <th>34</th>\n",
       "      <td>-0.808668</td>\n",
       "      <td>-1.449221</td>\n",
       "      <td>0.766058</td>\n",
       "      <td>-0.000722</td>\n",
       "      <td>2.763833</td>\n",
       "      <td>-2.109950</td>\n",
       "      <td>-0.386494</td>\n",
       "      <td>1.961668</td>\n",
       "      <td>0.286896</td>\n",
       "      <td>-1.160212</td>\n",
       "      <td>-0.722092</td>\n",
       "      <td>1.866152</td>\n",
       "      <td>0.140815</td>\n",
       "      <td>-1.453578</td>\n",
       "      <td>0.941164</td>\n",
       "      <td>-1.526983</td>\n",
       "      <td>0.945538</td>\n",
       "      <td>-0.033871</td>\n",
       "      <td>1.211295</td>\n",
       "      <td>0.757734</td>\n",
       "    </tr>\n",
       "    <tr>\n",
       "      <th>35</th>\n",
       "      <td>2.066475</td>\n",
       "      <td>0.094119</td>\n",
       "      <td>3.221866</td>\n",
       "      <td>-1.271354</td>\n",
       "      <td>-2.930214</td>\n",
       "      <td>-1.312527</td>\n",
       "      <td>-0.529611</td>\n",
       "      <td>-1.305092</td>\n",
       "      <td>-1.760831</td>\n",
       "      <td>-0.119267</td>\n",
       "      <td>-1.831613</td>\n",
       "      <td>-1.302391</td>\n",
       "      <td>1.257692</td>\n",
       "      <td>-1.376520</td>\n",
       "      <td>-2.858654</td>\n",
       "      <td>-2.676382</td>\n",
       "      <td>-4.072019</td>\n",
       "      <td>0.095078</td>\n",
       "      <td>1.128643</td>\n",
       "      <td>2.639298</td>\n",
       "    </tr>\n",
       "    <tr>\n",
       "      <th>36</th>\n",
       "      <td>1.521894</td>\n",
       "      <td>1.515424</td>\n",
       "      <td>0.484201</td>\n",
       "      <td>-0.747351</td>\n",
       "      <td>-3.775922</td>\n",
       "      <td>2.236721</td>\n",
       "      <td>0.203250</td>\n",
       "      <td>-1.025028</td>\n",
       "      <td>-0.047317</td>\n",
       "      <td>-1.046063</td>\n",
       "      <td>0.899661</td>\n",
       "      <td>-1.675482</td>\n",
       "      <td>0.092904</td>\n",
       "      <td>1.975309</td>\n",
       "      <td>-2.725576</td>\n",
       "      <td>-1.009012</td>\n",
       "      <td>-2.581935</td>\n",
       "      <td>1.854163</td>\n",
       "      <td>-0.299028</td>\n",
       "      <td>-0.313364</td>\n",
       "    </tr>\n",
       "    <tr>\n",
       "      <th>37</th>\n",
       "      <td>-0.155084</td>\n",
       "      <td>-0.748892</td>\n",
       "      <td>1.245370</td>\n",
       "      <td>-1.517106</td>\n",
       "      <td>0.029173</td>\n",
       "      <td>-1.220866</td>\n",
       "      <td>1.275809</td>\n",
       "      <td>-0.651386</td>\n",
       "      <td>0.469314</td>\n",
       "      <td>-0.632572</td>\n",
       "      <td>-0.216874</td>\n",
       "      <td>0.722066</td>\n",
       "      <td>0.902264</td>\n",
       "      <td>0.473438</td>\n",
       "      <td>0.084013</td>\n",
       "      <td>-0.163983</td>\n",
       "      <td>0.739267</td>\n",
       "      <td>0.760158</td>\n",
       "      <td>-0.160167</td>\n",
       "      <td>-0.024766</td>\n",
       "    </tr>\n",
       "    <tr>\n",
       "      <th>38</th>\n",
       "      <td>-1.169764</td>\n",
       "      <td>1.187384</td>\n",
       "      <td>-0.665559</td>\n",
       "      <td>-1.976737</td>\n",
       "      <td>0.401453</td>\n",
       "      <td>-1.149836</td>\n",
       "      <td>-2.155751</td>\n",
       "      <td>1.722699</td>\n",
       "      <td>-0.134776</td>\n",
       "      <td>2.270949</td>\n",
       "      <td>0.874006</td>\n",
       "      <td>0.278048</td>\n",
       "      <td>-1.323463</td>\n",
       "      <td>-0.944598</td>\n",
       "      <td>-0.842310</td>\n",
       "      <td>0.501321</td>\n",
       "      <td>-0.026584</td>\n",
       "      <td>0.913606</td>\n",
       "      <td>-1.540612</td>\n",
       "      <td>0.284322</td>\n",
       "    </tr>\n",
       "    <tr>\n",
       "      <th>39</th>\n",
       "      <td>0.112891</td>\n",
       "      <td>-0.987632</td>\n",
       "      <td>0.064747</td>\n",
       "      <td>1.621077</td>\n",
       "      <td>0.242224</td>\n",
       "      <td>0.519833</td>\n",
       "      <td>1.450147</td>\n",
       "      <td>0.966505</td>\n",
       "      <td>1.068298</td>\n",
       "      <td>-4.298566</td>\n",
       "      <td>-0.169059</td>\n",
       "      <td>1.812231</td>\n",
       "      <td>1.708891</td>\n",
       "      <td>0.340243</td>\n",
       "      <td>0.604096</td>\n",
       "      <td>-2.509059</td>\n",
       "      <td>0.118236</td>\n",
       "      <td>-1.856907</td>\n",
       "      <td>0.732354</td>\n",
       "      <td>-0.934342</td>\n",
       "    </tr>\n",
       "  </tbody>\n",
       "</table>\n",
       "</div>"
      ],
      "text/plain": [
       "          0         1         2   ...        17        18        19\n",
       "0   0.057607 -0.915446  1.516455  ...  0.529465 -1.589796  2.621419\n",
       "1   0.047550 -0.672421 -0.664937  ...  0.423236  0.627540 -0.672980\n",
       "2  -0.493901  0.338718  1.208451  ...  0.189156 -0.666135  1.100255\n",
       "3  -1.380110 -0.633433 -1.242304  ...  0.192434  1.176299 -0.323965\n",
       "4   1.580886 -0.058746 -1.312367  ... -0.177914  0.344139 -0.324115\n",
       "5  -0.468288  0.911091 -2.052569  ... -1.655684 -0.987286 -3.583708\n",
       "6   1.044109  0.492722  0.001368  ...  0.894701 -2.343953  0.454098\n",
       "7   2.528951  0.261156  0.913198  ... -1.204044 -0.275701  0.008569\n",
       "8  -0.249632 -0.347779 -0.043923  ... -1.802604  1.496886 -0.638589\n",
       "9  -0.043494  0.443667 -3.080737  ... -2.044834 -0.712274 -2.504186\n",
       "10  0.285755  1.618304  0.214693  ...  0.063644  0.953630 -1.179164\n",
       "11  0.284481 -1.404426  0.212715  ... -0.955913  1.856786  0.849114\n",
       "12 -1.363257  1.618428  0.258405  ... -0.197365  0.359245 -0.162839\n",
       "13 -0.119399 -0.509735 -0.310193  ... -0.666475 -1.641203  1.106039\n",
       "14  0.482048  0.442383  0.312153  ...  2.326736 -0.184690 -0.671740\n",
       "15 -0.546603 -0.334109 -1.018645  ...  1.024481 -0.353506  0.636180\n",
       "16  1.363767  0.349549  2.021466  ...  1.711988 -0.744647  2.766500\n",
       "17 -1.092070  0.572026 -0.097345  ...  0.648203  0.177654 -0.093163\n",
       "18  1.424264  0.906411 -0.022785  ... -0.719148 -1.553105  0.642058\n",
       "19 -1.359229  0.045847  0.044851  ... -1.452810 -0.003491 -0.957988\n",
       "20  0.307526  1.481432 -1.702847  ... -0.544577 -5.375731 -0.517671\n",
       "21  0.340228 -0.185497  1.939117  ... -0.494167  0.361844  1.493749\n",
       "22  1.522162  0.116865 -0.831885  ...  1.625430  0.700721 -1.161284\n",
       "23 -0.833120 -1.799279  0.545965  ...  0.902288  2.290821  1.233410\n",
       "24 -0.856982  0.401940 -0.554354  ... -1.309239 -0.943308 -1.625847\n",
       "25  0.448550 -0.282276  0.426377  ... -1.197612  1.640073  0.979604\n",
       "26 -0.723375 -1.086049  0.579189  ...  1.840129  0.844004  1.153216\n",
       "27  1.910909  0.287030  0.682814  ... -0.275621  0.052148 -0.051048\n",
       "28 -0.452954  0.797891  0.051874  ... -0.101017 -0.271071 -1.883939\n",
       "29 -1.225539 -0.757181  1.412815  ...  0.821206  0.068820  1.265290\n",
       "30  0.798867 -0.332064  0.662296  ... -0.052228 -0.152186  1.475944\n",
       "31  0.530446  0.974923  1.818198  ...  2.005213 -0.277565  1.305521\n",
       "32 -2.308608  0.596130 -1.702726  ... -3.398897  1.697643 -1.963147\n",
       "33  2.585491 -0.452726  1.392822  ...  1.068409 -0.019590  2.027075\n",
       "34 -0.808668 -1.449221  0.766058  ... -0.033871  1.211295  0.757734\n",
       "35  2.066475  0.094119  3.221866  ...  0.095078  1.128643  2.639298\n",
       "36  1.521894  1.515424  0.484201  ...  1.854163 -0.299028 -0.313364\n",
       "37 -0.155084 -0.748892  1.245370  ...  0.760158 -0.160167 -0.024766\n",
       "38 -1.169764  1.187384 -0.665559  ...  0.913606 -1.540612  0.284322\n",
       "39  0.112891 -0.987632  0.064747  ... -1.856907  0.732354 -0.934342\n",
       "\n",
       "[40 rows x 20 columns]"
      ]
     },
     "execution_count": 16,
     "metadata": {},
     "output_type": "execute_result"
    }
   ],
   "source": [
    "high_dim_dataset=load_multidimensional_data_pca(n_data=40 ,n_vec=6, dim=20, eps= 0.5)\n",
    "n_samples,n_dim=high_dim_dataset.shape\n",
    "\n",
    "print('We have ',n_samples, 'samples of dimension ', n_dim)\n",
    "df = pd.DataFrame(high_dim_dataset)\n",
    "df"
   ]
  },
  {
   "cell_type": "code",
   "execution_count": null,
   "metadata": {
    "colab": {
     "base_uri": "https://localhost:8080/",
     "height": 281
    },
    "executionInfo": {
     "elapsed": 486,
     "status": "ok",
     "timestamp": 1632996296900,
     "user": {
      "displayName": "Julian Frank",
      "photoUrl": "https://lh3.googleusercontent.com/a/default-user=s64",
      "userId": "13899297847119677507"
     },
     "user_tz": -120
    },
    "id": "S4m8mWyS91mT",
    "outputId": "fec4d446-d5c2-404e-a3d6-fb138236d518"
   },
   "outputs": [
    {
     "data": {
      "image/png": "[encoded data removed]",
      "text/plain": [
       "<Figure size 432x288 with 1 Axes>"
      ]
     },
     "metadata": {
      "needs_background": "light"
     },
     "output_type": "display_data"
    }
   ],
   "source": [
    "pca=PCA()\n",
    "pca.fit(high_dim_dataset)\n",
    "plt.plot(pca.explained_variance_ratio_,'-o')\n",
    "plt.title('Scree plot')\n",
    "plt.ylabel('Percentage of explained variance')\n",
    "plt.grid()\n",
    "plt.show()"
   ]
  },
  {
   "cell_type": "code",
   "execution_count": null,
   "metadata": {
    "colab": {
     "base_uri": "https://localhost:8080/",
     "height": 745
    },
    "executionInfo": {
     "elapsed": 236,
     "status": "ok",
     "timestamp": 1632996298752,
     "user": {
      "displayName": "Julian Frank",
      "photoUrl": "https://lh3.googleusercontent.com/a/default-user=s64",
      "userId": "13899297847119677507"
     },
     "user_tz": -120
    },
    "id": "iVSIdsorJrDZ",
    "outputId": "d0871d4f-efa8-40c4-e452-0629261afb82"
   },
   "outputs": [
    {
     "name": "stdout",
     "output_type": "stream",
     "text": [
      "[20.60320771 19.3105403  16.84932662 15.10288056 14.16672851  8.77050608\n",
      "  3.88623566  3.77554775  3.48917618  3.35481381  2.9750779   2.8738161\n",
      "  2.62666392  2.4208252   2.04218955  1.95823519  1.87046314  1.78001014\n",
      "  1.56449716  1.02734393]\n"
     ]
    },
    {
     "data": {
      "text/html": [
       "<div>\n",
       "<style scoped>\n",
       "    .dataframe tbody tr th:only-of-type {\n",
       "        vertical-align: middle;\n",
       "    }\n",
       "\n",
       "    .dataframe tbody tr th {\n",
       "        vertical-align: top;\n",
       "    }\n",
       "\n",
       "    .dataframe thead th {\n",
       "        text-align: right;\n",
       "    }\n",
       "</style>\n",
       "<table border=\"1\" class=\"dataframe\">\n",
       "  <thead>\n",
       "    <tr style=\"text-align: right;\">\n",
       "      <th></th>\n",
       "      <th>0</th>\n",
       "    </tr>\n",
       "  </thead>\n",
       "  <tbody>\n",
       "    <tr>\n",
       "      <th>0</th>\n",
       "      <td>20.603208</td>\n",
       "    </tr>\n",
       "    <tr>\n",
       "      <th>1</th>\n",
       "      <td>19.310540</td>\n",
       "    </tr>\n",
       "    <tr>\n",
       "      <th>2</th>\n",
       "      <td>16.849327</td>\n",
       "    </tr>\n",
       "    <tr>\n",
       "      <th>3</th>\n",
       "      <td>15.102881</td>\n",
       "    </tr>\n",
       "    <tr>\n",
       "      <th>4</th>\n",
       "      <td>14.166729</td>\n",
       "    </tr>\n",
       "    <tr>\n",
       "      <th>5</th>\n",
       "      <td>8.770506</td>\n",
       "    </tr>\n",
       "    <tr>\n",
       "      <th>6</th>\n",
       "      <td>3.886236</td>\n",
       "    </tr>\n",
       "    <tr>\n",
       "      <th>7</th>\n",
       "      <td>3.775548</td>\n",
       "    </tr>\n",
       "    <tr>\n",
       "      <th>8</th>\n",
       "      <td>3.489176</td>\n",
       "    </tr>\n",
       "    <tr>\n",
       "      <th>9</th>\n",
       "      <td>3.354814</td>\n",
       "    </tr>\n",
       "    <tr>\n",
       "      <th>10</th>\n",
       "      <td>2.975078</td>\n",
       "    </tr>\n",
       "    <tr>\n",
       "      <th>11</th>\n",
       "      <td>2.873816</td>\n",
       "    </tr>\n",
       "    <tr>\n",
       "      <th>12</th>\n",
       "      <td>2.626664</td>\n",
       "    </tr>\n",
       "    <tr>\n",
       "      <th>13</th>\n",
       "      <td>2.420825</td>\n",
       "    </tr>\n",
       "    <tr>\n",
       "      <th>14</th>\n",
       "      <td>2.042190</td>\n",
       "    </tr>\n",
       "    <tr>\n",
       "      <th>15</th>\n",
       "      <td>1.958235</td>\n",
       "    </tr>\n",
       "    <tr>\n",
       "      <th>16</th>\n",
       "      <td>1.870463</td>\n",
       "    </tr>\n",
       "    <tr>\n",
       "      <th>17</th>\n",
       "      <td>1.780010</td>\n",
       "    </tr>\n",
       "    <tr>\n",
       "      <th>18</th>\n",
       "      <td>1.564497</td>\n",
       "    </tr>\n",
       "    <tr>\n",
       "      <th>19</th>\n",
       "      <td>1.027344</td>\n",
       "    </tr>\n",
       "  </tbody>\n",
       "</table>\n",
       "</div>"
      ],
      "text/plain": [
       "            0\n",
       "0   20.603208\n",
       "1   19.310540\n",
       "2   16.849327\n",
       "3   15.102881\n",
       "4   14.166729\n",
       "5    8.770506\n",
       "6    3.886236\n",
       "7    3.775548\n",
       "8    3.489176\n",
       "9    3.354814\n",
       "10   2.975078\n",
       "11   2.873816\n",
       "12   2.626664\n",
       "13   2.420825\n",
       "14   2.042190\n",
       "15   1.958235\n",
       "16   1.870463\n",
       "17   1.780010\n",
       "18   1.564497\n",
       "19   1.027344"
      ]
     },
     "execution_count": 24,
     "metadata": {},
     "output_type": "execute_result"
    }
   ],
   "source": [
    "print(pca.singular_values_)\n",
    "df = pd.DataFrame(pca.singular_values_)\n",
    "df"
   ]
  },
  {
   "cell_type": "markdown",
   "metadata": {
    "id": "xjXiNHd-91mb"
   },
   "source": [
    "As an exercise, you can change the value of eps and see how the screen plot changes."
   ]
  },
  {
   "cell_type": "markdown",
   "metadata": {
    "id": "6nJsEk2R91nM"
   },
   "source": [
    "### EXERCISE 1 : Find the hidden drawing."
   ]
  },
  {
   "cell_type": "code",
   "execution_count": 19,
   "metadata": {
    "colab": {
     "base_uri": "https://localhost:8080/",
     "height": 348
    },
    "executionInfo": {
     "elapsed": 461,
     "status": "ok",
     "timestamp": 1633016015749,
     "user": {
      "displayName": "Julian Frank",
      "photoUrl": "https://lh3.googleusercontent.com/a/default-user=s64",
      "userId": "13899297847119677507"
     },
     "user_tz": -120
    },
    "id": "yR-EnXRWNX8G",
    "outputId": "4cd2d170-62ee-4a43-85e4-b7456f55c2ee"
   },
   "outputs": [
    {
     "name": "stdout",
     "output_type": "stream",
     "text": [
      "We have  961 samples of dimension  10\n",
      "[0.79700994 0.15407412 0.00688753 0.00667879 0.00652795 0.00605738\n",
      " 0.00596107 0.00576693 0.00561825 0.00541804]\n"
     ]
    },
    {
     "data": {
      "text/plain": [
       "Text(0, 0.5, 'Second component')"
      ]
     },
     "execution_count": 19,
     "metadata": {},
     "output_type": "execute_result"
    },
    {
     "data": {
      "image/png": "[encoded data removed]",
      "text/plain": [
       "<Figure size 432x288 with 1 Axes>"
      ]
     },
     "metadata": {
      "needs_background": "light"
     },
     "output_type": "display_data"
    }
   ],
   "source": [
    "data=load_ex2_data_pca(seed=1235)\n",
    "n_samples,n_dim=data.shape\n",
    "print('We have ',n_samples, 'samples of dimension ', n_dim)\n",
    "\n",
    "pca=PCA()\n",
    "pca.fit(data)\n",
    "\n",
    "print(pca.explained_variance_ratio_)\n",
    "#plt.plot(pca.explained_variance_ratio_)\n",
    "#plt.show()\n",
    "\n",
    "k=2\n",
    "data_transformed=pca.transform(data)\n",
    "plt.plot(data_transformed[:,0],data_transformed[:,1],'o')\n",
    "plt.xlabel('First component')\n",
    "plt.ylabel('Second component')"
   ]
  },
  {
   "cell_type": "code",
   "execution_count": null,
   "metadata": {
    "id": "2QiWejkZt9ne"
   },
   "outputs": [],
   "source": [
    "### In this exercise you will take a high dimensional dataset, find the optimal number of principal components \n",
    "# and visualize the reconstructed vectors with k=2. The pipeline is the same as Ex. 2.\n",
    "\n",
    "# 1. Load the data using the function data=load_ex2_data_pca(seed=1235) , check the dimensionality of the data and plot them.\n",
    "data=load_ex2_data_pca(seed=1235)\n",
    "n_samples,n_dim=... \n",
    "print('We have ',n_samples, 'samples of dimension ', n_dim)\n",
    "\n",
    "# 2. Define a PCA object and perform the PCA fitting.\n",
    "pca=PCA()\n",
    "pca....(data)\n",
    "\n",
    "# 3. Check the explained variance ratio and select best number of components.\n",
    "print(pca...)\n",
    "plt.plot(...)\n",
    "\n",
    "# 4. Plot the reconstructed vectors for the best value of data=...\n",
    "k=...\n",
    "data_transformed=...\n",
    "plt.plot(data_transformed[:,...],data_transformed[:,...],'o')\n",
    "plt.xlabel('First component')\n",
    "plt.ylabel('Second component')"
   ]
  },
  {
   "cell_type": "markdown",
   "metadata": {
    "id": "GZuTtSRX_AhY"
   },
   "source": [
    "# Final comments:\n",
    "\n",
    "PCA is able therefore to make this mapping:\n",
    "\n",
    "$(x_1,...,x_D) \\rightarrow (y_1,..,y_M)$\n",
    "\n",
    "Here we focused on data compression, but it is also very important that $y_1,...,y_M$ are uncorrolated for interpratibility purposes. Being uncorrelated means (roughly) that in our dataset we can change one variable without affecting the others. The dimensions 1,...,M are often therefore more interpretable and providing more information.\n",
    "\n",
    "See e.g. a similar application here:\n",
    "\n",
    "\"Principal component analysis of dietary and lifestyle patterns in relation to risk of subtypes of esophageal and gastric cancer\", https://pubmed.ncbi.nlm.nih.gov/21435900/\n",
    "\n",
    ", where each data point $x$ is an answer from a questionnaire of food. The principal components are than typical \"patterns\" of answers that are uncorrlated, have a look at table 2, and if you want read the whole data story :)"
   ]
  },
  {
   "cell_type": "markdown",
   "metadata": {
    "id": "XEK5-Ksg91nw"
   },
   "source": [
    "## 2. Data visualization and embedding in low dimensions ( t-SNE / UMAP )"
   ]
  },
  {
   "cell_type": "markdown",
   "metadata": {
    "id": "4rP48tTL91nz"
   },
   "source": [
    "### Theory overview"
   ]
  },
  {
   "cell_type": "markdown",
   "metadata": {
    "id": "7_Jer5L-91n0"
   },
   "source": [
    "PCA is a linear embedding technique where the scores are a linear function of the original variables. This forces the number of principal components to be used to be high, if the manifold is highly non-linear. Curved manifolds need to be embedded in higher dimensions."
   ]
  },
  {
   "cell_type": "markdown",
   "metadata": {
    "id": "iX4zvhaN91n2"
   },
   "source": [
    "Other `non-linear` embedding techniques start from a local description of the environment of each sample point in the original space:\n",
    "\n",
    "- `t-Sne` uses a `statistical description` of the environment of a sample point ;\n",
    "- `UMAP` describes the `topology` of the environment through a generalized \"triangulation\" (simplex decomposition) ;\n",
    "\n",
    "The projection on the low-dimensional space is optimized in order to match as much as possible the description of the local environment. \n",
    "\n",
    "It is not the goal of this introduction to discuss the derivation of such approaches, which can be found in the references:\n",
    "\n",
    "https://lvdmaaten.github.io/publications/papers/JMLR_2008.pdf\n",
    "\n",
    "https://arxiv.org/pdf/1802.03426.pdf\n",
    "\n"
   ]
  },
  {
   "cell_type": "markdown",
   "metadata": {
    "id": "KhP5EIc791n7"
   },
   "source": [
    "Instead, the following, we will show how to apply practically these dimensionality reductions techniques. Keep in mind that the embedding is given by an iterative solution of a minimization problem and therefore the results may depend on the value of the random seed, especially for t-SNE visualizazions."
   ]
  },
  {
   "cell_type": "markdown",
   "metadata": {
    "id": "DwIggNFN91n8"
   },
   "source": [
    "### Utilization in Python and examples"
   ]
  },
  {
   "cell_type": "markdown",
   "metadata": {
    "id": "RP5RbzRa91n9"
   },
   "source": [
    "To begin with, we create a t-SNE object that we are going to use."
   ]
  },
  {
   "cell_type": "code",
   "execution_count": 25,
   "metadata": {
    "executionInfo": {
     "elapsed": 20,
     "status": "ok",
     "timestamp": 1633016109083,
     "user": {
      "displayName": "Julian Frank",
      "photoUrl": "https://lh3.googleusercontent.com/a/default-user=s64",
      "userId": "13899297847119677507"
     },
     "user_tz": -120
    },
    "id": "BMZtUAyR91n9"
   },
   "outputs": [],
   "source": [
    "tsne_model = TSNE(perplexity=30, n_components=2, learning_rate=200, early_exaggeration=4.0,init='pca', \n",
    "                      n_iter=2000, random_state=2233212, metric='euclidean', verbose=100 )\n",
    "\n",
    "umap_model = umap.UMAP(n_neighbors=30, n_components=2, random_state=1711)"
   ]
  },
  {
   "cell_type": "markdown",
   "metadata": {
    "id": "D-iq56Yn91oD"
   },
   "source": [
    "### Example 1: Exercise 3 Cont'd"
   ]
  },
  {
   "cell_type": "markdown",
   "metadata": {
    "id": "OFZ_RAwj91oE"
   },
   "source": [
    "We will first visualize our multi-dimensional heart using t-SNE: "
   ]
  },
  {
   "cell_type": "code",
   "execution_count": 22,
   "metadata": {
    "colab": {
     "base_uri": "https://localhost:8080/"
    },
    "executionInfo": {
     "elapsed": 37724,
     "status": "ok",
     "timestamp": 1633016093703,
     "user": {
      "displayName": "Julian Frank",
      "photoUrl": "https://lh3.googleusercontent.com/a/default-user=s64",
      "userId": "13899297847119677507"
     },
     "user_tz": -120
    },
    "id": "8TFExSbC91oF",
    "outputId": "2dae34cf-6f58-4840-dd3a-6d2efc0b83f8",
    "scrolled": true
   },
   "outputs": [
    {
     "name": "stdout",
     "output_type": "stream",
     "text": [
      "[t-SNE] Computing 91 nearest neighbors...\n",
      "[t-SNE] Indexed 651 samples in 0.005s...\n",
      "[t-SNE] Computed neighbors for 651 samples in 0.015s...\n",
      "[t-SNE] Computed conditional probabilities for sample 651 / 651\n",
      "[t-SNE] Mean sigma: 0.060286\n",
      "[t-SNE] Computed conditional probabilities in 0.057s\n",
      "[t-SNE] Iteration 50: error = 10.6543236, gradient norm = 0.0495624 (50 iterations in 7.566s)\n",
      "[t-SNE] Iteration 100: error = 10.5105200, gradient norm = 0.0211065 (50 iterations in 5.639s)\n",
      "[t-SNE] Iteration 150: error = 10.4393597, gradient norm = 0.0135420 (50 iterations in 6.742s)\n",
      "[t-SNE] Iteration 200: error = 10.3963032, gradient norm = 0.0162105 (50 iterations in 5.695s)\n",
      "[t-SNE] Iteration 250: error = 10.3679466, gradient norm = 0.0112098 (50 iterations in 6.290s)\n",
      "[t-SNE] KL divergence after 250 iterations with early exaggeration: 10.367947\n",
      "[t-SNE] Iteration 300: error = 0.6041823, gradient norm = 0.0007995 (50 iterations in 5.013s)\n",
      "[t-SNE] KL divergence after 300 iterations: 0.604182\n"
     ]
    }
   ],
   "source": [
    "data= load_ex2_data_pca(seed=1235, n_add=20)\n",
    "\n",
    "tsne_model = TSNE(perplexity=30, n_components=2, learning_rate=200, early_exaggeration=4.0,init='pca', \n",
    "                      n_iter=300, random_state=2233212, metric='euclidean', verbose=100 )\n",
    "\n",
    "tsne_heart = tsne_model.fit_transform(data)"
   ]
  },
  {
   "cell_type": "code",
   "execution_count": 23,
   "metadata": {
    "colab": {
     "base_uri": "https://localhost:8080/",
     "height": 265
    },
    "executionInfo": {
     "elapsed": 17,
     "status": "ok",
     "timestamp": 1633016093704,
     "user": {
      "displayName": "Julian Frank",
      "photoUrl": "https://lh3.googleusercontent.com/a/default-user=s64",
      "userId": "13899297847119677507"
     },
     "user_tz": -120
    },
    "id": "_fl8_wlp91oJ",
    "outputId": "2109ed19-98fe-494d-bbb8-0cfee5774cb6",
    "scrolled": true
   },
   "outputs": [
    {
     "data": {
      "image/png": "[encoded data removed]",
      "text/plain": [
       "<Figure size 432x288 with 1 Axes>"
      ]
     },
     "metadata": {
      "needs_background": "light"
     },
     "output_type": "display_data"
    }
   ],
   "source": [
    "plt.scatter(tsne_heart[:,0],tsne_heart[:,1])\n",
    "plt.show()"
   ]
  },
  {
   "cell_type": "markdown",
   "metadata": {
    "id": "O0R8p_0E91oR"
   },
   "source": [
    "And using UMAP :"
   ]
  },
  {
   "cell_type": "code",
   "execution_count": 24,
   "metadata": {
    "colab": {
     "base_uri": "https://localhost:8080/",
     "height": 320
    },
    "executionInfo": {
     "elapsed": 15384,
     "status": "ok",
     "timestamp": 1633016109081,
     "user": {
      "displayName": "Julian Frank",
      "photoUrl": "https://lh3.googleusercontent.com/a/default-user=s64",
      "userId": "13899297847119677507"
     },
     "user_tz": -120
    },
    "id": "BUU2YauU91oT",
    "outputId": "22d21b07-3b75-458a-faec-293beb7815cc"
   },
   "outputs": [
    {
     "name": "stderr",
     "output_type": "stream",
     "text": [
      "/usr/local/lib/python3.7/dist-packages/numba/np/ufunc/parallel.py:363: NumbaWarning: The TBB threading layer requires TBB version 2019.5 or later i.e., TBB_INTERFACE_VERSION >= 11005. Found TBB_INTERFACE_VERSION = 9107. The TBB threading layer is disabled.\n",
      "  warnings.warn(problem)\n"
     ]
    },
    {
     "data": {
      "image/png": "[encoded data removed]",
      "text/plain": [
       "<Figure size 432x288 with 1 Axes>"
      ]
     },
     "metadata": {
      "needs_background": "light"
     },
     "output_type": "display_data"
    }
   ],
   "source": [
    "umap_model = umap.UMAP(n_neighbors=30, n_components=2, random_state=1711)\n",
    "\n",
    "umap_hart = umap_model.fit_transform(data)\n",
    "plt.scatter(umap_hart[:, 0], umap_hart[:, 1])\n",
    "plt.show()"
   ]
  },
  {
   "cell_type": "markdown",
   "metadata": {
    "id": "kot3Prcv91oi"
   },
   "source": [
    "### Example 2: Mnist dataset"
   ]
  },
  {
   "cell_type": "code",
   "execution_count": 26,
   "metadata": {
    "executionInfo": {
     "elapsed": 853,
     "status": "ok",
     "timestamp": 1633016332218,
     "user": {
      "displayName": "Julian Frank",
      "photoUrl": "https://lh3.googleusercontent.com/a/default-user=s64",
      "userId": "13899297847119677507"
     },
     "user_tz": -120
    },
    "id": "OZskLulw91oj"
   },
   "outputs": [],
   "source": [
    "mnist = tf.keras.datasets.mnist\n",
    "(train_images, train_labels), (test_images, test_labels) = mnist.load_data()\n",
    "\n",
    "n_examples = 5000\n",
    "data=train_images[:n_examples,:].reshape(n_examples,-1)\n",
    "data=data/255\n",
    "\n",
    "labels=train_labels[:n_examples]"
   ]
  },
  {
   "cell_type": "code",
   "execution_count": null,
   "metadata": {
    "id": "TDeL_V2a91op",
    "scrolled": true
   },
   "outputs": [],
   "source": [
    "# not to run on COLAB\n",
    "\n",
    "# tsne_model = TSNE(perplexity=10, n_components=2, learning_rate=200,\n",
    "#                   early_exaggeration=4.0,init='pca', \n",
    "#                   n_iter=2000, random_state=2233212, \n",
    "#                   metric='euclidean', verbose=100, n_jobs=1)\n",
    "\n",
    "# tsne_mnist = tsne_model.fit_transform(data)\n",
    "\n",
    "# plt.scatter(tsne_mnist[:,0],tsne_mnist[:,1],c=labels,s=10)\n",
    "# plt.show()"
   ]
  },
  {
   "cell_type": "markdown",
   "metadata": {
    "id": "ZRwwHbqpt9n0"
   },
   "source": [
    " | <img src=\"https://github.com/neworldemancer/DSF5/raw/master/figures/t_sne_mnist.png\" width=\"100%\"/> | <img src=\"https://github.com/neworldemancer/DSF5/raw/master/figures/mnist.png\" width=\"100%\"/> |\n",
    " |  -----:| -----:|"
   ]
  },
  {
   "cell_type": "code",
   "execution_count": null,
   "metadata": {
    "id": "2C4HVS9B91o4"
   },
   "outputs": [],
   "source": [
    "umap_model = umap.UMAP(n_neighbors=10, n_components=2, random_state=1711)\n",
    "umap_mnist = umap_model.fit_transform(data)\n",
    "plt.scatter(umap_mnist[:, 0], umap_mnist[:, 1], c=labels, s=10)\n",
    "plt.show()"
   ]
  },
  {
   "cell_type": "markdown",
   "metadata": {
    "id": "wPOM-hCV91pB"
   },
   "source": [
    "### Example 3: Fashion_Mnist dataset"
   ]
  },
  {
   "cell_type": "code",
   "execution_count": null,
   "metadata": {
    "id": "Uq3DPRiV91pF"
   },
   "outputs": [],
   "source": [
    "fmnist = tf.keras.datasets.fashion_mnist\n",
    "(train_images, train_labels), (test_images, test_labels) = fmnist.load_data()\n",
    "\n",
    "n_examples = 5000\n",
    "data=train_images[:n_examples,:].reshape(n_examples,-1)\n",
    "data=data/255\n",
    "\n",
    "labels=train_labels[:n_examples]"
   ]
  },
  {
   "cell_type": "code",
   "execution_count": null,
   "metadata": {
    "id": "Ytrl7jyC91pR",
    "scrolled": true
   },
   "outputs": [],
   "source": [
    "# not to run on COLAB\n",
    "\n",
    "# tsne_model = TSNE(perplexity=50, n_components=2, learning_rate=200, early_exaggeration=4.0,init='pca', \n",
    "#                      n_iter=1000, random_state=2233212, metric='euclidean', verbose=100 )\n",
    "\n",
    "# tsne_fmnist = tsne_model.fit_transform(data)\n",
    "\n",
    "# plt.scatter(tsne_fmnist[:,0],tsne_fmnist[:,1],c=labels,s=10)\n",
    "# plt.show()"
   ]
  },
  {
   "cell_type": "markdown",
   "metadata": {
    "id": "UUnsyxnet9n9"
   },
   "source": [
    " | <img src=\"https://github.com/neworldemancer/DSF5/raw/master/figures/t_sne_fmnist.png\" width=\"100%\"/> | <img src=\"https://github.com/neworldemancer/DSF5/raw/master/figures/fmnist.png\" width=\"100%\"/> |\n",
    " |  -----:| -----:|"
   ]
  },
  {
   "cell_type": "code",
   "execution_count": null,
   "metadata": {
    "id": "xq3vZFJy91p8"
   },
   "outputs": [],
   "source": [
    "umap_model = umap.UMAP(n_neighbors=50, n_components=2, random_state=1711)\n",
    "umap_fmnist = umap_model.fit_transform(data)\n",
    "plt.scatter(umap_fmnist[:, 0], umap_fmnist[:, 1], c=labels, s=10)\n",
    "plt.show()"
   ]
  },
  {
   "cell_type": "markdown",
   "metadata": {
    "id": "bz2LEGDP91qM"
   },
   "source": [
    "### Example 4: House prices"
   ]
  },
  {
   "cell_type": "code",
   "execution_count": null,
   "metadata": {
    "id": "eycvatmq91qO"
   },
   "outputs": [],
   "source": [
    "data=house_prices_dataset_normed()"
   ]
  },
  {
   "cell_type": "code",
   "execution_count": null,
   "metadata": {
    "id": "82secxju91qZ",
    "scrolled": true
   },
   "outputs": [],
   "source": [
    "# not to run on COLAB\n",
    "\n",
    "#tsne_model = TSNE(perplexity=30, n_components=2, learning_rate=200,\n",
    "#                  early_exaggeration=4.0,init='pca', n_iter=1000,\n",
    "#                  random_state=2233212, metric='euclidean', verbose=100)\n",
    "\n",
    "#tsne_houses = tsne_model.fit_transform(data)\n",
    "\n",
    "#plt.scatter(tsne_houses[:,0],tsne_houses[:,1],s=20)\n",
    "#plt.savefig('t_sne_houses.png')\n",
    "# plt.show()"
   ]
  },
  {
   "cell_type": "markdown",
   "metadata": {
    "id": "ESjUplVMt9oF"
   },
   "source": [
    "<img src=\"https://github.com/neworldemancer/DSF5/raw/master/figures/t_sne_houses.png\" width=\"50%\"/>"
   ]
  },
  {
   "cell_type": "code",
   "execution_count": null,
   "metadata": {
    "id": "FWeCP6pN91qr"
   },
   "outputs": [],
   "source": [
    "umap_model = umap.UMAP(n_neighbors=30, n_components=2, random_state=1711)\n",
    "umap_houses = umap_model.fit_transform(data)\n",
    "plt.scatter(umap_houses[:, 0], umap_houses[:, 1], s=20)\n",
    "plt.show()"
   ]
  },
  {
   "cell_type": "markdown",
   "metadata": {
    "id": "1B3wGs2Q91rE"
   },
   "source": [
    "**Message:** Visualization techniques are useful for having an initial grasp of multi-dimensional datasets and guide further analysis and the choice of the modelling data strategy."
   ]
  },
  {
   "cell_type": "markdown",
   "metadata": {
    "id": "78xdYF9-B-jA"
   },
   "source": [
    "**Caveats:** \n",
    "- available t-SNE implementations may vary a lot in terms of performance. Computational time can be reduced performing PCA before a t-SNE projection\n",
    "\n",
    "- UMAP, thanks to the algorithm being amanable to clever initializations and optimization schemes, offers great stability and scaling properties\n",
    "\n",
    "- UMAP, even if starting from a local picture, is generally more able to spread apart different clusters\n",
    "\n",
    "- The result of an embedding may depend on the values of the metaparameters. One should try to see how the final embedding changes in order to get to a complete picture"
   ]
  }
 ],
 "metadata": {
  "colab": {
   "collapsed_sections": [
    "ITfbaOgfYNsq",
    "7-CGSS2OZKHD",
    "Bxtv48o-F1Ku",
    "l582Sr0_WGXj",
    "EHZ-hHGuY5aG",
    "puQNgKN0wS7H",
    "vhhycm2S6wbz",
    "afROKfT591kS",
    "1B7g_pGO91md"
   ],
   "name": "Kopie von Course_2.ipynb",
   "provenance": [
    {
     "file_id": "https://github.com/neworldemancer/DSF5/blob/master/Course_3.ipynb",
     "timestamp": 1632993439950
    }
   ],
   "toc_visible": true
  },
  "kernelspec": {
   "display_name": "Python 3",
   "language": "python",
   "name": "python3"
  },
  "language_info": {
   "codemirror_mode": {
    "name": "ipython",
    "version": 3
   },
   "file_extension": ".py",
   "mimetype": "text/x-python",
   "name": "python",
   "nbconvert_exporter": "python",
   "pygments_lexer": "ipython3",
   "version": "3.8.8"
  }
 },
 "nbformat": 4,
 "nbformat_minor": 1
}
