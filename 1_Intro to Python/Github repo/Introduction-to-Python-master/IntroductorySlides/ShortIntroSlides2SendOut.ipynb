{
 "cells": [
  {
   "cell_type": "markdown",
   "metadata": {
    "slideshow": {
     "slide_type": "slide"
    }
   },
   "source": [
    "# Welcome to the Introduction to Python Programming Course!\n"
   ]
  },
  {
   "cell_type": "markdown",
   "metadata": {
    "slideshow": {
     "slide_type": "-"
    }
   },
   "source": [
    "Dr. Kinga Sipos, ScITS Team"
   ]
  },
  {
   "cell_type": "code",
   "execution_count": 1,
   "metadata": {
    "slideshow": {
     "slide_type": "skip"
    }
   },
   "outputs": [],
   "source": [
    "def hide_code_in_slideshow():   \n",
    "    from IPython import display\n",
    "    import binascii\n",
    "    import os\n",
    "    uid = binascii.hexlify(os.urandom(8)).decode()    \n",
    "    html = \"\"\"<div id=\"%s\"></div>\n",
    "    <script type=\"text/javascript\">\n",
    "        $(function(){\n",
    "            var p = $(\"#%s\");\n",
    "            if (p.length==0) return;\n",
    "            while (!p.hasClass(\"cell\")) {\n",
    "                p=p.parent();\n",
    "                if (p.prop(\"tagName\") ==\"body\") return;\n",
    "            }\n",
    "            var cell = p;\n",
    "            cell.find(\".input\").addClass(\"hide-in-slideshow\")\n",
    "        });\n",
    "    </script>\"\"\" % (uid, uid)\n",
    "    display.display_html(html, raw=True)"
   ]
  },
  {
   "cell_type": "markdown",
   "metadata": {
    "slideshow": {
     "slide_type": "skip"
    }
   },
   "source": [
    "<img src=\"ImagesVideos/Skills2.png\">"
   ]
  },
  {
   "cell_type": "markdown",
   "metadata": {
    "slideshow": {
     "slide_type": "skip"
    }
   },
   "source": [
    "# Short introduction round"
   ]
  },
  {
   "cell_type": "markdown",
   "metadata": {
    "slideshow": {
     "slide_type": "skip"
    }
   },
   "source": [
    "Open [this Google Document](https://docs.google.com/document/d/1p-NgXvhVsCSK1GbTQuPR89vr1ieul6ZrCSs5XaQ4EJM/edit?usp=sharing) to share with us your:\n",
    "* Name\n",
    "* Background\n",
    "* Motivation and/or Expectation"
   ]
  },
  {
   "cell_type": "markdown",
   "metadata": {
    "slideshow": {
     "slide_type": "slide"
    }
   },
   "source": [
    "# Why Python?\n",
    "\n",
    "- open source\n",
    "- readable, writable user friendly code (Python fans say: \"beautiful\", \"intuitive\", \"fun\")\n",
    "- a big community contributes to its development and extension -> many frameworks and tools exist\n",
    "- widely used also among scientists for data analysis, machine learning\n",
    "\n",
    "# Where is it used?\n",
    "- Instagram\n",
    "- Google (\"Python where we can, C++ where we must\")\n",
    "- Spotify, Netflix\n",
    "- Uber\n",
    "- Dropbox\n",
    "- Pinterest\n"
   ]
  },
  {
   "cell_type": "markdown",
   "metadata": {
    "slideshow": {
     "slide_type": "slide"
    }
   },
   "source": [
    "# The history of Python\n",
    "[Short interview with the creator of Python](https://www.youtube.com/watch?v=J0Aq44Pze-w)\n",
    "\n",
    "\n",
    "[2018 Fellow Award Honoree Introduction](https://www.youtube.com/watch?v=cL_p6zrKQNU) (3 min 22 sec - 5 min)"
   ]
  },
  {
   "cell_type": "markdown",
   "metadata": {
    "slideshow": {
     "slide_type": "slide"
    }
   },
   "source": [
    "# Monty Python?"
   ]
  },
  {
   "cell_type": "markdown",
   "metadata": {},
   "source": [
    "<center>\n",
    "\n",
    "<img src=\"ImagesVideos/MPython.jpg\" width=\"500\">\n",
    "</center>"
   ]
  },
  {
   "cell_type": "markdown",
   "metadata": {
    "slideshow": {
     "slide_type": "skip"
    }
   },
   "source": [
    "<img src=\"ImagesVideos/MPython2.png\" width=\"500\">"
   ]
  },
  {
   "cell_type": "code",
   "execution_count": 2,
   "metadata": {
    "slideshow": {
     "slide_type": "skip"
    }
   },
   "outputs": [
    {
     "data": {
      "text/html": [
       "\n",
       "<video width=\"2400\" height=\"800\" controls>\n",
       "  <source src=\"ImagesVideos/MontyPythonVideo2.mp4\" type=\"video/mp4\">\n",
       "</video>\n"
      ],
      "text/plain": [
       "<IPython.core.display.HTML object>"
      ]
     },
     "execution_count": 2,
     "metadata": {},
     "output_type": "execute_result"
    }
   ],
   "source": [
    "from IPython.display import HTML\n",
    "\n",
    "HTML(\"\"\"\n",
    "<video width=\"2400\" height=\"800\" controls>\n",
    "  <source src=\"ImagesVideos/MontyPythonVideo2.mp4\" type=\"video/mp4\">\n",
    "</video>\n",
    "\"\"\")"
   ]
  },
  {
   "cell_type": "code",
   "execution_count": 13,
   "metadata": {
    "slideshow": {
     "slide_type": "skip"
    }
   },
   "outputs": [
    {
     "data": {
      "text/html": [
       "\n",
       "<video height=\"800\" width=\"800\" controls>\n",
       "  <source src=\"ImagesVideos/MontyPythonVideo.mp4\" type=\"video/mp4\">\n",
       "</video>\n"
      ],
      "text/plain": [
       "<IPython.core.display.HTML object>"
      ]
     },
     "execution_count": 13,
     "metadata": {},
     "output_type": "execute_result"
    }
   ],
   "source": [
    "hide_code_in_slideshow()\n",
    "\n",
    "from IPython.display import HTML\n",
    "\n",
    "HTML(\"\"\"\n",
    "<video height=\"800\" width=\"800\" controls>\n",
    "  <source src=\"ImagesVideos/MontyPythonVideo.mp4\" type=\"video/mp4\">\n",
    "</video>\n",
    "\"\"\")"
   ]
  },
  {
   "cell_type": "markdown",
   "metadata": {
    "slideshow": {
     "slide_type": "skip"
    }
   },
   "source": [
    "\n",
    "<tr>\n",
    "<td> <img src=\"ImagesVideos/NoBook.jpg\" alt=\"Drawing\" style=\"width: 700px;\"/> </td>\n",
    "<td> <img src=\"ImagesVideos/Loop.png\" alt=\"Drawing\" style=\"width: 700px;\"/> </td>\n",
    "</tr>\n",
    "\n"
   ]
  },
  {
   "cell_type": "markdown",
   "metadata": {
    "slideshow": {
     "slide_type": "skip"
    }
   },
   "source": [
    "<center>\n",
    "\n",
    "<img src=\"ImagesVideos/NoBookLoop.png\" width=\"500\">\n",
    "</center>"
   ]
  },
  {
   "cell_type": "markdown",
   "metadata": {
    "slideshow": {
     "slide_type": "slide"
    }
   },
   "source": [
    "# Learning objectives\n",
    "- basics of programming\n",
    "- Python language syntax\n",
    "- variables and objects\n",
    "- operators\n",
    "- built-in data types and structures\n",
    "- control flow\n",
    "- defining and using functions\n",
    "- errors and exceptions\n",
    "- iterators\n",
    "- list comprehensions\n",
    "- generator expressions\n",
    "- strings and regular expressions\n",
    "- file input and output\n",
    "- modules and packages\n",
    "- preview of data science tools"
   ]
  },
  {
   "cell_type": "markdown",
   "metadata": {
    "slideshow": {
     "slide_type": "skip"
    }
   },
   "source": [
    "# Learning objectives\n",
    "||||\n",
    "|:--|:--|:--|\n",
    "|- basics of programming | - built-in data types and structures | - file input and output|\n",
    "|- Python language syntax | - control flow | - modules and packages|\n",
    "|- variables and objects | - defining and using functions | - strings and regular expressions|\n",
    "|- operators | - errors and exceptions | - preview of data science tools|"
   ]
  },
  {
   "cell_type": "markdown",
   "metadata": {
    "slideshow": {
     "slide_type": "slide"
    }
   },
   "source": [
    "# What is programming?\n",
    "We can relate programming already to many different fields of study in Computer Science, like\n",
    "- Robotics\n",
    "- Architecture\n",
    "- Graphics\n",
    "- Artificial Intelligence\n",
    "\n",
    "Some of these serve not just CS anymore, but all other branches of science,\n",
    "- formal sciences\n",
    "- natural sciences (physical science and life science).\n",
    "- social sciences\n",
    "\n",
    "and we encounter them even in everyday applications."
   ]
  },
  {
   "cell_type": "markdown",
   "metadata": {
    "slideshow": {
     "slide_type": "slide"
    }
   },
   "source": [
    "# What is programming?\n",
    "“Programming is the act of instructing computers to carry out tasks.”\n",
    "\n",
    "\n",
    "# Where does programming fit in?\n",
    "\n",
    "As an **art** programming belongs to CS: \"Having surveyed the relationships of computer science with other disciplines, it remains to answer the basic questions: What is the central core of the subject? What is it that distinguishes it from the separate subjects with which it is related? What is the linking thread which gathers these disparate branches into a single discipline? My answer to these questions is simple – it is the art of programming a computer. **It is the art of designing efficient and elegant methods of getting a computer to solve problems, theoretical or practical, small or large, simple or complex.** It is the art of translating this design into an effective and accurate computer program.\" –  C.A.R. Hoare, Essays in Computing Science"
   ]
  },
  {
   "cell_type": "markdown",
   "metadata": {
    "slideshow": {
     "slide_type": "slide"
    }
   },
   "source": [
    "# Communication with a computer\n",
    "\n",
    "* The natural language of the computer is **the binary code**.\n",
    "\n",
    "* We communicate with the computer through **high or low level computer languages**, which are farther or less far from the natural language of the computer and closer or less close to our natural human language.\n",
    "\n",
    "* The computer uses a **translator** to understand what we want to communicate.\n",
    "\n",
    "<!--![grafik.png](attachment:grafik.png)-->\n",
    "<center>\n",
    "<img src=\"ImagesVideos/grafik.png\" width=\"500\">\n",
    "</center>"
   ]
  },
  {
   "cell_type": "markdown",
   "metadata": {
    "slideshow": {
     "slide_type": "slide"
    }
   },
   "source": [
    "## Translators\n",
    "\n",
    "### Interpreters\n",
    "\n",
    "The translator processes the source code line by line and runs every line in the final program or app. The interpreter stops to run at the first encountered error. Ex. Python\n",
    "### Compilers\n",
    "Compilers convert the source code in its entirety via a compilation process to binary. The binary is then executed. If there were errors in the source code, they are detected during the compilation time and flagged. This interrupts the compilation process, and no binary is generated.\n",
    "\n",
    "\n",
    "### Hybrid translators\n",
    "Mixture. Ex. Java, which first compiles your source code to an intermediate format known as the Bytecode. The Bytecode is then interpreted and executed by a runtime engine also known as a virtual machine. This enables the hybrid translators to run the bytecode on various operating systems."
   ]
  },
  {
   "cell_type": "markdown",
   "metadata": {
    "slideshow": {
     "slide_type": "slide"
    }
   },
   "source": [
    "**A computer program** is a sequence of instructions that is executed by a computer.\n",
    "\n",
    "**The executing/running** computer program is called **process**.\n",
    "\n",
    "The time to execute/run a program is **run-time**."
   ]
  },
  {
   "cell_type": "markdown",
   "metadata": {
    "slideshow": {
     "slide_type": "slide"
    }
   },
   "source": [
    "## Basic equipment to start programming\n",
    "\n",
    "- computer with a system\n",
    "- text editor (to write code in)\n",
    "- command line interface (command prompt or terminal) to interact with the computer instead of a GUI\n",
    "- translator: interpreter or compiler\n",
    "\n",
    "## A possible scenario of programming\n",
    "- you write your source code in a simple text editor\n",
    "- you save your source code with specific extension (.py for Python, .java for Java)\n",
    "- you run the source code through a translator"
   ]
  },
  {
   "cell_type": "markdown",
   "metadata": {
    "slideshow": {
     "slide_type": "slide"
    }
   },
   "source": [
    "## What can appear in a computer program? \n",
    "\n",
    "### 1. Reserved words\n",
    "\n",
    "- keywords - human readable words with special role in the computer language"
   ]
  },
  {
   "cell_type": "code",
   "execution_count": 4,
   "metadata": {},
   "outputs": [
    {
     "name": "stdout",
     "output_type": "stream",
     "text": [
      "['False', 'None', 'True', 'and', 'as', 'assert', 'break', 'class', 'continue', 'def', 'del', 'elif', 'else', 'except', 'finally', 'for', 'from', 'global', 'if', 'import', 'in', 'is', 'lambda', 'nonlocal', 'not', 'or', 'pass', 'raise', 'return', 'try', 'while', 'with', 'yield']\n"
     ]
    }
   ],
   "source": [
    "import keyword\n",
    "print(keyword.kwlist)"
   ]
  },
  {
   "cell_type": "markdown",
   "metadata": {},
   "source": [
    "- identifiers \n",
    "    - words, whose meaning is defined by programmers\n",
    "    - the ones created by other programmers can be loaded as libraries/modules/packages"
   ]
  },
  {
   "cell_type": "markdown",
   "metadata": {
    "slideshow": {
     "slide_type": "slide"
    }
   },
   "source": [
    "### 2. Data types\n",
    "simple data structures (numbers, characters) & complex data structures (list of numbers, matrices, text)\n",
    "\n",
    "### 3. Data\n",
    "#### Variables\n",
    "- memory locations, where we put some recallable data\n",
    "- typically the stored data changes during the program\n",
    "\n",
    "#### Constants\n",
    "- memory locations, where we put some recallable data\n",
    "- typically the data remains unchanged during the program"
   ]
  },
  {
   "cell_type": "markdown",
   "metadata": {
    "slideshow": {
     "slide_type": "slide"
    }
   },
   "source": [
    "### 4. Punctuation & white spaces and tabs\n",
    "\n",
    "the comma (,), semi-colon(;), colon(:), braces ({}), brackets (()), square braces ([]), quotation marks (“ ”), pipe (|), slash (/), period (.), question mark (?), caret(^) and percentage (%).\n",
    "\n",
    "### 5. Operators\n",
    "- assignment operators\n",
    "- arithmetic operations\n",
    "- relational operators\n",
    "- logical operators\n",
    "\n",
    "### 6. Comments\n",
    "- text, which is not interpreted/compiled\n",
    "- used for documenting the program code"
   ]
  },
  {
   "cell_type": "markdown",
   "metadata": {
    "slideshow": {
     "slide_type": "slide"
    }
   },
   "source": [
    "## Further programming notions\n",
    "\n",
    "* An **expression** is a meaningful combination of operators and operands. For example, if `width` denotes the first dimension of a room and `length` the second, then `width * length` would be a meaningful expression.\n",
    "\n",
    "* If we assign the value of an expression to a variable, we get a **statement**. For example `area = width * length`.\n",
    "\n",
    "* **The coding flow** indicates how should be executed the statements from the code. It can be of three types:\n",
    "    - sequential,\n",
    "    - conditional/branching,\n",
    "    - iterative/repetitive/loops."
   ]
  },
  {
   "cell_type": "markdown",
   "metadata": {
    "slideshow": {
     "slide_type": "slide"
    }
   },
   "source": [
    "# Analogy\n",
    "\n",
    "|<font size=\"+3\">programming</font>|<font size=\"+3\">writing a story, play</font>|\n",
    "|:--|:--|\n",
    "|<font size=\"+3\">programmer</font>|<font size=\"+3\">writer</font>|\n",
    "|<font size=\"+3\">program code</font>|<font size=\"+3\">text of the story</font>|\n",
    "|<font size=\"+3\">variables, constants</font>|<font size=\"+3\">acteurs, environment</font>|\n",
    "|<font size=\"+3\">statements</font>|<font size=\"+3\">events, happenings</font>|"
   ]
  },
  {
   "cell_type": "markdown",
   "metadata": {
    "slideshow": {
     "slide_type": "skip"
    }
   },
   "source": [
    "pillow.make()\n",
    "\n",
    "me.lay_on(pillow)\n",
    "\n",
    "me.sleep()\n",
    "\n",
    "me.wake_up()"
   ]
  },
  {
   "cell_type": "markdown",
   "metadata": {
    "slideshow": {
     "slide_type": "slide"
    }
   },
   "source": [
    "# Flowchart"
   ]
  },
  {
   "cell_type": "markdown",
   "metadata": {
    "slideshow": {
     "slide_type": "-"
    }
   },
   "source": [
    "<center>\n",
    "\n",
    "<img src=\"ImagesVideos/Flowchart1.png\" width=\"800\">\n",
    "</center>"
   ]
  },
  {
   "cell_type": "markdown",
   "metadata": {
    "slideshow": {
     "slide_type": "slide"
    }
   },
   "source": [
    "# Flowchart conventions"
   ]
  },
  {
   "cell_type": "markdown",
   "metadata": {
    "slideshow": {
     "slide_type": "-"
    }
   },
   "source": [
    "<center>\n",
    "\n",
    "<img src=\"ImagesVideos/FlowchartConv.png\" width=\"800\">\n",
    "</center>"
   ]
  },
  {
   "cell_type": "markdown",
   "metadata": {
    "slideshow": {
     "slide_type": "notes"
    }
   },
   "source": [
    "In a programming language independent way algorithms can be described in flowcharts."
   ]
  },
  {
   "cell_type": "markdown",
   "metadata": {
    "slideshow": {
     "slide_type": "slide"
    }
   },
   "source": [
    "<center>\n",
    "\n",
    "<img src=\"ImagesVideos/Flowchart2.png\" width=\"750\">\n",
    "</center>"
   ]
  },
  {
   "cell_type": "markdown",
   "metadata": {
    "slideshow": {
     "slide_type": "skip"
    }
   },
   "source": [
    "# Exercise\n",
    "\n",
    "## Create the flowchart of an algorithm, which transforms a binary number to a decimal one."
   ]
  },
  {
   "cell_type": "markdown",
   "metadata": {
    "slideshow": {
     "slide_type": "skip"
    }
   },
   "source": [
    "<center>\n",
    "\n",
    "<img src=\"ImagesVideos/Binary2Decimal.png\">\n",
    "\n",
    "</center>"
   ]
  },
  {
   "cell_type": "markdown",
   "metadata": {
    "slideshow": {
     "slide_type": "skip"
    }
   },
   "source": [
    "# Exercise\n",
    "\n",
    "## Create the flowchart of an algorithm, which transforms a decimal number to a binary one."
   ]
  },
  {
   "cell_type": "markdown",
   "metadata": {
    "slideshow": {
     "slide_type": "skip"
    }
   },
   "source": [
    "<center>\n",
    "\n",
    "<img src=\"ImagesVideos/Decimal2Binary.png\">\n",
    "\n",
    "</center>"
   ]
  },
  {
   "cell_type": "markdown",
   "metadata": {
    "slideshow": {
     "slide_type": "slide"
    }
   },
   "source": [
    "# Exercise\n",
    "\n",
    "## Create the flowchart of an algorithm, which determines the factorial of a given number $n$."
   ]
  },
  {
   "cell_type": "markdown",
   "metadata": {
    "slideshow": {
     "slide_type": "slide"
    }
   },
   "source": [
    "<center>\n",
    "\n",
    "<img src=\"ImagesVideos/Flowchart3.png\" width=\"800\">\n",
    "</center>"
   ]
  },
  {
   "cell_type": "markdown",
   "metadata": {
    "slideshow": {
     "slide_type": "slide"
    }
   },
   "source": [
    "During our courses our code runs on one of the following:\n",
    "* [Google Colab](https://colab.research.google.com),\n",
    "* virtual machine provided by SWITCHengines,\n",
    "* [free hub provided by epfl](https://noto.epfl.ch): noto.epfl.ch.\n",
    "\n",
    "\n",
    "# Jupyter Notebook\n",
    "- browser based graphical interface\n",
    "    - can execute Python statements\n",
    "    - can handle formatted text, maths equations (LaTeX)\n",
    "    - can contain static or dynamic visualisations\n",
    "- it connects to a running Python process (kernel) to execute Python code"
   ]
  }
 ],
 "metadata": {
  "celltoolbar": "Slideshow",
  "kernelspec": {
   "display_name": "Python 3",
   "language": "python",
   "name": "python3"
  },
  "language_info": {
   "codemirror_mode": {
    "name": "ipython",
    "version": 3
   },
   "file_extension": ".py",
   "mimetype": "text/x-python",
   "name": "python",
   "nbconvert_exporter": "python",
   "pygments_lexer": "ipython3",
   "version": "3.6.10"
  }
 },
 "nbformat": 4,
 "nbformat_minor": 2
}
