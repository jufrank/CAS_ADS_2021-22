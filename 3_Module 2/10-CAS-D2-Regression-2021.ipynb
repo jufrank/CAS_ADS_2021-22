{
 "cells": [
  {
   "cell_type": "markdown",
   "metadata": {
    "id": "UnOP-6EzHZ9q"
   },
   "source": [
    "Notebook 3, Module 2, Statistical Inference for Data Science, CAS Applied Data Science, 2021-09-01, A. Mühlemann, University of Bern. \n",
    "\n",
    "*This notebook is based on last year's notebook by S. Haug and G. Conti.*"
   ]
  },
  {
   "cell_type": "markdown",
   "metadata": {
    "id": "gpx2r-WAHZ9s"
   },
   "source": [
    "# Parameter estimation / regression\n",
    "\n",
    "**Average expected study time :** 3x45 min (depending on your background)\n",
    "\n",
    "**Learning outcomes :**\n",
    "\n",
    "- Know what is meant with parameter estimation and regression\n",
    "- Calculation of a confidence interval via Python\n",
    "- Perform linear regression with Python by example\n",
    "- Perform non-linear regression with Python by example\n",
    "- Know what non-parametric regression is \n",
    "- Perform linear regression with Python scikit-learn by example\n",
    "...\n",
    "\n",
    "**Main python modules used**\n",
    "- the Scipy.stat module https://docs.scipy.org/doc/scipy/reference/stats.html\n",
    "- the Scikit-learn module\n",
    "\n",
    "If you run this notebook on google colab, you will (probably) have no problems with importing the modules."
   ]
  },
  {
   "cell_type": "markdown",
   "metadata": {
    "id": "bprX1FRLHZ9t"
   },
   "source": [
    "## What you should do for your uncertainties"
   ]
  },
  {
   "cell_type": "markdown",
   "metadata": {
    "id": "s0V7y6PiHZ9u"
   },
   "source": [
    "When you have a data analysis project, you need to define the final numbers and plots you want to produce. In order to control your uncertaines, you should maintain a list/table with the largest uncertainties and their effect on the final number(s) as percentages.  "
   ]
  },
  {
   "cell_type": "markdown",
   "metadata": {
    "id": "YrHViWYQHZ9x"
   },
   "source": [
    "# 3. Inferential Statistics I\n",
    "\n",
    "In this notebook we apply the methods presented in the course on the iris data set. "
   ]
  },
  {
   "cell_type": "markdown",
   "metadata": {
    "id": "3rFRb9rhHZ90"
   },
   "source": [
    "Import the Python libraries we need."
   ]
  },
  {
   "cell_type": "code",
   "execution_count": 2,
   "metadata": {
    "id": "St85roiBHZ91"
   },
   "outputs": [],
   "source": [
    "import numpy as np\n",
    "import matplotlib.pyplot as plt\n",
    "import pandas as pd\n",
    "import scipy.stats as stats"
   ]
  },
  {
   "cell_type": "markdown",
   "metadata": {
    "id": "Y-6YDunfZZpk"
   },
   "source": [
    "Import the iris data set."
   ]
  },
  {
   "cell_type": "code",
   "execution_count": 13,
   "metadata": {
    "id": "YSg-y1hgHZ99"
   },
   "outputs": [],
   "source": [
    "url = \"https://archive.ics.uci.edu/ml/machine-learning-databases/iris/iris.data\"\n",
    "df = pd.read_csv(url,names=['slength','swidth','plength','pwidth','species'])\n"
   ]
  },
  {
   "cell_type": "markdown",
   "metadata": {
    "id": "cWPbHuDbVzVG"
   },
   "source": [
    "## 3.1 Model parameter estimation\n",
    "Let us start with model parameter estimation. To this end, we go back to the outlook from the first notebook. There, we calculated the kurtosis and skewness for the different characteristics and species. We observed that the characteristic *slength* from of the species *iris virginica* has a kurtosis and skewness close to zero. We therefore concluded that a Gaussian model would probably be suitable. (We will see how to further justify that tomorrow) \n",
    "Let us  estimate the mean and standard deviation of the model."
   ]
  },
  {
   "cell_type": "code",
   "execution_count": 14,
   "metadata": {
    "colab": {
     "base_uri": "https://localhost:8080/"
    },
    "executionInfo": {
     "elapsed": 574,
     "status": "ok",
     "timestamp": 1629967934685,
     "user": {
      "displayName": "Anja Mühlemann",
      "photoUrl": "https://lh3.googleusercontent.com/a-/AOh14GhwhHexcG2jbw7iRoG_jTJDhebm4W6zC_tS4dTcqQ=s64",
      "userId": "13180139022750424409"
     },
     "user_tz": -120
    },
    "id": "EHC4Q_mOVspZ",
    "outputId": "ffcfee5f-ce35-4fd0-f4b7-72fd6a6b4e44"
   },
   "outputs": [
    {
     "name": "stdout",
     "output_type": "stream",
     "text": [
      "6.587999999999998 0.635879593274432\n"
     ]
    }
   ],
   "source": [
    "# Estimation of mean and standard deviation\n",
    "df_virginica=df[df['species']=='Iris-virginica']\n",
    "from scipy.stats import norm\n",
    "mean  = df_virginica['slength'].mean()\n",
    "sd = df_virginica['slength'].std()\n",
    "print(mean,sd)\n"
   ]
  },
  {
   "cell_type": "markdown",
   "metadata": {
    "id": "jT_04i14cuDM"
   },
   "source": [
    "So we get a mean of about 6.59 and a standard deviation of 0.64. Now let us see how the histogram of *slength* of *iris virginica* looks compared to our estimated model."
   ]
  },
  {
   "cell_type": "code",
   "execution_count": 5,
   "metadata": {
    "colab": {
     "base_uri": "https://localhost:8080/",
     "height": 281
    },
    "executionInfo": {
     "elapsed": 7,
     "status": "ok",
     "timestamp": 1629967937746,
     "user": {
      "displayName": "Anja Mühlemann",
      "photoUrl": "https://lh3.googleusercontent.com/a-/AOh14GhwhHexcG2jbw7iRoG_jTJDhebm4W6zC_tS4dTcqQ=s64",
      "userId": "13180139022750424409"
     },
     "user_tz": -120
    },
    "id": "2cM7b2eiYwbK",
    "outputId": "7208215b-b47d-417c-e0df-92bef703a85a"
   },
   "outputs": [
    {
     "data": {
      "image/png": "[encoded data removed]",
      "text/plain": [
       "<Figure size 432x288 with 1 Axes>"
      ]
     },
     "metadata": {
      "needs_background": "light"
     },
     "output_type": "display_data"
    }
   ],
   "source": [
    "# Create figure and axis\n",
    "fig, ax = plt.subplots(1,1)\n",
    "# Create 100 x values and plot the normal pdf for these values\n",
    "#x = np.linspace(norm.ppf(0.01),norm.ppf(0.99), 100)\n",
    "x = np.linspace(4,10,80)\n",
    "ax.plot(x, norm.pdf(x,mean,sd),'b-', lw=2, label='Normed pdf')\n",
    "df_virginica['slength'].plot(kind=\"hist\",fill=False,histtype='step',title='Iris Virginica Setal', label=\"length\", density=\"True\")\n",
    "ax.legend(loc='best', frameon=False)\n",
    "plt.show()"
   ]
  },
  {
   "cell_type": "markdown",
   "metadata": {
    "id": "qlcjT_YeYr7T"
   },
   "source": [
    "Looks ot bad, the right tail of the histogramm is a bit heavier than we would expect from a normal distribution. Let check tomorrow whether a normal model is indeed justified - especially since the sample size is rather small."
   ]
  },
  {
   "cell_type": "markdown",
   "metadata": {
    "id": "hOVBrT0WdjrZ"
   },
   "source": [
    "## 3.2 Confidence intervall\n",
    "At the moment we have no clue on how certain we are about point estimates for the mean and standard deviation we calculated above. Hence, it makes sense to additionally look at the confidence intervals."
   ]
  },
  {
   "cell_type": "code",
   "execution_count": 6,
   "metadata": {
    "colab": {
     "base_uri": "https://localhost:8080/"
    },
    "executionInfo": {
     "elapsed": 336,
     "status": "ok",
     "timestamp": 1629966225387,
     "user": {
      "displayName": "Anja Mühlemann",
      "photoUrl": "https://lh3.googleusercontent.com/a-/AOh14GhwhHexcG2jbw7iRoG_jTJDhebm4W6zC_tS4dTcqQ=s64",
      "userId": "13180139022750424409"
     },
     "user_tz": -120
    },
    "id": "MqZxZqfjhOs5",
    "outputId": "62fe563d-632b-4e79-eea3-911f9059750d"
   },
   "outputs": [
    {
     "data": {
      "text/plain": [
       "(6.4072850193549105, 6.768714980645086)"
      ]
     },
     "execution_count": 6,
     "metadata": {},
     "output_type": "execute_result"
    }
   ],
   "source": [
    "#95%-confidence interval for the mean\n",
    "stats.t.interval(alpha=0.95, df=len(df_virginica['slength'])-1, loc=np.mean(df_virginica['slength']), scale=stats.sem(df_virginica['slength'])) \n"
   ]
  },
  {
   "cell_type": "markdown",
   "metadata": {
    "id": "yFGWWHEgi5Vu"
   },
   "source": [
    "If we already know that our data is normally distributed, we could also use the following code:"
   ]
  },
  {
   "cell_type": "code",
   "execution_count": 7,
   "metadata": {
    "colab": {
     "base_uri": "https://localhost:8080/"
    },
    "executionInfo": {
     "elapsed": 328,
     "status": "ok",
     "timestamp": 1629966420274,
     "user": {
      "displayName": "Anja Mühlemann",
      "photoUrl": "https://lh3.googleusercontent.com/a-/AOh14GhwhHexcG2jbw7iRoG_jTJDhebm4W6zC_tS4dTcqQ=s64",
      "userId": "13180139022750424409"
     },
     "user_tz": -120
    },
    "id": "-o8ihs5Zj5IZ",
    "outputId": "131afe1f-f739-4d14-e50f-24eb9282690a"
   },
   "outputs": [
    {
     "data": {
      "text/plain": [
       "(6.411746407971008, 6.764253592028989)"
      ]
     },
     "execution_count": 7,
     "metadata": {},
     "output_type": "execute_result"
    }
   ],
   "source": [
    "#95%-confidence interval for the when data is normally distirbuted\n",
    "stats.norm.interval(alpha=0.95, loc=np.mean(df_virginica['slength']), scale=stats.sem(df_virginica['slength']))"
   ]
  },
  {
   "cell_type": "markdown",
   "metadata": {
    "id": "LOczDpjAj4m1"
   },
   "source": [
    "We can see that the confidence interval based on the t-distribution is a bit more conservative. But for this example the difference between the two is really small.\n",
    "\n",
    "Unfortunately, there is no Python library that computes the confidence interval of standard deviation, so we have to do it \"by hand\"."
   ]
  },
  {
   "cell_type": "code",
   "execution_count": 11,
   "metadata": {
    "colab": {
     "base_uri": "https://localhost:8080/"
    },
    "executionInfo": {
     "elapsed": 339,
     "status": "ok",
     "timestamp": 1629967162822,
     "user": {
      "displayName": "Anja Mühlemann",
      "photoUrl": "https://lh3.googleusercontent.com/a-/AOh14GhwhHexcG2jbw7iRoG_jTJDhebm4W6zC_tS4dTcqQ=s64",
      "userId": "13180139022750424409"
     },
     "user_tz": -120
    },
    "id": "X6E1O5idl5Cu",
    "outputId": "b96b66fd-7621-4f3a-97b0-74d84d2b68b2"
   },
   "outputs": [
    {
     "data": {
      "text/plain": [
       "(0.5311718507243312, 0.7923907741872332)"
      ]
     },
     "execution_count": 11,
     "metadata": {},
     "output_type": "execute_result"
    }
   ],
   "source": [
    "# confidence intervall for the standard deviation of normally distributed data\n",
    "alpha = 0.05  # significance level = 5%\n",
    "n = len(df_virginica['slength'])  # sample sizes\n",
    "s2 = np.var(df_virginica['slength'], ddof=1)   # sample variance\n",
    "df = n - 1                 # degrees of freedom\n",
    "\n",
    "upper = np.sqrt((n - 1) * s2 / stats.chi2.ppf(alpha / 2, df))\n",
    "lower = np.sqrt((n - 1) * s2 / stats.chi2.ppf(1 - alpha / 2, df))\n",
    "(lower, upper)"
   ]
  },
  {
   "cell_type": "markdown",
   "metadata": {
    "id": "yFHy-HgEnVTI"
   },
   "source": [
    "Try to calculate the confidence intervals for the other 2 species.\n",
    "\n",
    "You can find more on confidence intervals under https://aegis4048.github.io/comprehensive_confidence_intervals_for_python_developers#chi_square\n",
    "I found this Link quite helpful :)"
   ]
  },
  {
   "cell_type": "markdown",
   "metadata": {
    "id": "ldd4t9BUHZ9y"
   },
   "source": [
    "## 3.1 About linear Regression\n",
    "\n",
    "(Simple) linear regression means fitting a straight line to data a set of points (x,y). You may consider this as the simplest case of Machine Learning (see Module 3). A line is described as\n",
    "\n",
    "$$y = ax + b$$\n",
    "\n",
    "Thus two parameters a (slope) and b (intersection with y axis) are fitted.\n",
    "\n",
    "There are different fitting methods, mostly least squares or maximum likelihood are used. See the lecture for some introduction to these two methods. \n"
   ]
  },
  {
   "cell_type": "markdown",
   "metadata": {
    "id": "tCRukbUyHZ9z"
   },
   "source": [
    "## Linear regression in Python"
   ]
  },
  {
   "cell_type": "markdown",
   "metadata": {
    "id": "vVN3HiA_HZ98"
   },
   "source": [
    "In notebook 1 we observed that there seems to be a rather strong correlation between slength-swidth in the setosa species. Let us further investigate this observation via linear regression. We use https://docs.scipy.org/doc/scipy/reference/generated/scipy.stats.linregress.html, using least squares. "
   ]
  },
  {
   "cell_type": "code",
   "execution_count": 20,
   "metadata": {
    "colab": {
     "base_uri": "https://localhost:8080/"
    },
    "executionInfo": {
     "elapsed": 335,
     "status": "ok",
     "timestamp": 1629968424018,
     "user": {
      "displayName": "Anja Mühlemann",
      "photoUrl": "https://lh3.googleusercontent.com/a-/AOh14GhwhHexcG2jbw7iRoG_jTJDhebm4W6zC_tS4dTcqQ=s64",
      "userId": "13180139022750424409"
     },
     "user_tz": -120
    },
    "id": "37bwidp9ZR9Y",
    "outputId": "eb51616e-089e-47e2-ed51-ea91748466f3"
   },
   "outputs": [
    {
     "name": "stdout",
     "output_type": "stream",
     "text": [
      "0.8072336651226962 -0.6230117276042177\n",
      "                                 OLS Regression Results                                \n",
      "=======================================================================================\n",
      "Dep. Variable:                slength   R-squared (uncentered):                   0.995\n",
      "Model:                            OLS   Adj. R-squared (uncentered):              0.994\n",
      "Method:                 Least Squares   F-statistic:                              8892.\n",
      "Date:                Wed, 01 Sep 2021   Prob (F-statistic):                    4.54e-57\n",
      "Time:                        12:25:56   Log-Likelihood:                         -21.436\n",
      "No. Observations:                  50   AIC:                                      44.87\n",
      "Df Residuals:                      49   BIC:                                      46.79\n",
      "Df Model:                           1                                                  \n",
      "Covariance Type:            nonrobust                                                  \n",
      "==============================================================================\n",
      "                 coef    std err          t      P>|t|      [0.025      0.975]\n",
      "------------------------------------------------------------------------------\n",
      "swidth         1.4553      0.015     94.295      0.000       1.424       1.486\n",
      "==============================================================================\n",
      "Omnibus:                        1.351   Durbin-Watson:                   2.096\n",
      "Prob(Omnibus):                  0.509   Jarque-Bera (JB):                0.599\n",
      "Skew:                           0.131   Prob(JB):                        0.741\n",
      "Kurtosis:                       3.468   Cond. No.                         1.00\n",
      "==============================================================================\n",
      "\n",
      "Notes:\n",
      "[1] R² is computed without centering (uncentered) since the model does not contain a constant.\n",
      "[2] Standard Errors assume that the covariance matrix of the errors is correctly specified.\n"
     ]
    }
   ],
   "source": [
    "df_setosa = df[df['species']=='Iris-setosa']\n",
    "slengths = df_setosa['slength']\n",
    "swidths  = df_setosa['swidth']\n",
    "slope, intercept, r_value, p_value, std_err = stats.linregress(slengths,swidths)\n",
    "print (slope, intercept)\n",
    "stats.linregress(slengths,swidths)\n",
    "\n",
    "from pandas import DataFrame\n",
    "import statsmodels.api as sm\n",
    "model = sm.OLS(slengths, swidths).fit()\n",
    "predictions = model.predict(swidths) \n",
    "\n",
    "print_model = model.summary()\n",
    "print(print_model)"
   ]
  },
  {
   "cell_type": "markdown",
   "metadata": {
    "id": "j-8oRlJ5yjs2"
   },
   "source": [
    "Slope estimate +/- standard error."
   ]
  },
  {
   "cell_type": "code",
   "execution_count": null,
   "metadata": {
    "colab": {
     "base_uri": "https://localhost:8080/"
    },
    "executionInfo": {
     "elapsed": 352,
     "status": "ok",
     "timestamp": 1629970246007,
     "user": {
      "displayName": "Anja Mühlemann",
      "photoUrl": "https://lh3.googleusercontent.com/a-/AOh14GhwhHexcG2jbw7iRoG_jTJDhebm4W6zC_tS4dTcqQ=s64",
      "userId": "13180139022750424409"
     },
     "user_tz": -120
    },
    "id": "0VPP4xJhyh3K",
    "outputId": "7b9e9ccf-e3fc-4b7d-b676-61b81ce05856"
   },
   "outputs": [],
   "source": [
    "print ('%1.2f +- %1.2f' % (slope,std_err))"
   ]
  },
  {
   "cell_type": "markdown",
   "metadata": {
    "id": "KWnUMLNuHZ-C"
   },
   "source": [
    " To get the coefficient of determination $R^2$, i.e. the proportion of the variation in the $y$ that is predictable from the $x$. "
   ]
  },
  {
   "cell_type": "code",
   "execution_count": null,
   "metadata": {
    "colab": {
     "base_uri": "https://localhost:8080/"
    },
    "executionInfo": {
     "elapsed": 470,
     "status": "ok",
     "timestamp": 1629968807111,
     "user": {
      "displayName": "Anja Mühlemann",
      "photoUrl": "https://lh3.googleusercontent.com/a-/AOh14GhwhHexcG2jbw7iRoG_jTJDhebm4W6zC_tS4dTcqQ=s64",
      "userId": "13180139022750424409"
     },
     "user_tz": -120
    },
    "id": "6bCN6tOXHZ-D",
    "outputId": "a9114941-d97c-4135-875f-abfbf7f20a2e"
   },
   "outputs": [],
   "source": [
    "(\"r-squared:\", r_value**2)"
   ]
  },
  {
   "cell_type": "markdown",
   "metadata": {
    "id": "V3BFeEvyHZ-J"
   },
   "source": [
    "Let's look at the scatter plot to see if this makes sense."
   ]
  },
  {
   "cell_type": "code",
   "execution_count": null,
   "metadata": {
    "colab": {
     "base_uri": "https://localhost:8080/",
     "height": 283
    },
    "executionInfo": {
     "elapsed": 397,
     "status": "ok",
     "timestamp": 1629968428049,
     "user": {
      "displayName": "Anja Mühlemann",
      "photoUrl": "https://lh3.googleusercontent.com/a-/AOh14GhwhHexcG2jbw7iRoG_jTJDhebm4W6zC_tS4dTcqQ=s64",
      "userId": "13180139022750424409"
     },
     "user_tz": -120
    },
    "id": "b4ZfkosnHZ-J",
    "outputId": "ccaee60b-77b8-4129-adb9-fa22654f72a8"
   },
   "outputs": [],
   "source": [
    "ax = df_setosa.plot(x='slength',y='swidth',kind=\"scatter\",c='c')\n",
    "plt.plot(slengths, intercept + slope*slengths, 'b', label='Fitted treated line')\n",
    "plt.show()"
   ]
  },
  {
   "cell_type": "markdown",
   "metadata": {
    "id": "4h0bIb7lHZ-h"
   },
   "source": [
    "The fit looks okay but there is some variation in the sample. How about the other species? \n",
    "\n",
    "We now have a model, a straight line, whose shape we have chosen, but whose parameters (slope and intersection) have been estimated/fitted from data with the least squares method. It tells us that $swidth$ of a leaf is $slength \\times slope$ $(f(slength) = a \\times slope)$. So we can do interpolation and extrapolation, i.e. get the swidth at any slength.\n",
    "\n",
    "\n"
   ]
  },
  {
   "cell_type": "markdown",
   "metadata": {
    "id": "9EW2fVflHZ-i"
   },
   "source": [
    "### Example Exponential p.d.f.\n",
    "\n",
    "With scale $\\beta$ and location $\\mu$\n",
    "\n",
    "$$f(x)=\\frac{1}{\\beta} e^{-(x-\\mu)/\\beta}     ,  x \\ge \\mu;\\beta>0$$"
   ]
  },
  {
   "cell_type": "code",
   "execution_count": null,
   "metadata": {
    "colab": {
     "base_uri": "https://localhost:8080/",
     "height": 283
    },
    "executionInfo": {
     "elapsed": 357,
     "status": "ok",
     "timestamp": 1629969003115,
     "user": {
      "displayName": "Anja Mühlemann",
      "photoUrl": "https://lh3.googleusercontent.com/a-/AOh14GhwhHexcG2jbw7iRoG_jTJDhebm4W6zC_tS4dTcqQ=s64",
      "userId": "13180139022750424409"
     },
     "user_tz": -120
    },
    "id": "6eu7CsUFHZ-j",
    "outputId": "78b3bbfa-1110-4c76-fcd5-252c0b1743a4"
   },
   "outputs": [],
   "source": [
    "# Let us fit data to an exponential distribution\n",
    "fig, ax = plt.subplots(1, 1)\n",
    "# First generate a data set from a exponential distribution\n",
    "x = stats.expon.rvs(0.0,0.5,size=100) #  scale = 0.5, location = 0.00, 100 variates\n",
    "ax.hist(x, density=True, histtype='stepfilled', alpha=0.2)\n",
    "# Fit scale and location to the histogram/data\n",
    "loc, scale = stats.expon.fit(x) # ML estimator scale, lambda * exp(-lambda * x), scale =1/lambda\n",
    "print(' Location = %1.2f , Scale = %1.2f' % (loc,scale)) \n",
    "plt.show()"
   ]
  },
  {
   "cell_type": "markdown",
   "metadata": {
    "id": "OGXrcmQnHZ-o"
   },
   "source": [
    "If you run this code serval times, you'll observe that sometimes th fit is rather poor. Here, we know the true underlying distribution but in general we don't. Thus, it would be helpful to know the uncertainties on the fitted values. The curve_fit method below also returns the uncertainties."
   ]
  },
  {
   "cell_type": "markdown",
   "metadata": {
    "id": "rzjGIJouHZ-p"
   },
   "source": [
    "## 3.2 Non-linear regression\n",
    "\n",
    "If a line is not straight it is curved. There are many mathematical functions whose parameters we can try to fit to experimental data points. Some examples: Polynominals (first order is linear regression, second order is a parabola etc), exponential functions, normal function, sindoial wave function etc. You need to choose an approriate shape/function to obtain a good result. \n",
    "\n",
    "With the Scipy.stat module we can look for preprogrammed functions (in principle you can program your own function whose parameters you want to fit too): https://docs.scipy.org/doc/scipy/reference/stats.html. "
   ]
  },
  {
   "cell_type": "markdown",
   "metadata": {
    "id": "831QxcoRHZ-p"
   },
   "source": [
    "The scipy.optimize module provides a more general non-linear least squares fit. Look at and play with this example. It is complex and you will probably use some time to fully understand every step."
   ]
  },
  {
   "cell_type": "code",
   "execution_count": null,
   "metadata": {
    "colab": {
     "base_uri": "https://localhost:8080/",
     "height": 265
    },
    "executionInfo": {
     "elapsed": 410,
     "status": "ok",
     "timestamp": 1629970086465,
     "user": {
      "displayName": "Anja Mühlemann",
      "photoUrl": "https://lh3.googleusercontent.com/a-/AOh14GhwhHexcG2jbw7iRoG_jTJDhebm4W6zC_tS4dTcqQ=s64",
      "userId": "13180139022750424409"
     },
     "user_tz": -120
    },
    "id": "1wsB4y-wHZ-q",
    "outputId": "5dff26cc-78cb-4d44-de7b-350dd428551b"
   },
   "outputs": [],
   "source": [
    "from scipy.optimize import curve_fit\n",
    "\n",
    "def func(x, a, b, c):\n",
    "     return a * np.exp(-b * x) + c\n",
    "\n",
    "xdata = np.linspace(0, 4, 50) # \n",
    "y = func(xdata, 2.5, 1.3, 0.5)\n",
    "plt.plot(xdata, y, 'g-', label='Generated data')\n",
    "np.random.seed(1729)\n",
    "y_noise = 0.2 * np.random.normal(size=xdata.size)\n",
    "ydata = y + y_noise\n",
    "plt.plot(xdata, ydata, 'bo', label='Generated data with noise')\n",
    "plt.legend()\n",
    "plt.show()"
   ]
  },
  {
   "cell_type": "markdown",
   "metadata": {
    "id": "EssTbnMBvvI7"
   },
   "source": [
    "Let's fit the curve."
   ]
  },
  {
   "cell_type": "code",
   "execution_count": null,
   "metadata": {
    "colab": {
     "base_uri": "https://localhost:8080/",
     "height": 315
    },
    "executionInfo": {
     "elapsed": 6,
     "status": "ok",
     "timestamp": 1629970070122,
     "user": {
      "displayName": "Anja Mühlemann",
      "photoUrl": "https://lh3.googleusercontent.com/a-/AOh14GhwhHexcG2jbw7iRoG_jTJDhebm4W6zC_tS4dTcqQ=s64",
      "userId": "13180139022750424409"
     },
     "user_tz": -120
    },
    "id": "FizQcBT1HZ-v",
    "outputId": "e9df91ba-642e-443d-a1d4-93315a774fdc"
   },
   "outputs": [],
   "source": [
    "popt, pcov = curve_fit(func, xdata, ydata)\n",
    "print(popt)\n",
    "plt.plot(xdata, func(xdata, *popt), 'r-',label= \\\n",
    "         'fit: a=%5.3f +- %5.3f, \\n b=%5.3f +- %5.3f, \\n c=%5.3f +-%5.3f' % \\\n",
    "         (popt[0],perr[0],popt[1],perr[1],popt[2],perr[2]))\n",
    "plt.xlabel('x')\n",
    "plt.ylabel('y')\n",
    "plt.legend()\n",
    "plt.show()\n",
    "# pcov is the covariance matrix. The errors**2 of each parameter are the values on the diagonal.\n",
    "perr = np.sqrt(np.diag(pcov)) # Standard deviation = square root of the variance being on the diagonal of the covariance matrix\n",
    "perr\n"
   ]
  },
  {
   "cell_type": "markdown",
   "metadata": {
    "id": "9e_ZppEZvzi0"
   },
   "source": [
    "Compare it to the data and the true function."
   ]
  },
  {
   "cell_type": "code",
   "execution_count": null,
   "metadata": {
    "colab": {
     "base_uri": "https://localhost:8080/",
     "height": 265
    },
    "executionInfo": {
     "elapsed": 881,
     "status": "ok",
     "timestamp": 1629970074484,
     "user": {
      "displayName": "Anja Mühlemann",
      "photoUrl": "https://lh3.googleusercontent.com/a-/AOh14GhwhHexcG2jbw7iRoG_jTJDhebm4W6zC_tS4dTcqQ=s64",
      "userId": "13180139022750424409"
     },
     "user_tz": -120
    },
    "id": "aOuM_jywv6Vu",
    "outputId": "5b4d0b16-7129-437d-e375-5a3720cd0efa"
   },
   "outputs": [],
   "source": [
    "plt.plot(xdata, y, 'g-', label='true')\n",
    "plt.plot(xdata, func(xdata, *popt), 'r-',label= 'fit')\n",
    "plt.plot(xdata, ydata, 'bo', label='Generated data with noise')\n",
    "plt.legend()\n",
    "plt.show()"
   ]
  },
  {
   "cell_type": "markdown",
   "metadata": {
    "id": "sfYUc2gayS7n"
   },
   "source": [
    "Try to add a bit more noise and rerun the code."
   ]
  },
  {
   "cell_type": "markdown",
   "metadata": {
    "id": "N399vCV4HZ-z"
   },
   "source": [
    "# 3.3 Non-parametric regression\n",
    "\n",
    "So far we have used functions (models) with some predefined model. The parameters we fitted to data. If we have no clue about the model, but a rought idea on the shape non-parametric methods like isotonic regression. However, these require more data as also the exact shape needs to guessed or fitted from the data. So normally a non-parametric method gives poorer results. \n",
    "\n",
    "There are several ways to do this in Python. You make look at this if you are interested:\n",
    "\n",
    "https://pythonhosted.org/PyQt-Fit/NonParam_tut.html"
   ]
  },
  {
   "cell_type": "markdown",
   "metadata": {
    "id": "uxKmRNrRHZ-0"
   },
   "source": [
    "# 3.4 Fitting with scikit-learn\n",
    "\n",
    "When it comes to machine learning, the `scikit-learn` module is much richer than the stats module. You can find extensive documentation with examples in the [user guide](https://scikit-learn.org/stable/user_guide.html)\n",
    "\n",
    "The module contains A LOT of different machine learning methods, and here we will cover only few of them. What is great about `scikit-learn` is that it has a uniform and consistent interface. \n",
    "\n",
    "All the different ML approaches are implemented as classes with a set of same main methods:\n",
    "\n",
    "1. `fitter = ...`: Create object.\n",
    "2. `fitter.fit(x, y[, sample_weight])`: Fit model.\n",
    "3. `y_pred = fitter.predict(X)`: Predict using the model.\n",
    "4. `s = fitter.score(x, y[, sample_weight])`: Return an appropriate measure of model performance.\n",
    "\n",
    "This allows us to easily replace one approach with another and find the best one for the problem at hand, by simply using another regression/classification object, while the rest of the code can remain the same.\n",
    "\n",
    "But you should be careful that there remains some justification! Otherwise you'll overfit. To be sure, you should use an approach like cross validation."
   ]
  },
  {
   "cell_type": "code",
   "execution_count": null,
   "metadata": {
    "executionInfo": {
     "elapsed": 446,
     "status": "ok",
     "timestamp": 1629970756668,
     "user": {
      "displayName": "Anja Mühlemann",
      "photoUrl": "https://lh3.googleusercontent.com/a-/AOh14GhwhHexcG2jbw7iRoG_jTJDhebm4W6zC_tS4dTcqQ=s64",
      "userId": "13180139022750424409"
     },
     "user_tz": -120
    },
    "id": "ezmW4pb2HZ-1"
   },
   "outputs": [],
   "source": [
    "# Let's write a method which can generate a linear dataset\n",
    "# with n_d dimensions and some gaussian noise to it\n",
    "import numpy as np\n",
    "import matplotlib.pyplot as plt\n",
    "\n",
    "def get_linear(n_d=1, n_points=10, w=None, b=None, sigma=5):\n",
    "  x = np.random.uniform(0, 10, size=(n_points, n_d))\n",
    "  \n",
    "  w = w or np.random.uniform(0.1, 10, n_d)\n",
    "  b = b or np.random.uniform(-10, 10)\n",
    "  y = np.dot(x, w) + b + np.random.normal(0, sigma, size=n_points)\n",
    "\n",
    "  print('true w =', w, ';  b =', b)\n",
    "\n",
    "  return x, y"
   ]
  },
  {
   "cell_type": "code",
   "execution_count": null,
   "metadata": {
    "colab": {
     "base_uri": "https://localhost:8080/",
     "height": 301
    },
    "executionInfo": {
     "elapsed": 389,
     "status": "ok",
     "timestamp": 1629970935497,
     "user": {
      "displayName": "Anja Mühlemann",
      "photoUrl": "https://lh3.googleusercontent.com/a-/AOh14GhwhHexcG2jbw7iRoG_jTJDhebm4W6zC_tS4dTcqQ=s64",
      "userId": "13180139022750424409"
     },
     "user_tz": -120
    },
    "id": "GlsmKqA_HZ-7",
    "outputId": "6decfe70-7047-424c-d858-851aa5c3c7a7"
   },
   "outputs": [],
   "source": [
    "# Sample data from a straight line with noise to it \n",
    "x, y = get_linear(n_d=1, n_points=10)\n",
    "plt.plot(x[:, 0], y, '*')"
   ]
  },
  {
   "cell_type": "code",
   "execution_count": null,
   "metadata": {
    "colab": {
     "base_uri": "https://localhost:8080/"
    },
    "executionInfo": {
     "elapsed": 333,
     "status": "ok",
     "timestamp": 1629970937888,
     "user": {
      "displayName": "Anja Mühlemann",
      "photoUrl": "https://lh3.googleusercontent.com/a-/AOh14GhwhHexcG2jbw7iRoG_jTJDhebm4W6zC_tS4dTcqQ=s64",
      "userId": "13180139022750424409"
     },
     "user_tz": -120
    },
    "id": "NbGHUG25Jr_n",
    "outputId": "17519957-eb3c-4ab0-ca65-cc14c3be5712"
   },
   "outputs": [],
   "source": [
    "from sklearn import linear_model\n",
    "reg = linear_model.LinearRegression()\n",
    "reg.fit(x, y)"
   ]
  },
  {
   "cell_type": "code",
   "execution_count": null,
   "metadata": {
    "colab": {
     "base_uri": "https://localhost:8080/"
    },
    "executionInfo": {
     "elapsed": 348,
     "status": "ok",
     "timestamp": 1629970940194,
     "user": {
      "displayName": "Anja Mühlemann",
      "photoUrl": "https://lh3.googleusercontent.com/a-/AOh14GhwhHexcG2jbw7iRoG_jTJDhebm4W6zC_tS4dTcqQ=s64",
      "userId": "13180139022750424409"
     },
     "user_tz": -120
    },
    "id": "94oQqhyTKHlX",
    "outputId": "f8e4cc06-4317-45bf-8e94-e77f0f77eacf"
   },
   "outputs": [],
   "source": [
    "w, w0 = reg.coef_, reg.intercept_\n",
    "print(w, w0)"
   ]
  },
  {
   "cell_type": "markdown",
   "metadata": {
    "id": "QSNozJUJTSFa"
   },
   "source": [
    "scikit-learn does not support calculation of covariance on fitted parameters. That is a pity maybe. However, we can use numpy vectorized methods.\n"
   ]
  },
  {
   "cell_type": "code",
   "execution_count": null,
   "metadata": {
    "colab": {
     "base_uri": "https://localhost:8080/"
    },
    "executionInfo": {
     "elapsed": 342,
     "status": "ok",
     "timestamp": 1629970946137,
     "user": {
      "displayName": "Anja Mühlemann",
      "photoUrl": "https://lh3.googleusercontent.com/a-/AOh14GhwhHexcG2jbw7iRoG_jTJDhebm4W6zC_tS4dTcqQ=s64",
      "userId": "13180139022750424409"
     },
     "user_tz": -120
    },
    "id": "rJIV5pKmUPSz",
    "outputId": "ed8c9b98-e670-4eae-baec-34352919dbd4"
   },
   "outputs": [],
   "source": [
    "np.std(y - reg.predict(x))"
   ]
  },
  {
   "cell_type": "code",
   "execution_count": null,
   "metadata": {
    "colab": {
     "base_uri": "https://localhost:8080/"
    },
    "executionInfo": {
     "elapsed": 7,
     "status": "ok",
     "timestamp": 1629970949415,
     "user": {
      "displayName": "Anja Mühlemann",
      "photoUrl": "https://lh3.googleusercontent.com/a-/AOh14GhwhHexcG2jbw7iRoG_jTJDhebm4W6zC_tS4dTcqQ=s64",
      "userId": "13180139022750424409"
     },
     "user_tz": -120
    },
    "id": "RF6OAUOkUQ9b",
    "outputId": "be93a84b-413d-4f5e-caa1-3a5864bc3ecf"
   },
   "outputs": [],
   "source": [
    "(np.cov(y - reg.predict(x)))**0.5"
   ]
  },
  {
   "cell_type": "code",
   "execution_count": null,
   "metadata": {
    "colab": {
     "base_uri": "https://localhost:8080/",
     "height": 283
    },
    "executionInfo": {
     "elapsed": 428,
     "status": "ok",
     "timestamp": 1629970987766,
     "user": {
      "displayName": "Anja Mühlemann",
      "photoUrl": "https://lh3.googleusercontent.com/a-/AOh14GhwhHexcG2jbw7iRoG_jTJDhebm4W6zC_tS4dTcqQ=s64",
      "userId": "13180139022750424409"
     },
     "user_tz": -120
    },
    "id": "tzWRQdCATrl9",
    "outputId": "33a85bf2-b95b-4b86-eb07-9df2fee9abc6"
   },
   "outputs": [],
   "source": [
    "# Plot the fitted model with plus minus one standard deviation.\n",
    "# Are the data points distributed as expected?\n",
    "plt.scatter(x, y, marker='*')\n",
    "x_f = np.linspace(x.min(), x.max(), 10)\n",
    "y_f = w0 + w[0] * x_f\n",
    "plt.plot(x_f, y_f)\n",
    "plt.plot(x_f, y_f+5.5)\n",
    "plt.plot(x_f, y_f-5.5)"
   ]
  },
  {
   "cell_type": "code",
   "execution_count": null,
   "metadata": {
    "colab": {
     "base_uri": "https://localhost:8080/",
     "height": 502
    },
    "executionInfo": {
     "elapsed": 705,
     "status": "ok",
     "timestamp": 1629970997200,
     "user": {
      "displayName": "Anja Mühlemann",
      "photoUrl": "https://lh3.googleusercontent.com/a-/AOh14GhwhHexcG2jbw7iRoG_jTJDhebm4W6zC_tS4dTcqQ=s64",
      "userId": "13180139022750424409"
     },
     "user_tz": -120
    },
    "id": "JddYy37lHZ-_",
    "outputId": "b34555a6-147a-42fc-9a72-996ce24cc9b6"
   },
   "outputs": [],
   "source": [
    "# Generate data points from a plane with some noise to it (default) \n",
    "n_d = 2\n",
    "x, y = get_linear(n_d=n_d, n_points=100)\n",
    "\n",
    "fig = plt.figure(figsize=(8,8))\n",
    "ax = fig.add_subplot(111, projection='3d')\n",
    "ax.scatter(x[:,0], x[:,1], y, marker='x', color='b',s=40)"
   ]
  },
  {
   "cell_type": "code",
   "execution_count": null,
   "metadata": {
    "colab": {
     "base_uri": "https://localhost:8080/"
    },
    "executionInfo": {
     "elapsed": 339,
     "status": "ok",
     "timestamp": 1629971004160,
     "user": {
      "displayName": "Anja Mühlemann",
      "photoUrl": "https://lh3.googleusercontent.com/a-/AOh14GhwhHexcG2jbw7iRoG_jTJDhebm4W6zC_tS4dTcqQ=s64",
      "userId": "13180139022750424409"
     },
     "user_tz": -120
    },
    "id": "VinHbzEjIBFm",
    "outputId": "1dcf35bf-d585-47da-987a-af9491aae6dc"
   },
   "outputs": [],
   "source": [
    "reg = linear_model.LinearRegression()\n",
    "reg.fit(x, y)"
   ]
  },
  {
   "cell_type": "code",
   "execution_count": null,
   "metadata": {
    "colab": {
     "base_uri": "https://localhost:8080/",
     "height": 484
    },
    "executionInfo": {
     "elapsed": 797,
     "status": "ok",
     "timestamp": 1629971027153,
     "user": {
      "displayName": "Anja Mühlemann",
      "photoUrl": "https://lh3.googleusercontent.com/a-/AOh14GhwhHexcG2jbw7iRoG_jTJDhebm4W6zC_tS4dTcqQ=s64",
      "userId": "13180139022750424409"
     },
     "user_tz": -120
    },
    "id": "pdeRD7-ZTf0A",
    "outputId": "cbce5745-d7f5-41db-cb2f-7054ebd93a55"
   },
   "outputs": [],
   "source": [
    "# When doing ML, it is recommended to split the dataset into a training\n",
    "# and a test set. The training set is used to learn the parameters. The \n",
    "# test set can be used to assess the performance of the trained model \n",
    "# (overfitting and underfitting). sklearn provides a helpful method doing that. \n",
    "\n",
    "from sklearn.model_selection import train_test_split\n",
    "\n",
    "n_d = 2\n",
    "x, y = get_linear(n_d=n_d, n_points=100, sigma=5)\n",
    "\n",
    "# train test split\n",
    "x_train, x_test, y_train, y_test = train_test_split(x, y, test_size=0.2)\n",
    "\n",
    "reg = linear_model.LinearRegression()\n",
    "reg.fit(x_train, y_train)\n",
    "\n",
    "\n",
    "fig = plt.figure(figsize=(8,8))\n",
    "ax = fig.add_subplot(111, projection='3d')\n",
    "ax.scatter(x_train[:,0], x_train[:,1], y_train, marker='x', color='b',s=40)\n",
    "ax.scatter(x_test[:,0], x_test[:,1], y_test, marker='+', color='r',s=80)\n",
    "\n",
    "xx0 = np.linspace(x[:,0].min(), x[:,0].max(), 10)\n",
    "xx1 = np.linspace(x[:,1].min(), x[:,1].max(), 10)\n",
    "xx0, xx1 = [a.flatten() for a in np.meshgrid(xx0, xx1)]\n",
    "xx = np.stack((xx0, xx1), axis=-1)\n",
    "yy = reg.predict(xx)\n",
    "ax.plot_trisurf(xx0, xx1, yy, alpha=0.5, color='g');"
   ]
  },
  {
   "cell_type": "code",
   "execution_count": null,
   "metadata": {
    "colab": {
     "base_uri": "https://localhost:8080/"
    },
    "executionInfo": {
     "elapsed": 416,
     "status": "ok",
     "timestamp": 1629971033347,
     "user": {
      "displayName": "Anja Mühlemann",
      "photoUrl": "https://lh3.googleusercontent.com/a-/AOh14GhwhHexcG2jbw7iRoG_jTJDhebm4W6zC_tS4dTcqQ=s64",
      "userId": "13180139022750424409"
     },
     "user_tz": -120
    },
    "id": "3xw69ZnYY7R2",
    "outputId": "4a1be5c3-f340-4ed7-f120-abbdd5e3f2db"
   },
   "outputs": [],
   "source": [
    "np.std(y-reg.predict(x))"
   ]
  },
  {
   "cell_type": "markdown",
   "metadata": {
    "id": "UAFWFkR4gaAf"
   },
   "source": [
    "## End of notebook\n",
    "\n",
    "We have now seen how to calculate confidence intervals and do linear regression with several python modules. The most popular ML models are implemented in sklearn. We don't have time practicing them in this Module. In Module 3 we will learn and practice deep neural networks.\n",
    "\n",
    "Please post a question about today's content here:\n",
    "\n",
    "https://forms.gle/kUjTJVy2AkqZuFcXA\n",
    "\n",
    "Many thanks and see you tomorrow !\n"
   ]
  },
  {
   "cell_type": "markdown",
   "metadata": {
    "id": "f2sQVIJP0r9B"
   },
   "source": [
    "## Extra - Much used ML performance measures\n",
    "\n",
    "1. Regression:\n",
    "* Mean Square Error (MSE): $mse=\\frac{1}{n}\\sum_i(y_i - \\hat y(\\bar x_i))^2$\n",
    "* Mean Absolute Error (MAE): $mae=\\frac{1}{n}\\sum_i|y_i - \\hat y(\\bar x_i)|$\n",
    "* Median Absolute Deviation (MAD): $mad=median(|y_i - \\hat y(\\bar x_i)|)$\n",
    "* Fraction of the explained variance: $R^2=1-\\frac{\\sum_i(y_i - \\hat y(\\bar x_i))^2}{\\sum_i(y_i - \\bar y_i)^2}$, where $\\bar y=\\frac{1}{n}\\sum_i y_i$\n",
    "\n",
    "2. Classification:\n",
    "* Confusion matrix \n"
   ]
  },
  {
   "cell_type": "markdown",
   "metadata": {
    "id": "QzuLxxBD1kdR"
   },
   "source": [
    "<img src=\"https://github.com/neworldemancer/DSF5/raw/master/figures/confusion_mtr.png\" width=\"60%\"/>"
   ]
  },
  {
   "cell_type": "markdown",
   "metadata": {
    "id": "7E9smfEP1ork"
   },
   "source": [
    "* Accuracy $=\\frac{TP+TN}{TP+FP+FN+TN}$\n",
    "* Precision $=\\frac{TP}{TP+FP}$\n",
    "* Recall $=\\frac{TP}{TP+FN}$\n",
    "* F1 $=2\\frac{Precision \\cdot Recall}{Precision+Recall} = \\frac{2 TP}{2 TP + FP+FN}$\n",
    "* Threat score (TS), or Intersection over Union (IoU): IoU=$\\frac{TP}{TP+FN+FP}$\n",
    "\n",
    "During model optimization the used measure in most cases must be differentiable. To this end usually some measure of similarities of distributions are employed (e.g. cross-entropy)."
   ]
  },
  {
   "cell_type": "markdown",
   "metadata": {
    "id": "U1J7txZf1vCg"
   },
   "source": [
    "## Extra - Predicting House Prices"
   ]
  },
  {
   "cell_type": "code",
   "execution_count": null,
   "metadata": {
    "id": "b7TxGOtf2ZMY"
   },
   "outputs": [],
   "source": [
    "# First write a method loading and cleaning the data\n",
    "def house_prices_dataset(return_df=False, price_max=400000, area_max=40000):     \n",
    "  path = 'https://raw.githubusercontent.com/neworldemancer/DSF5/master/data/AmesHousing.csv'\n",
    "  df = pd.read_csv(path, na_values=('NaN', ''), keep_default_na=False)\n",
    "  df.head()\n",
    "  rename_dict = {k:k.replace(' ', '').replace('/', '') for k in df.keys()}\n",
    "  df.rename(columns=rename_dict, inplace=True)\n",
    "  \n",
    "  useful_fields = ['LotArea',\n",
    "                  'Utilities', 'OverallQual', 'OverallCond',\n",
    "                  'YearBuilt', 'YearRemodAdd', 'ExterQual', 'ExterCond',\n",
    "                  'HeatingQC', 'CentralAir', 'Electrical',\n",
    "                  '1stFlrSF', '2ndFlrSF','GrLivArea',\n",
    "                  'FullBath', 'HalfBath',\n",
    "                  'BedroomAbvGr', 'KitchenAbvGr', 'KitchenQual', 'TotRmsAbvGrd',\n",
    "                  'Functional','PoolArea',\n",
    "                  'YrSold', 'MoSold'\n",
    "                  ]\n",
    "  target_field = 'SalePrice'\n",
    "\n",
    "  df.dropna(axis=0, subset=useful_fields+[target_field], inplace=True)\n",
    "\n",
    "  cleanup_nums = {'Street':      {'Grvl': 0, 'Pave': 1},\n",
    "                  'LotFrontage': {'NA':0},\n",
    "                  'Alley':       {'NA':0, 'Grvl': 1, 'Pave': 2},\n",
    "                  'LotShape':    {'IR3':0, 'IR2': 1, 'IR1': 2, 'Reg':3},\n",
    "                  'Utilities':   {'ELO':0, 'NoSeWa': 1, 'NoSewr': 2, 'AllPub': 3},\n",
    "                  'LandSlope':   {'Sev':0, 'Mod': 1, 'Gtl': 3},\n",
    "                  'ExterQual':   {'Po':0, 'Fa': 1, 'TA': 2, 'Gd': 3, 'Ex':4},\n",
    "                  'ExterCond':   {'Po':0, 'Fa': 1, 'TA': 2, 'Gd': 3, 'Ex':4},\n",
    "                  'BsmtQual':    {'NA':0, 'Po':1, 'Fa': 2, 'TA': 3, 'Gd': 4, 'Ex':5},\n",
    "                  'BsmtCond':    {'NA':0, 'Po':1, 'Fa': 2, 'TA': 3, 'Gd': 4, 'Ex':5},\n",
    "                  'BsmtExposure':{'NA':0, 'No':1, 'Mn': 2, 'Av': 3, 'Gd': 4},\n",
    "                  'BsmtFinType1':{'NA':0, 'Unf':1, 'LwQ': 2, 'Rec': 3, 'BLQ': 4, 'ALQ':5, 'GLQ':6},\n",
    "                  'BsmtFinType2':{'NA':0, 'Unf':1, 'LwQ': 2, 'Rec': 3, 'BLQ': 4, 'ALQ':5, 'GLQ':6},\n",
    "                  'HeatingQC':   {'Po':0, 'Fa': 1, 'TA': 2, 'Gd': 3, 'Ex':4},\n",
    "                  'CentralAir':  {'N':0, 'Y': 1},\n",
    "                  'Electrical':  {'':0, 'NA':0, 'Mix':1, 'FuseP':2, 'FuseF': 3, 'FuseA': 4, 'SBrkr': 5},\n",
    "                  'KitchenQual': {'Po':0, 'Fa': 1, 'TA': 2, 'Gd': 3, 'Ex':4},\n",
    "                  'Functional':  {'Sal':0, 'Sev':1, 'Maj2': 2, 'Maj1': 3, 'Mod': 4, 'Min2':5, 'Min1':6, 'Typ':7},\n",
    "                  'FireplaceQu': {'NA':0, 'Po':1, 'Fa': 2, 'TA': 3, 'Gd': 4, 'Ex':5},\n",
    "                  'PoolQC':      {'NA':0, 'Fa': 1, 'TA': 2, 'Gd': 3, 'Ex':4},\n",
    "                  'Fence':       {'NA':0, 'MnWw': 1, 'GdWo': 2, 'MnPrv': 3, 'GdPrv':4},\n",
    "                  }\n",
    "\n",
    "  df_X = df[useful_fields].copy()                              \n",
    "  df_X.replace(cleanup_nums, inplace=True)  # convert continous categorial variables to numerical\n",
    "  df_Y = df[target_field].copy()\n",
    "\n",
    "  x = df_X.to_numpy().astype(np.float32)\n",
    "  y = df_Y.to_numpy().astype(np.float32)\n",
    "\n",
    "  if price_max>0:\n",
    "    idxs = y<price_max\n",
    "    x = x[idxs]\n",
    "    y = y[idxs]\n",
    "\n",
    "  if area_max>0:\n",
    "    idxs = x[:,0]<area_max\n",
    "    x = x[idxs]\n",
    "    y = y[idxs]\n",
    "\n",
    "  return (x, y, df) if return_df else (x,y)"
   ]
  },
  {
   "cell_type": "code",
   "execution_count": null,
   "metadata": {
    "colab": {
     "base_uri": "https://localhost:8080/",
     "height": 398
    },
    "id": "8gzDWJDd11XC",
    "outputId": "309bdc1a-14a4-4ea0-abf1-f252e58f994d"
   },
   "outputs": [],
   "source": [
    "# Solution:\n",
    "from sklearn import linear_model\n",
    "from sklearn.model_selection import train_test_split\n",
    "\n",
    "x, y = house_prices_dataset()\n",
    "\n",
    "# 1. make train/test split\n",
    "x_train, x_test, y_train, y_test = train_test_split(x, y, test_size=0.2)\n",
    "\n",
    "# 2. fit the model\n",
    "reg = linear_model.LinearRegression()\n",
    "reg.fit(x_train, y_train)\n",
    "\n",
    "# 3. evaluate MSE, MAD, and R2 on train and test datasets\n",
    "#prediction:\n",
    "y_p_train = reg.predict(x_train)\n",
    "y_p_test = reg.predict(x_test)\n",
    "\n",
    "# mse\n",
    "print('train mse =', np.std(y_train - y_p_train))\n",
    "print('test mse =', np.std(y_test - y_p_test))\n",
    "# mse\n",
    "print('train mae =', np.mean(np.abs(y_train - y_p_train)))\n",
    "print('test mae =', np.mean(np.abs(y_test - y_p_test)))\n",
    "# R2\n",
    "print('train R2 =', reg.score(x_train, y_train))\n",
    "print('test R2 =', reg.score(x_test, y_test))\n",
    "\n",
    "# 4. plot y vs predicted y for test and train parts\n",
    "plt.plot(y_train, y_p_train, 'b.', label='train')\n",
    "plt.plot(y_test, y_p_test, 'r.', label='test')\n",
    "\n",
    "plt.plot([0], [0], 'w.')  # dummy to have origin\n",
    "plt.xlabel('true')\n",
    "plt.ylabel('predicted')\n",
    "plt.gca().set_aspect('equal')\n",
    "plt.legend()"
   ]
  }
 ],
 "metadata": {
  "colab": {
   "collapsed_sections": [],
   "name": "06-CAS-D2-Regression-2021.ipynb",
   "provenance": []
  },
  "kernelspec": {
   "display_name": "Python 3",
   "language": "python",
   "name": "python3"
  },
  "language_info": {
   "codemirror_mode": {
    "name": "ipython",
    "version": 3
   },
   "file_extension": ".py",
   "mimetype": "text/x-python",
   "name": "python",
   "nbconvert_exporter": "python",
   "pygments_lexer": "ipython3",
   "version": "3.8.8"
  }
 },
 "nbformat": 4,
 "nbformat_minor": 1
}
